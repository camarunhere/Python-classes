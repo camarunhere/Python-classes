{
 "cells": [
  {
   "cell_type": "code",
   "execution_count": 1,
   "id": "4e3463bd",
   "metadata": {},
   "outputs": [],
   "source": [
    "###Beautiful_Morning\n"
   ]
  },
  {
   "cell_type": "code",
   "execution_count": 12,
   "id": "6875c3bb",
   "metadata": {},
   "outputs": [
    {
     "name": "stdout",
     "output_type": "stream",
     "text": [
      "Enter a number to check whether it is a Prime or Composite:   9\n",
      "This is a Composite Number\n"
     ]
    }
   ],
   "source": [
    "##Check whether a number is prime or not\n",
    "n=int(input(\"Enter a number to check whether it is a Prime or Composite:   \"))\n",
    "c=0\n",
    "for i in range(2,n):\n",
    "    if n%i==0:\n",
    "        c=+1\n",
    "if c==0:\n",
    "    print(\"This is a Prime Number\")\n",
    "else:\n",
    "    print(\"This is a Composite Number\")\n",
    "        "
   ]
  },
  {
   "cell_type": "code",
   "execution_count": 7,
   "id": "9489935b",
   "metadata": {},
   "outputs": [
    {
     "name": "stdout",
     "output_type": "stream",
     "text": [
      "Enter a number to know a factorial of it:    6\n",
      "720\n"
     ]
    }
   ],
   "source": [
    "###TO Know the factorial of a number\n",
    "n=int(input(\"Enter a number to know a factorial of it:    \"))\n",
    "m=1\n",
    "for i in range(1,n+1):\n",
    "    m=m*i\n",
    "print(m)"
   ]
  },
  {
   "cell_type": "code",
   "execution_count": 15,
   "id": "9e99a7cd",
   "metadata": {},
   "outputs": [
    {
     "name": "stdout",
     "output_type": "stream",
     "text": [
      "Enter a Number to Check whether it is Prime:    9\n",
      "It is not a Prime Number\n"
     ]
    }
   ],
   "source": [
    "n=int(input(\"Enter a Number to Check whether it is Prime:    \"))\n",
    "c=0\n",
    "for i in range(2,n):\n",
    "    if n%i==0:\n",
    "        c=+1\n",
    "if c==0:\n",
    "    print('It is a Prime Number')\n",
    "else:\n",
    "    print('It is not a Prime Number')\n",
    "    "
   ]
  },
  {
   "cell_type": "code",
   "execution_count": 31,
   "id": "85cda5a0",
   "metadata": {},
   "outputs": [
    {
     "name": "stdout",
     "output_type": "stream",
     "text": [
      "List of Prime Numbers For the number:    9\n",
      "The list of prime numbers before this number are\n"
     ]
    },
    {
     "ename": "NameError",
     "evalue": "name 'is_c' is not defined",
     "output_type": "error",
     "traceback": [
      "\u001b[1;31m---------------------------------------------------------------------------\u001b[0m",
      "\u001b[1;31mNameError\u001b[0m                                 Traceback (most recent call last)",
      "\u001b[1;32m~\\AppData\\Local\\Temp\\ipykernel_20372\\1145972181.py\u001b[0m in \u001b[0;36m<module>\u001b[1;34m\u001b[0m\n\u001b[0;32m     11\u001b[0m     \u001b[0mprint\u001b[0m\u001b[1;33m(\u001b[0m\u001b[1;34m'The list of prime numbers before this number are'\u001b[0m\u001b[1;33m)\u001b[0m\u001b[1;33m\u001b[0m\u001b[1;33m\u001b[0m\u001b[0m\n\u001b[0;32m     12\u001b[0m \u001b[1;32mfor\u001b[0m \u001b[0mn\u001b[0m \u001b[1;32min\u001b[0m \u001b[0mrange\u001b[0m\u001b[1;33m(\u001b[0m\u001b[1;36m2\u001b[0m\u001b[1;33m,\u001b[0m\u001b[0mn\u001b[0m\u001b[1;33m+\u001b[0m\u001b[1;36m1\u001b[0m\u001b[1;33m)\u001b[0m\u001b[1;33m:\u001b[0m\u001b[1;33m\u001b[0m\u001b[1;33m\u001b[0m\u001b[0m\n\u001b[1;32m---> 13\u001b[1;33m     \u001b[1;32mif\u001b[0m \u001b[0mis_c\u001b[0m\u001b[1;33m==\u001b[0m\u001b[1;36m0\u001b[0m\u001b[1;33m:\u001b[0m\u001b[1;33m\u001b[0m\u001b[1;33m\u001b[0m\u001b[0m\n\u001b[0m\u001b[0;32m     14\u001b[0m         \u001b[0ml1\u001b[0m\u001b[1;33m.\u001b[0m\u001b[0mappend\u001b[0m\u001b[1;33m(\u001b[0m\u001b[0mn\u001b[0m\u001b[1;33m)\u001b[0m\u001b[1;33m\u001b[0m\u001b[1;33m\u001b[0m\u001b[0m\n\u001b[0;32m     15\u001b[0m \u001b[0mprint\u001b[0m\u001b[1;33m(\u001b[0m\u001b[1;34m'These are the list'\u001b[0m\u001b[1;33m)\u001b[0m\u001b[1;33m\u001b[0m\u001b[1;33m\u001b[0m\u001b[0m\n",
      "\u001b[1;31mNameError\u001b[0m: name 'is_c' is not defined"
     ]
    }
   ],
   "source": [
    "###For getting a list of prime numbers\n",
    "l1=[]\n",
    "n=int(input(\"List of Prime Numbers For the number:    \"))\n",
    "c=0\n",
    "for i in range(2,n):\n",
    "    if n%i==0:\n",
    "        c=+1\n",
    "if c==0:\n",
    "    print('The list of prime numbers upto this number are')\n",
    "else:\n",
    "    print('The list of prime numbers before this number are')\n",
    "for n in range(2,n+1):\n",
    "    if c==0:\n",
    "        l1.append(n)\n",
    "print('These are the list')"
   ]
  },
  {
   "cell_type": "code",
   "execution_count": 29,
   "id": "022116c8",
   "metadata": {},
   "outputs": [
    {
     "name": "stdout",
     "output_type": "stream",
     "text": [
      "Enter a number to see if it is Prime or Not:    -6\n",
      "It is a Prime Number\n"
     ]
    }
   ],
   "source": [
    "n=int(input(\"Enter a number to see if it is Prime or Not:    \"))\n",
    "c=0\n",
    "for i in range(2,n):\n",
    "    if n%i==0:\n",
    "        c=+1\n",
    "if c==0:\n",
    "    print('It is a Prime Number')\n",
    "else :\n",
    "    print('It is not a Prime Number')"
   ]
  },
  {
   "cell_type": "code",
   "execution_count": 26,
   "id": "36830d83",
   "metadata": {},
   "outputs": [
    {
     "name": "stdout",
     "output_type": "stream",
     "text": [
      "Enter a number: 9\n",
      "Prime numbers up to 9 are: [2, 3, 5, 7]\n"
     ]
    }
   ],
   "source": [
    "def is_prime(num):\n",
    "    if num <= 1:\n",
    "        return False\n",
    "    for i in range(2, int(num**0.5) + 1):\n",
    "        if num % i == 0:\n",
    "            return False\n",
    "    return True\n",
    "\n",
    "def print_primes_up_to(n):\n",
    "    primes = []\n",
    "    for num in range(2, n + 1):\n",
    "        if is_prime(num):\n",
    "            primes.append(num)\n",
    "    print(\"Prime numbers up to\", n, \"are:\", primes)\n",
    "\n",
    "# Example usage:\n",
    "number = int(input(\"Enter a number: \"))\n",
    "print_primes_up_to(number)\n"
   ]
  },
  {
   "cell_type": "code",
   "execution_count": 33,
   "id": "54989f19",
   "metadata": {},
   "outputs": [
    {
     "name": "stdout",
     "output_type": "stream",
     "text": [
      "Enter a number to get the list of prime numbers upto it or until before it9\n",
      "Prime Numbers up to  9 are: [2, 3, 5, 7]\n"
     ]
    }
   ],
   "source": [
    "n=int(input(\"Enter a number to get the list of prime numbers upto it or until before it\"))\n",
    "primes=[]\n",
    "for n in range(2,n+1):\n",
    "    is_prime = True\n",
    "    for i in range (2,n):\n",
    "        if n%i==0:\n",
    "            is_prime= False\n",
    "            break\n",
    "    if is_prime:\n",
    "        primes.append(n)\n",
    "print(\"Prime Numbers up to \",n,\"are:\",primes)\n",
    "            "
   ]
  },
  {
   "cell_type": "code",
   "execution_count": null,
   "id": "e00054f0",
   "metadata": {},
   "outputs": [],
   "source": [
    "# Input number from user\n",
    "number = int(input(\"Enter a number: \"))\n",
    "\n",
    "# Prime numbers up to the input number\n",
    "primes = []\n",
    "for num in range(2, number + 1):\n",
    "    is_prime = True\n",
    "    for i in range(2, int(num ** 0.5) + 1):\n",
    "        if num % i == 0:\n",
    "            is_prime = False\n",
    "            break\n",
    "    if is_prime:\n",
    "        primes.append(num)\n",
    "\n",
    "# Print the prime numbers\n",
    "print(\"Prime numbers up to\", number, \"are:\", primes)\n"
   ]
  },
  {
   "cell_type": "code",
   "execution_count": 34,
   "id": "1745dcc0",
   "metadata": {},
   "outputs": [
    {
     "name": "stdout",
     "output_type": "stream",
     "text": [
      "Enter a number: 9\n",
      "Prime numbers up to 9 are: [2, 3, 5, 7]\n"
     ]
    }
   ],
   "source": [
    "# Input number from user\n",
    "number = int(input(\"Enter a number: \"))\n",
    "\n",
    "# Prime numbers up to the input number\n",
    "primes = []\n",
    "for num in range(2, number + 1):\n",
    "    is_prime = True\n",
    "    divisor = 2\n",
    "    while divisor * divisor <= num:\n",
    "        if num % divisor == 0:\n",
    "            is_prime = False\n",
    "        divisor += 1\n",
    "    if is_prime:\n",
    "        primes.append(num)\n",
    "\n",
    "# Print the prime numbers\n",
    "print(\"Prime numbers up to\", number, \"are:\", primes)\n"
   ]
  },
  {
   "cell_type": "code",
   "execution_count": 37,
   "id": "92e7ac6f",
   "metadata": {},
   "outputs": [
    {
     "name": "stdout",
     "output_type": "stream",
     "text": [
      "Enter any Number:100\n",
      "Prime numbers upto 100 are: [2, 3, 5, 7, 11, 13, 17, 19, 23, 29, 31, 37, 41, 43, 47, 53, 59, 61, 67, 71, 73, 79, 83, 89, 97]\n"
     ]
    }
   ],
   "source": [
    "n=int(input(\"Enter any Number:\"))\n",
    "l1=[]\n",
    "for n in range(2,n+1):\n",
    "    is_prime=True\n",
    "    for i in range(2,n):\n",
    "        if n%i==0:\n",
    "            is_prime=False\n",
    "            break\n",
    "    if is_prime:\n",
    "        l1.append(n)\n",
    "print(\"Prime numbers upto\",n,\"are:\",l1)"
   ]
  },
  {
   "cell_type": "code",
   "execution_count": 39,
   "id": "902445f5",
   "metadata": {},
   "outputs": [
    {
     "name": "stdout",
     "output_type": "stream",
     "text": [
      "Enter Any Number:199\n",
      "The Prime Numbers upto 199 are: [2, 3, 5, 7, 11, 13, 17, 19, 23, 29, 31, 37, 41, 43, 47, 53, 59, 61, 67, 71, 73, 79, 83, 89, 97, 101, 103, 107, 109, 113, 127, 131, 137, 139, 149, 151, 157, 163, 167, 173, 179, 181, 191, 193, 197, 199]\n"
     ]
    }
   ],
   "source": [
    "n=int(input(\"Enter Any Number:\"))\n",
    "l1=[]\n",
    "for n in range(2,n+1):\n",
    "    is_prime=True\n",
    "    for i in range(2,n):\n",
    "        if n%i==0:\n",
    "            is_prime=False\n",
    "            break\n",
    "    if is_prime:\n",
    "        l1.append(n)\n",
    "print('The Prime Numbers upto',n,\"are:\",l1)"
   ]
  },
  {
   "cell_type": "code",
   "execution_count": null,
   "id": "66694abd",
   "metadata": {},
   "outputs": [],
   "source": []
  }
 ],
 "metadata": {
  "kernelspec": {
   "display_name": "Python 3 (ipykernel)",
   "language": "python",
   "name": "python3"
  },
  "language_info": {
   "codemirror_mode": {
    "name": "ipython",
    "version": 3
   },
   "file_extension": ".py",
   "mimetype": "text/x-python",
   "name": "python",
   "nbconvert_exporter": "python",
   "pygments_lexer": "ipython3",
   "version": "3.9.13"
  }
 },
 "nbformat": 4,
 "nbformat_minor": 5
}

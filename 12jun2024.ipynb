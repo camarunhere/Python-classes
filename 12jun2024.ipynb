{
 "cells": [
  {
   "cell_type": "code",
   "execution_count": 1,
   "id": "667daa98",
   "metadata": {},
   "outputs": [],
   "source": [
    "##If -elif condition ==> It is used to check more than one or two conditions"
   ]
  },
  {
   "cell_type": "code",
   "execution_count": 2,
   "id": "bed18b82",
   "metadata": {},
   "outputs": [
    {
     "data": {
      "text/plain": [
       "'\\n\\nsyntax for if - else : if exp/condition :\\n                        statement1\\n                        \\n                        .\\n                        \\n                        statementn\\n                        \\n                        \\n                        elif exp/condition:\\n                            statement(s)\\n                        elif exp/condition:\\n                            statement(s)\\n                        \\n                        else :\\n                            statement(s)\\n                        \\n'"
      ]
     },
     "execution_count": 2,
     "metadata": {},
     "output_type": "execute_result"
    }
   ],
   "source": [
    "\"\"\"\n",
    "\n",
    "syntax for if - nested : if exp/condition :\n",
    "                        statement1\n",
    "                        \n",
    "                        .\n",
    "                        \n",
    "                        statementn\n",
    "                        \n",
    "                        \n",
    "                        elif exp/condition:\n",
    "                            statement(s)\n",
    "                        elif exp/condition:\n",
    "                            statement(s)\n",
    "                        \n",
    "                        else :\n",
    "                            statement(s)\n",
    "                        \n",
    "\"\"\""
   ]
  },
  {
   "cell_type": "code",
   "execution_count": 6,
   "id": "ceb542c8",
   "metadata": {},
   "outputs": [
    {
     "name": "stdout",
     "output_type": "stream",
     "text": [
      "Enter an Alphabet: U\n",
      "U is consonant\n"
     ]
    }
   ],
   "source": [
    "###WAP To Read a character from keyboard and check it is a vowel or consonant\n",
    "\n",
    "ch = input('Enter an Alphabet: ')\n",
    "\n",
    "if ch=='a':\n",
    "    print(ch,'is vowel')\n",
    "elif ch=='e':\n",
    "    print(ch,'is vowel')\n",
    "elif ch=='i':\n",
    "    print(ch,'is vowel')\n",
    "elif ch=='o':\n",
    "    print(ch,'is vowel')\n",
    "elif ch=='u':\n",
    "    print(ch,'is vowel')\n",
    "else:\n",
    "    print(ch,'is consonant')\n",
    "\n"
   ]
  },
  {
   "cell_type": "code",
   "execution_count": 5,
   "id": "da0d7ac1",
   "metadata": {},
   "outputs": [
    {
     "name": "stdout",
     "output_type": "stream",
     "text": [
      "Enter an Alphabet: E\n",
      "E is vowel\n"
     ]
    }
   ],
   "source": [
    "##Optimised way of the above program\n",
    "ch = input(\"Enter an Alphabet: \")\n",
    "\n",
    "if ch=='a' or ch=='A':\n",
    "    print(ch,'is vowel')\n",
    "elif ch=='e' or ch=='E':\n",
    "    print(ch,'is vowel')\n",
    "elif ch=='i' or ch=='I':\n",
    "    print(ch,'is vowel')\n",
    "elif ch=='o' or ch=='O':\n",
    "    print(ch,'is vowel')\n",
    "elif ch=='u' or ch=='U':\n",
    "    print(ch,'is vowel')\n",
    "else:\n",
    "    print(ch,'is consonant')"
   ]
  },
  {
   "cell_type": "code",
   "execution_count": 1,
   "id": "5d51556f",
   "metadata": {},
   "outputs": [
    {
     "name": "stdout",
     "output_type": "stream",
     "text": [
      "Enter an Alphabet: j\n",
      "j is consonant\n"
     ]
    }
   ],
   "source": [
    "##Optimised way of the above program\n",
    "ch = input(\"Enter an Alphabet: \")\n",
    "\n",
    "if ch=='a' or ch=='A' or ch=='e' or ch=='E' or ch=='i' or ch=='I'or ch=='o' or ch=='O' or ch=='u' or ch=='U':\n",
    "    print(ch,'is vowel')\n",
    "else:\n",
    "    print(ch,'is consonant')"
   ]
  },
  {
   "cell_type": "code",
   "execution_count": null,
   "id": "b78dab3c",
   "metadata": {},
   "outputs": [],
   "source": [
    "##Shortest way of achieving the above program\n",
    "ch = input('Enter a Character:')\n",
    "\n",
    "if ch in('aeiouAEIOU'):\n",
    "    print(ch,'is vowel')\n",
    "##else :\n",
    "elif ch in('bcdfghjklmnpqrstvwxyzBCDFGHJKLMNPQRSTUVWXYZ'):\n",
    "    print(ch,'is consonant')\n",
    "elif ch==' ':\n",
    "    print(ch,empty)\n",
    "else:\n",
    "    print(ch,'is neither a vowel nor a consonant')"
   ]
  },
  {
   "cell_type": "code",
   "execution_count": 3,
   "id": "90741133",
   "metadata": {},
   "outputs": [
    {
     "name": "stdout",
     "output_type": "stream",
     "text": [
      "Enter the day number: 8\n",
      "The entered number does not represent a day\n"
     ]
    }
   ],
   "source": [
    "##WAP TO print the day based on it's number\n",
    "\n",
    "\n",
    "dayno = int(input(\"Enter the day number: \")) \n",
    "\n",
    "if dayno==1:\n",
    "    print('The day is Monday')\n",
    "elif dayno==2:\n",
    "    print('The day is Tuesday')\n",
    "elif dayno==3:\n",
    "    print('The day is Wednesday')\n",
    "elif dayno==4:\n",
    "    print('The day is Thursday')\n",
    "elif dayno==5:\n",
    "    print('The day is Friday')\n",
    "elif dayno==6:\n",
    "    print('The day is Saturday')\n",
    "elif dayno==7:\n",
    "    print('The day is Sunday')\n",
    "else :\n",
    "    print('The entered number does not represent a day')"
   ]
  },
  {
   "cell_type": "code",
   "execution_count": 4,
   "id": "b2dc1538",
   "metadata": {},
   "outputs": [
    {
     "name": "stdout",
     "output_type": "stream",
     "text": [
      "Enter your country:India\n",
      "Enter your age:17\n",
      "The person is minor to cast the vote\n"
     ]
    }
   ],
   "source": [
    "##Nested_condition ==> Condition inside a condition\n",
    "\n",
    "###WAP To read country of a person and age of a person and check he/she is eligible to cast vote in India\n",
    "\n",
    "country = input(\"Enter your country:\")\n",
    "\n",
    "if country=='India' or country=='india' or country=='INDIA': ##outer condition\n",
    "    age=int(input(\"Enter your age:\"))\n",
    "    if age>=18:\n",
    "        print('The person is eligible to vote')\n",
    "    else:\n",
    "        print('The person is minor to cast the vote')\n",
    "else:\n",
    "    print('The person is not from India to vote')"
   ]
  },
  {
   "cell_type": "code",
   "execution_count": null,
   "id": "a1c5c9b0",
   "metadata": {},
   "outputs": [],
   "source": []
  }
 ],
 "metadata": {
  "kernelspec": {
   "display_name": "Python 3 (ipykernel)",
   "language": "python",
   "name": "python3"
  },
  "language_info": {
   "codemirror_mode": {
    "name": "ipython",
    "version": 3
   },
   "file_extension": ".py",
   "mimetype": "text/x-python",
   "name": "python",
   "nbconvert_exporter": "python",
   "pygments_lexer": "ipython3",
   "version": "3.9.13"
  }
 },
 "nbformat": 4,
 "nbformat_minor": 5
}

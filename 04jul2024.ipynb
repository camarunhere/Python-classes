{
 "cells": [
  {
   "cell_type": "code",
   "execution_count": 1,
   "id": "c58f3e17",
   "metadata": {},
   "outputs": [
    {
     "name": "stdout",
     "output_type": "stream",
     "text": [
      "Does not start with tech\n"
     ]
    }
   ],
   "source": [
    "import re\n",
    "\n",
    "x = \"Python technologies Bangalore\"\n",
    "\n",
    "y = re.match(\"tech\",x)\n",
    "\n",
    "if y:\n",
    "    print(\"Starts with tech\")\n",
    "else:\n",
    "    print(\"Does not start with tech\")"
   ]
  },
  {
   "cell_type": "code",
   "execution_count": 2,
   "id": "6177ffc0",
   "metadata": {},
   "outputs": [
    {
     "name": "stdout",
     "output_type": "stream",
     "text": [
      "Starts with Python\n"
     ]
    }
   ],
   "source": [
    "import re\n",
    "\n",
    "x = \"Python technologies Bangalore\"\n",
    "\n",
    "y = re.match(\"Python\",x)\n",
    "\n",
    "if y:\n",
    "    print(\"Starts with Python\")\n",
    "else:\n",
    "    print(\"Does not start with Python\")"
   ]
  },
  {
   "cell_type": "code",
   "execution_count": 6,
   "id": "30f6b273",
   "metadata": {},
   "outputs": [
    {
     "name": "stdout",
     "output_type": "stream",
     "text": [
      "None\n",
      "Match does not Found\n"
     ]
    }
   ],
   "source": [
    "import re\n",
    "\n",
    "x = \"Python\"\n",
    "\n",
    "y = re.fullmatch(\"P....n\",x)\n",
    "\n",
    "print(y)\n",
    "if y:\n",
    "    print(\"Match Found\")\n",
    "else:\n",
    "    print(\"Match does not Found\")"
   ]
  },
  {
   "cell_type": "code",
   "execution_count": 7,
   "id": "1f6c80b6",
   "metadata": {},
   "outputs": [
    {
     "name": "stdout",
     "output_type": "stream",
     "text": [
      "None\n",
      "Match does not Found\n"
     ]
    }
   ],
   "source": [
    "import re\n",
    "\n",
    "x = \"Python\"\n",
    "\n",
    "y = re.fullmatch(\"P....s\",x)\n",
    "\n",
    "print(y)\n",
    "if y:\n",
    "    print(\"Match Found\")\n",
    "else:\n",
    "    print(\"Match does not Found\")"
   ]
  },
  {
   "cell_type": "code",
   "execution_count": 8,
   "id": "5a2ba1c7",
   "metadata": {},
   "outputs": [
    {
     "name": "stdout",
     "output_type": "stream",
     "text": [
      "None\n",
      "Match does not Found\n"
     ]
    }
   ],
   "source": [
    "import re\n",
    "\n",
    "x = \"Python\"\n",
    "\n",
    "y = re.fullmatch(\"P...n\",x)\n",
    "\n",
    "print(y)\n",
    "if y:\n",
    "    print(\"Match Found\")\n",
    "else:\n",
    "    print(\"Match does not Found\")"
   ]
  },
  {
   "cell_type": "code",
   "execution_count": 9,
   "id": "0cb91cc1",
   "metadata": {},
   "outputs": [],
   "source": [
    "import re"
   ]
  },
  {
   "cell_type": "code",
   "execution_count": 40,
   "id": "7572c8cd",
   "metadata": {},
   "outputs": [
    {
     "name": "stdout",
     "output_type": "stream",
     "text": [
      "Enter your mobile number:+91-7207756888\n",
      "This is Indian Mobile Number +91-7207756888\n"
     ]
    }
   ],
   "source": [
    "x = input(\"Enter your mobile number:\")\n",
    "\n",
    "y = re.match(\"^\\+91-[6-9]\\d{9}$\",x)\n",
    "\n",
    "if y:\n",
    "    print(\"This is Indian Mobile Number\",y.group())\n",
    "else:\n",
    "    print(\"Enter a valid number\")"
   ]
  },
  {
   "cell_type": "code",
   "execution_count": 16,
   "id": "fe60d725",
   "metadata": {},
   "outputs": [
    {
     "name": "stdout",
     "output_type": "stream",
     "text": [
      "IAM f1 override\n",
      "Iam Normal f2 method\n"
     ]
    }
   ],
   "source": [
    "from abc import ABC,abstractmethod\n",
    "\n",
    "class A(ABC):\n",
    "    @abstractmethod\n",
    "    def f1(self):\n",
    "        pass\n",
    "    def f2(self):\n",
    "        print(\"Iam Normal f2 method\")\n",
    "\n",
    "class B(A):\n",
    "    def f1(self):\n",
    "        print(\"IAM f1 override\")\n",
    "b1 = B()\n",
    "b1.f1()\n",
    "b1.f2()"
   ]
  },
  {
   "cell_type": "code",
   "execution_count": 25,
   "id": "2ad9043d",
   "metadata": {},
   "outputs": [
    {
     "name": "stdout",
     "output_type": "stream",
     "text": [
      "Enter your PAN Number: NKVPS8873R\n",
      "Enter a valid PAN Number\n"
     ]
    }
   ],
   "source": [
    "import re\n",
    "\n",
    "a = input(\"Enter your PAN Number: \")\n",
    "\n",
    "b = re.match(('^[A-Z]{5}[0-9]{4}[A-Z]$'), a)\n",
    "\n",
    "if b:\n",
    "    print(\"Your PAN is valid.\",b.group())\n",
    "else:\n",
    "    print(\"Enter a valid PAN Number.\")\n"
   ]
  },
  {
   "cell_type": "code",
   "execution_count": 46,
   "id": "e0a8b5f4",
   "metadata": {},
   "outputs": [
    {
     "name": "stdout",
     "output_type": "stream",
     "text": [
      "Enter your Voter ID number: ABC1234567\n",
      "Your vote is registered succefully ABC1234567\n"
     ]
    }
   ],
   "source": [
    "v = input(\"Enter your Voter ID number: \")\n",
    "\n",
    "c = re.match('^[A-Z]{3}[0-9]{7}$',v)\n",
    "\n",
    "if c:\n",
    "    print(\"Your vote is registered succefully\",c.group())\n",
    "else:\n",
    "    print(\"Your vote might not be registered or Enter a valid Number \")"
   ]
  },
  {
   "cell_type": "code",
   "execution_count": 53,
   "id": "23bdf6fe",
   "metadata": {},
   "outputs": [
    {
     "name": "stdout",
     "output_type": "stream",
     "text": [
      "Enter your Vehicle Registration Number: AP39 FC 5202\n",
      "This is the Vehcicle Registration Number AP39 FC 5202\n"
     ]
    }
   ],
   "source": [
    "r = input(\"Enter your Vehicle Registration Number: \")\n",
    "\n",
    "c = re.match('^[A-Z]{2}[0-9]{2}\\s[A-Z]{2}\\s[0-9]{4}$',r)\n",
    "\n",
    "if c:\n",
    "    print(\"This is the Vehcicle Registration Number\",c.group())\n",
    "else:\n",
    "    print(\"Enter a Valid Registration Number\")"
   ]
  },
  {
   "cell_type": "code",
   "execution_count": 54,
   "id": "2bd61d76",
   "metadata": {},
   "outputs": [
    {
     "name": "stdout",
     "output_type": "stream",
     "text": [
      "Enter your Vehicle Registration Number: AP39 FC 5202\n",
      "This is the Vehcicle Registration Number AP39 FC 5202\n"
     ]
    }
   ],
   "source": [
    "r = input(\"Enter your Vehicle Registration Number: \")\n",
    "\n",
    "c = re.match(\"^[A-Z]{2}[0-9]{2}\\s[A-Z]{2}\\s[0-9]{4}$\",r)\n",
    "\n",
    "if c:\n",
    "    print(\"This is the Vehcicle Registration Number\",c.group())\n",
    "else:\n",
    "    print(\"Enter a Valid Registration Number\")"
   ]
  },
  {
   "cell_type": "code",
   "execution_count": null,
   "id": "b80706ef",
   "metadata": {},
   "outputs": [],
   "source": []
  },
  {
   "cell_type": "code",
   "execution_count": null,
   "id": "3b4db9b9",
   "metadata": {},
   "outputs": [],
   "source": []
  }
 ],
 "metadata": {
  "kernelspec": {
   "display_name": "Python 3 (ipykernel)",
   "language": "python",
   "name": "python3"
  },
  "language_info": {
   "codemirror_mode": {
    "name": "ipython",
    "version": 3
   },
   "file_extension": ".py",
   "mimetype": "text/x-python",
   "name": "python",
   "nbconvert_exporter": "python",
   "pygments_lexer": "ipython3",
   "version": "3.9.13"
  }
 },
 "nbformat": 4,
 "nbformat_minor": 5
}

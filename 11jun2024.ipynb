{
 "cells": [
  {
   "cell_type": "code",
   "execution_count": 1,
   "id": "585d0e0d",
   "metadata": {},
   "outputs": [],
   "source": [
    "#Dictionary is used to store key-value pair\n",
    "#Key must be unique , values can be duplicated\n",
    "#It is created using {} , inside {} there must be a key & value otherwise it would be considered as a set"
   ]
  },
  {
   "cell_type": "code",
   "execution_count": 7,
   "id": "7aec399c",
   "metadata": {},
   "outputs": [
    {
     "name": "stdout",
     "output_type": "stream",
     "text": [
      "{'empName': 'Nolan', 'empId': 101, 'empEmail': 'nolancreations@gmail.com', 'empSal': 300000, 100: 'Emergency Number'}\n",
      "<class 'dict'>\n"
     ]
    }
   ],
   "source": [
    "#How to create dictionary\n",
    "\n",
    "\n",
    "Employee_Details = {\n",
    "    'empName' : 'Nolan',\n",
    "    'empId' : 101,\n",
    "    'empEmail' : 'nolancreations@gmail.com',\n",
    "    'empSal' : 300000,\n",
    "    100 : 'Emergency Number'\n",
    "}\n",
    "\n",
    "print(Employee_Details)\n",
    "print(type(Employee_Details))"
   ]
  },
  {
   "cell_type": "code",
   "execution_count": 3,
   "id": "b902b760",
   "metadata": {},
   "outputs": [
    {
     "name": "stdout",
     "output_type": "stream",
     "text": [
      "300000\n"
     ]
    }
   ],
   "source": [
    "print(Employee_Details['empSal'])"
   ]
  },
  {
   "cell_type": "code",
   "execution_count": 6,
   "id": "6665c88c",
   "metadata": {},
   "outputs": [
    {
     "ename": "KeyError",
     "evalue": "'empDept'",
     "output_type": "error",
     "traceback": [
      "\u001b[1;31m---------------------------------------------------------------------------\u001b[0m",
      "\u001b[1;31mKeyError\u001b[0m                                  Traceback (most recent call last)",
      "\u001b[1;32m~\\AppData\\Local\\Temp\\ipykernel_30832\\3454978195.py\u001b[0m in \u001b[0;36m<module>\u001b[1;34m\u001b[0m\n\u001b[1;32m----> 1\u001b[1;33m \u001b[0mprint\u001b[0m\u001b[1;33m(\u001b[0m\u001b[0mEmployee_Details\u001b[0m\u001b[1;33m[\u001b[0m\u001b[1;34m'empDept'\u001b[0m\u001b[1;33m]\u001b[0m\u001b[1;33m)\u001b[0m\u001b[1;33m\u001b[0m\u001b[1;33m\u001b[0m\u001b[0m\n\u001b[0m",
      "\u001b[1;31mKeyError\u001b[0m: 'empDept'"
     ]
    }
   ],
   "source": [
    "print(Employee_Details['empDept'])"
   ]
  },
  {
   "cell_type": "code",
   "execution_count": 9,
   "id": "54e64ac9",
   "metadata": {},
   "outputs": [
    {
     "ename": "KeyError",
     "evalue": "300000",
     "output_type": "error",
     "traceback": [
      "\u001b[1;31m---------------------------------------------------------------------------\u001b[0m",
      "\u001b[1;31mKeyError\u001b[0m                                  Traceback (most recent call last)",
      "\u001b[1;32m~\\AppData\\Local\\Temp\\ipykernel_30832\\2265106397.py\u001b[0m in \u001b[0;36m<module>\u001b[1;34m\u001b[0m\n\u001b[1;32m----> 1\u001b[1;33m \u001b[0mprint\u001b[0m\u001b[1;33m(\u001b[0m\u001b[0mEmployee_Details\u001b[0m\u001b[1;33m[\u001b[0m\u001b[1;36m300000\u001b[0m\u001b[1;33m]\u001b[0m\u001b[1;33m)\u001b[0m\u001b[1;33m\u001b[0m\u001b[1;33m\u001b[0m\u001b[0m\n\u001b[0m",
      "\u001b[1;31mKeyError\u001b[0m: 300000"
     ]
    }
   ],
   "source": [
    "print(Employee_Details[300000])"
   ]
  },
  {
   "cell_type": "code",
   "execution_count": 16,
   "id": "49845ccb",
   "metadata": {},
   "outputs": [
    {
     "name": "stdout",
     "output_type": "stream",
     "text": [
      "{'empName': 'Christopher Nolan', 'empId': 101, 'empEmail': 'nolancreations@gmail.com', 'empSal': 300000, 100: 'Emergency Number', 'empDept': 'Developer'}\n",
      "{'empName': 'Christopher Nolan', 'empId': 101, 'empEmail': 'nolancreations@gmail.com', 'empSal': 300000, 100: 'Emergency Number', 'empDept': 'Developer'}\n"
     ]
    }
   ],
   "source": [
    "#How to modify / update existing dictionary\n",
    "\n",
    "Employee_Details['empName'] = 'Christopher Nolan'\n",
    "\n",
    "print(Employee_Details)\n",
    "\n",
    "\n",
    "#Adding new key value pair for an existing dictionary\n",
    "Employee_Details['empDept'] = 'Developer'\n",
    "\n",
    "print(Employee_Details)"
   ]
  },
  {
   "cell_type": "code",
   "execution_count": 19,
   "id": "4534aa56",
   "metadata": {},
   "outputs": [
    {
     "data": {
      "text/plain": [
       "'\\n\\nsyntax for if : if exp/condition :\\n                        statement1\\n                        \\n                        .\\n                        \\n                        statementn\\n                        \\n'"
      ]
     },
     "execution_count": 19,
     "metadata": {},
     "output_type": "execute_result"
    }
   ],
   "source": [
    "#Python_Conditional_Statements\n",
    "#1. if\n",
    "#2. if - else\n",
    "#3. if - elif\n",
    "#4. nested if\n",
    "\"\"\"\n",
    "\n",
    "syntax for if : if exp/condition :\n",
    "                        statement1\n",
    "                        \n",
    "                        .\n",
    "                        \n",
    "                        statementn\n",
    "                        \n",
    "\"\"\""
   ]
  },
  {
   "cell_type": "code",
   "execution_count": 23,
   "id": "d291efc5",
   "metadata": {},
   "outputs": [
    {
     "name": "stdout",
     "output_type": "stream",
     "text": [
      "Enter a number: 18\n",
      "Done\n"
     ]
    }
   ],
   "source": [
    "num = int(input(\"Enter a number: \"))\n",
    "\n",
    "if num==10:\n",
    "    print(num,\"Is equal to 10\")\n",
    "print('Done')"
   ]
  },
  {
   "cell_type": "code",
   "execution_count": null,
   "id": "c6a22b18",
   "metadata": {},
   "outputs": [],
   "source": [
    "\"\"\"\n",
    "\n",
    "syntax for if - else : if exp/condition :\n",
    "                        statement1\n",
    "                        \n",
    "                        .\n",
    "                        \n",
    "                        statementn\n",
    "                        \n",
    "                        else :\n",
    "                            statement(s)\n",
    "                        \n",
    "\"\"\""
   ]
  },
  {
   "cell_type": "code",
   "execution_count": 27,
   "id": "0960cf54",
   "metadata": {},
   "outputs": [
    {
     "name": "stdout",
     "output_type": "stream",
     "text": [
      "Enter any number to know whether it is Even or Odd:  19\n",
      "19 is Odd\n"
     ]
    }
   ],
   "source": [
    "#WAP to read a number from keyboard and check it is even or odd\n",
    "\n",
    "n=int(input(\"Enter any number to know whether it is Even or Odd:  \"))\n",
    "\n",
    "if n%2==0:\n",
    "    print(n,\"is Even\")\n",
    "else :\n",
    "    print(n,\"is Odd\")"
   ]
  },
  {
   "cell_type": "code",
   "execution_count": 33,
   "id": "32fbd7ab",
   "metadata": {},
   "outputs": [
    {
     "name": "stdout",
     "output_type": "stream",
     "text": [
      "Enter any number to get compared with the other number: 19\n",
      "Enter the number that you need to compare with: 10\n",
      "19 is the biggest number\n"
     ]
    }
   ],
   "source": [
    "#WAP To read two numbers from keyboard and check for biggest of number\n",
    "n = int(input(\"Enter any number to get compared with the other number: \"))\n",
    "m = int(input(\"Enter the number that you need to compare with: \"))\n",
    "\n",
    "if n>m:\n",
    "    print(n,\"is the biggest number\")\n",
    "else:\n",
    "    print(m,\"is the biggest number\")"
   ]
  },
  {
   "cell_type": "code",
   "execution_count": 4,
   "id": "3a9786f8",
   "metadata": {},
   "outputs": [
    {
     "name": "stdout",
     "output_type": "stream",
     "text": [
      "Enter your name: arun\n",
      "Enter your Age to check your eligibility for casting vote: 23\n",
      "arun ,You are eligible to cast your vote\n"
     ]
    }
   ],
   "source": [
    "#WAP Read the age of a person and check he/she is eligible for casting vote in India\n",
    "name = str(input(\"Enter your name: \"))\n",
    "Age = int(input(\"Enter your Age to check your eligibility for casting vote: \"))\n",
    "\n",
    "if Age>=18:\n",
    "    print(name,\",You are eligible to cast your vote\")\n",
    "\n",
    "else:\n",
    "    print(name,\",You are not eligible to cast your vote\")"
   ]
  },
  {
   "cell_type": "code",
   "execution_count": null,
   "id": "c4de7d0e",
   "metadata": {},
   "outputs": [],
   "source": []
  },
  {
   "cell_type": "code",
   "execution_count": null,
   "id": "dd5b27c8",
   "metadata": {},
   "outputs": [],
   "source": []
  }
 ],
 "metadata": {
  "kernelspec": {
   "display_name": "Python 3 (ipykernel)",
   "language": "python",
   "name": "python3"
  },
  "language_info": {
   "codemirror_mode": {
    "name": "ipython",
    "version": 3
   },
   "file_extension": ".py",
   "mimetype": "text/x-python",
   "name": "python",
   "nbconvert_exporter": "python",
   "pygments_lexer": "ipython3",
   "version": "3.9.13"
  }
 },
 "nbformat": 4,
 "nbformat_minor": 5
}

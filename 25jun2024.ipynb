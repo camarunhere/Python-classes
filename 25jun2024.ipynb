{
 "cells": [
  {
   "cell_type": "markdown",
   "id": "96418f47",
   "metadata": {},
   "source": []
  },
  {
   "cell_type": "code",
   "execution_count": 3,
   "id": "87e996ff",
   "metadata": {},
   "outputs": [
    {
     "name": "stdout",
     "output_type": "stream",
     "text": [
      "Iam a method in the Parent Class\n",
      "Iam a method in the Child Class\n"
     ]
    }
   ],
   "source": [
    "class A:\n",
    "    def m1(self):\n",
    "        print(\"Iam a method in the Parent Class\")\n",
    "class B(A):\n",
    "    def m2(self):\n",
    "        print(\"Iam a method in the Child Class\")\n",
    "b1 = B()\n",
    "b1.m1()\n",
    "b1.m2()"
   ]
  },
  {
   "cell_type": "code",
   "execution_count": 4,
   "id": "ad76d23c",
   "metadata": {},
   "outputs": [
    {
     "name": "stdout",
     "output_type": "stream",
     "text": [
      "30\n",
      "23\n",
      "6786\n",
      "28.272727272727273\n",
      "This is Sine Method\n",
      "This is Cosine Method\n"
     ]
    }
   ],
   "source": [
    "class Calc:\n",
    "    def add(self,x,y):\n",
    "        print(x+y)\n",
    "    def sub(self,x,y):\n",
    "        print(x-y)\n",
    "    def mul(self,x,y):\n",
    "        print(x*y)\n",
    "    def div(self,x,y):\n",
    "        print(x/y)\n",
    "class SciCalc(Calc):\n",
    "    def sin(self):\n",
    "        print(\"This is Sine Method\")\n",
    "    def cos(self):\n",
    "        print(\"This is Cosine Method\")\n",
    "s1 = SciCalc()\n",
    "s1.add(10,20)\n",
    "s1.sub(54,31)\n",
    "s1.mul(87,78)\n",
    "s1.div(933,33)\n",
    "s1.sin()\n",
    "s1.cos()"
   ]
  },
  {
   "cell_type": "code",
   "execution_count": 7,
   "id": "b9156851",
   "metadata": {},
   "outputs": [
    {
     "name": "stdout",
     "output_type": "stream",
     "text": [
      "Hey, says method one\n",
      "10\n",
      "30\n"
     ]
    }
   ],
   "source": [
    "class A:\n",
    "    x = 10 \n",
    "    def m1(self):\n",
    "        print(\"Hey, says method one\")\n",
    "class B(A):\n",
    "    k = 20\n",
    "    def m2(self):\n",
    "        print(A.x)\n",
    "class C(B):\n",
    "    def m3(self):\n",
    "        print(A.x+B.k)\n",
    "\n",
    "        \n",
    "c = C()\n",
    "c.m1()\n",
    "c.m2()\n",
    "c.m3()"
   ]
  },
  {
   "cell_type": "code",
   "execution_count": null,
   "id": "3e32439c",
   "metadata": {},
   "outputs": [],
   "source": []
  }
 ],
 "metadata": {
  "kernelspec": {
   "display_name": "Python 3 (ipykernel)",
   "language": "python",
   "name": "python3"
  },
  "language_info": {
   "codemirror_mode": {
    "name": "ipython",
    "version": 3
   },
   "file_extension": ".py",
   "mimetype": "text/x-python",
   "name": "python",
   "nbconvert_exporter": "python",
   "pygments_lexer": "ipython3",
   "version": "3.9.13"
  }
 },
 "nbformat": 4,
 "nbformat_minor": 5
}

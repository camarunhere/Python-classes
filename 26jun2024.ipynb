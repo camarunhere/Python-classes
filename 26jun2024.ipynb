{
 "cells": [
  {
   "cell_type": "code",
   "execution_count": 1,
   "id": "057e977e",
   "metadata": {},
   "outputs": [
    {
     "name": "stdout",
     "output_type": "stream",
     "text": [
      "This is Class B constructor\n"
     ]
    }
   ],
   "source": [
    "class A:\n",
    "    def __init__(self):\n",
    "        print(\"This is Class A constructor\")\n",
    "\n",
    "class B(A):\n",
    "    def __init__(self):\n",
    "        print(\"This is Class B constructor\")\n",
    "        \n",
    "b1 = B()"
   ]
  },
  {
   "cell_type": "code",
   "execution_count": 4,
   "id": "c31f4c5b",
   "metadata": {},
   "outputs": [
    {
     "name": "stdout",
     "output_type": "stream",
     "text": [
      "This is Class A constructor\n"
     ]
    }
   ],
   "source": [
    "class A:\n",
    "    def __init__(self):\n",
    "        print(\"This is Class A constructor\")\n",
    "\n",
    "class B(A):\n",
    "        pass\n",
    "        \n",
    "b1 = B()"
   ]
  },
  {
   "cell_type": "code",
   "execution_count": 5,
   "id": "437e92a1",
   "metadata": {},
   "outputs": [
    {
     "name": "stdout",
     "output_type": "stream",
     "text": [
      "This is Class A constructor\n",
      "This is Class B constructor\n",
      "This is Class C constructor\n"
     ]
    }
   ],
   "source": [
    "class A:\n",
    "    def __init__(self):\n",
    "        print(\"This is Class A constructor\")\n",
    "\n",
    "class B(A):\n",
    "    def __init__(self):\n",
    "        print(\"This is Class B constructor\")\n",
    "        \n",
    "class C(B):\n",
    "    def __init__(self):\n",
    "        print(\"This is Class C constructor\")\n",
    "        \n",
    "a1 = A()\n",
    "b1 = B()\n",
    "c1 = C()"
   ]
  },
  {
   "cell_type": "code",
   "execution_count": 6,
   "id": "356bf94a",
   "metadata": {},
   "outputs": [
    {
     "name": "stdout",
     "output_type": "stream",
     "text": [
      "This is Class A constructor\n",
      "This is Class A constructor\n",
      "This is Class A constructor\n"
     ]
    }
   ],
   "source": [
    "class A:\n",
    "    def __init__(self):\n",
    "        print(\"This is Class A constructor\")\n",
    "\n",
    "class B(A):\n",
    "    pass\n",
    "\n",
    "class C(B):\n",
    "    pass\n",
    "\n",
    "a1 = A()        \n",
    "b1 = B()\n",
    "c1 = C()"
   ]
  },
  {
   "cell_type": "code",
   "execution_count": 12,
   "id": "5b19bfec",
   "metadata": {},
   "outputs": [
    {
     "name": "stdout",
     "output_type": "stream",
     "text": [
      "Python\n",
      "Arun\n",
      "23\n"
     ]
    }
   ],
   "source": [
    "class A:\n",
    "    def __init__(self,name,age):\n",
    "        self.name = name\n",
    "        self.age  = age\n",
    "\n",
    "class B(A):\n",
    "    def __init__(self,course):\n",
    "        super().__init__(\"Arun\",23)\n",
    "        self.course = course\n",
    "        print(self.course)\n",
    "    \n",
    "    def display(self):\n",
    "        print(self.name)\n",
    "        print(self.age)\n",
    "        \n",
    "b1 = B(\"Python\")\n",
    "b1.display()\n",
    "        "
   ]
  },
  {
   "cell_type": "code",
   "execution_count": 15,
   "id": "de44a984",
   "metadata": {},
   "outputs": [
    {
     "name": "stdout",
     "output_type": "stream",
     "text": [
      "This is Class A constructor\n",
      "This is Class B constructor 10\n",
      "This is Class C constructor\n"
     ]
    }
   ],
   "source": [
    "class A:\n",
    "    def __init__(self):\n",
    "        print(\"This is Class A constructor\")\n",
    "    \n",
    "class B(A):\n",
    "    def __init__(self, x):\n",
    "        super().__init__()\n",
    "        print(\"This is Class B constructor\", x)\n",
    "        \n",
    "class C(B):\n",
    "    def __init__(self):\n",
    "        super().__init__(10)\n",
    "        print(\"This is Class C constructor\")\n",
    "\n",
    "obj = C()"
   ]
  },
  {
   "cell_type": "code",
   "execution_count": 18,
   "id": "c4975457",
   "metadata": {},
   "outputs": [
    {
     "name": "stdout",
     "output_type": "stream",
     "text": [
      "Function of Class A\n",
      "Function of Class B\n"
     ]
    }
   ],
   "source": [
    "class A:\n",
    "    def function_one(self):\n",
    "        print(\"Function of Class A\")\n",
    "class B(A):\n",
    "    def function_two(self):\n",
    "        super().function_one()\n",
    "        print(\"Function of Class B\")\n",
    "\n",
    "one = B()\n",
    "one.function_two()"
   ]
  },
  {
   "cell_type": "code",
   "execution_count": 20,
   "id": "922e0ad5",
   "metadata": {},
   "outputs": [
    {
     "name": "stdout",
     "output_type": "stream",
     "text": [
      "Python\n",
      "Hey\n",
      "Yo\n"
     ]
    }
   ],
   "source": [
    "class A:\n",
    "    def __init__(self,name,age):\n",
    "        self.name = name\n",
    "        self.age  = age\n",
    "    \n",
    "    def display(self):\n",
    "        print(\"Hey\")\n",
    "\n",
    "class B(A):\n",
    "    def __init__(self,course):\n",
    "        super().__init__(\"Arun\",23)\n",
    "        self.course = course\n",
    "        print(self.course)\n",
    "    \n",
    "    def display(self):\n",
    "        super().display()\n",
    "        print(\"Yo\")\n",
    "    \n",
    "   \n",
    "        \n",
    "b1 = B(\"Python\")\n",
    "b1.display()\n",
    "        "
   ]
  },
  {
   "cell_type": "code",
   "execution_count": 36,
   "id": "17245bc4",
   "metadata": {},
   "outputs": [
    {
     "name": "stdout",
     "output_type": "stream",
     "text": [
      "Python\n",
      "Hey\n",
      "Yo\n",
      "429\n"
     ]
    },
    {
     "data": {
      "text/plain": [
       "182"
      ]
     },
     "execution_count": 36,
     "metadata": {},
     "output_type": "execute_result"
    }
   ],
   "source": [
    "  \n",
    "class A:\n",
    "    def __init__(self,name,age):\n",
    "        self.name = name\n",
    "        self.age  = age\n",
    "        \n",
    "    def calc(self,x,y):\n",
    "        res = x + y\n",
    "        return res\n",
    "    \n",
    "    def display(self):\n",
    "        print(\"Hey\")\n",
    "\n",
    "class B(A):\n",
    "    def __init__(self,course):\n",
    "        super().__init__(\"Arun\",23)\n",
    "        self.course = course\n",
    "        print(self.course)\n",
    "        \n",
    "    def calc(self,a,b):\n",
    "        super().calc(11,13)\n",
    "        res = a * b\n",
    "        return res\n",
    "    \n",
    "    def display(self):\n",
    "        super().display()\n",
    "        print(\"Yo\")\n",
    "    \n",
    "   \n",
    "        \n",
    "b1 = B(\"Python\")\n",
    "b1.display()\n",
    "\n",
    "print(b1.calc(13,33))\n",
    "b1.calc(13,14)"
   ]
  },
  {
   "cell_type": "code",
   "execution_count": 38,
   "id": "9351debf",
   "metadata": {},
   "outputs": [
    {
     "name": "stdout",
     "output_type": "stream",
     "text": [
      "30\n"
     ]
    },
    {
     "ename": "TypeError",
     "evalue": "f1() missing 1 required positional argument: 'y'",
     "output_type": "error",
     "traceback": [
      "\u001b[1;31m---------------------------------------------------------------------------\u001b[0m",
      "\u001b[1;31mTypeError\u001b[0m                                 Traceback (most recent call last)",
      "\u001b[1;32m~\\AppData\\Local\\Temp\\ipykernel_19552\\984554392.py\u001b[0m in \u001b[0;36m<module>\u001b[1;34m\u001b[0m\n\u001b[0;32m      8\u001b[0m \u001b[0ma1\u001b[0m \u001b[1;33m=\u001b[0m \u001b[0mA\u001b[0m\u001b[1;33m(\u001b[0m\u001b[1;33m)\u001b[0m\u001b[1;33m\u001b[0m\u001b[1;33m\u001b[0m\u001b[0m\n\u001b[0;32m      9\u001b[0m \u001b[0ma1\u001b[0m\u001b[1;33m.\u001b[0m\u001b[0mf1\u001b[0m\u001b[1;33m(\u001b[0m\u001b[1;36m10\u001b[0m\u001b[1;33m,\u001b[0m\u001b[1;36m20\u001b[0m\u001b[1;33m)\u001b[0m\u001b[1;33m\u001b[0m\u001b[1;33m\u001b[0m\u001b[0m\n\u001b[1;32m---> 10\u001b[1;33m \u001b[0ma1\u001b[0m\u001b[1;33m.\u001b[0m\u001b[0mf1\u001b[0m\u001b[1;33m(\u001b[0m\u001b[1;36m11\u001b[0m\u001b[1;33m)\u001b[0m\u001b[1;33m\u001b[0m\u001b[1;33m\u001b[0m\u001b[0m\n\u001b[0m",
      "\u001b[1;31mTypeError\u001b[0m: f1() missing 1 required positional argument: 'y'"
     ]
    }
   ],
   "source": [
    "class A:\n",
    "    def f1(self,x):\n",
    "        print(x)\n",
    "    \n",
    "    def f1(self,x,y):\n",
    "        print(x + y)\n",
    "    \n",
    "a1 = A()\n",
    "a1.f1(10,20)\n",
    "a1.f1(11)"
   ]
  },
  {
   "cell_type": "code",
   "execution_count": null,
   "id": "56675623",
   "metadata": {},
   "outputs": [],
   "source": []
  }
 ],
 "metadata": {
  "kernelspec": {
   "display_name": "Python 3 (ipykernel)",
   "language": "python",
   "name": "python3"
  },
  "language_info": {
   "codemirror_mode": {
    "name": "ipython",
    "version": 3
   },
   "file_extension": ".py",
   "mimetype": "text/x-python",
   "name": "python",
   "nbconvert_exporter": "python",
   "pygments_lexer": "ipython3",
   "version": "3.9.13"
  }
 },
 "nbformat": 4,
 "nbformat_minor": 5
}

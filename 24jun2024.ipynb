{
 "cells": [
  {
   "cell_type": "code",
   "execution_count": 3,
   "id": "d9f6b9e7",
   "metadata": {},
   "outputs": [
    {
     "ename": "AttributeError",
     "evalue": "'School' object has no attribute 'x'",
     "output_type": "error",
     "traceback": [
      "\u001b[1;31m---------------------------------------------------------------------------\u001b[0m",
      "\u001b[1;31mAttributeError\u001b[0m                            Traceback (most recent call last)",
      "\u001b[1;32m~\\AppData\\Local\\Temp\\ipykernel_4892\\2197996335.py\u001b[0m in \u001b[0;36m<module>\u001b[1;34m\u001b[0m\n\u001b[0;32m      4\u001b[0m \u001b[0ms1\u001b[0m \u001b[1;33m=\u001b[0m \u001b[0mSchool\u001b[0m\u001b[1;33m(\u001b[0m\u001b[1;33m)\u001b[0m\u001b[1;33m\u001b[0m\u001b[1;33m\u001b[0m\u001b[0m\n\u001b[0;32m      5\u001b[0m \u001b[0ms1\u001b[0m\u001b[1;33m.\u001b[0m\u001b[0mm1\u001b[0m\u001b[1;33m(\u001b[0m\u001b[1;33m)\u001b[0m\u001b[1;33m\u001b[0m\u001b[1;33m\u001b[0m\u001b[0m\n\u001b[1;32m----> 6\u001b[1;33m \u001b[0mprint\u001b[0m\u001b[1;33m(\u001b[0m\u001b[0ms1\u001b[0m\u001b[1;33m.\u001b[0m\u001b[0mx\u001b[0m\u001b[1;33m)\u001b[0m\u001b[1;33m\u001b[0m\u001b[1;33m\u001b[0m\u001b[0m\n\u001b[0m",
      "\u001b[1;31mAttributeError\u001b[0m: 'School' object has no attribute 'x'"
     ]
    }
   ],
   "source": [
    "class School:\n",
    "    def m1(self):\n",
    "        x = 10\n",
    "s1 = School()\n",
    "s1.m1()\n",
    "print(s1.x)"
   ]
  },
  {
   "cell_type": "code",
   "execution_count": 4,
   "id": "8b2ce5aa",
   "metadata": {},
   "outputs": [
    {
     "name": "stdout",
     "output_type": "stream",
     "text": [
      "10\n"
     ]
    }
   ],
   "source": [
    "class A:\n",
    "    def __init__(self,x,y):\n",
    "        self.x = x   #instance variable\n",
    "        self.y = y   #instance variable\n",
    "    def m1(self):\n",
    "        print(self.x)\n",
    "a = A(10,20)\n",
    "a.m1()"
   ]
  },
  {
   "cell_type": "code",
   "execution_count": 6,
   "id": "eacf31f7",
   "metadata": {},
   "outputs": [
    {
     "name": "stdout",
     "output_type": "stream",
     "text": [
      "10\n",
      "10\n",
      "20\n"
     ]
    }
   ],
   "source": [
    "class A:\n",
    "    def __init__(self,x,y):\n",
    "        self.x = x   #instance variable\n",
    "        self.y = y   #instance variable\n",
    "    def m1(self):\n",
    "        print(self.x)\n",
    "a = A(10,20)\n",
    "a.m1()\n",
    "print(a.x)\n",
    "print(a.y)"
   ]
  },
  {
   "cell_type": "code",
   "execution_count": 10,
   "id": "1e3e4255",
   "metadata": {
    "scrolled": true
   },
   "outputs": [
    {
     "name": "stdout",
     "output_type": "stream",
     "text": [
      "101\n",
      "101\n",
      "202\n"
     ]
    }
   ],
   "source": [
    "class A:\n",
    "    def __init__(self,x,y):\n",
    "        self.x = x   #instance variable\n",
    "        self.y = y   #instance variable\n",
    "    def display(self):\n",
    "        print(self.x)\n",
    "a = A(101,202)\n",
    "a.display()\n",
    "print(a.x)\n",
    "print(a.y)"
   ]
  },
  {
   "cell_type": "code",
   "execution_count": 14,
   "id": "4cc5a7a0",
   "metadata": {},
   "outputs": [
    {
     "name": "stdout",
     "output_type": "stream",
     "text": [
      "Arun\n",
      "Arun\n",
      "Python\n",
      "Python\n"
     ]
    }
   ],
   "source": [
    "class C:\n",
    "    Course = 'Python' #Class Variable\n",
    "    \n",
    "    \n",
    "    def __init__(self,name):\n",
    "        self.name = name #instance variable\n",
    "    \n",
    "    def k1(self):\n",
    "        x = 10   #Local Variable\n",
    "        print(self.name)\n",
    "    \n",
    "    \n",
    "    def display(self):\n",
    "        print(self.name)\n",
    "        print(C.Course)    #accessing class variable outside the class\n",
    "c = C('Arun')\n",
    "c.k1()\n",
    "c.display()\n",
    "print(C.Course)"
   ]
  },
  {
   "cell_type": "markdown",
   "id": "6074f8b8",
   "metadata": {},
   "source": [
    "# class TypesOfMethods:\n",
    "    \n",
    "    cv = 'Python'\n",
    "    \n",
    "    def __init__(self,name,age):    #how to call this method => by just creating object i.e., if we just create object the init method will be called\n",
    "        print(\"This is Init Method\")\n",
    "        self.name = name\n",
    "        self.age  = age\n",
    "        \n",
    "        \n",
    "    def display(self):   #instance method => using object variable and dot operator we can call the method \n",
    "        print(\"This is Instance Method\")\n",
    "        print(self.name)\n",
    "        print(self.age)\n",
    "        \n",
    "     \n",
    "    #class method\n",
    "    \n",
    "    @classmethod #=> decorator  => how to call this -> called by its class name\n",
    "    def cm(cls):\n",
    "        print(\"This is Class Method \")\n",
    "        print(TypesOfMethods.cv)\n",
    "        #print(self.name) => cannot be accessed\n",
    "    \n",
    "    #static method\n",
    "    \n",
    "    @staticmethod  #=> decorator\n",
    "    def sm(x,y):\n",
    "        print(\"This is Static Method\")\n",
    "        print(x)\n",
    "        print(y)\n",
    "        \n",
    "  \n",
    "t = TypesOfMethods(\"Kiran\",22)\n",
    "t.display()\n",
    "TypesOfMethods.cm()\n",
    "TypesOfMethods.sm(111,222)\n",
    "        \n"
   ]
  },
  {
   "cell_type": "code",
   "execution_count": null,
   "id": "74180248",
   "metadata": {},
   "outputs": [],
   "source": []
  }
 ],
 "metadata": {
  "kernelspec": {
   "display_name": "Python 3 (ipykernel)",
   "language": "python",
   "name": "python3"
  },
  "language_info": {
   "codemirror_mode": {
    "name": "ipython",
    "version": 3
   },
   "file_extension": ".py",
   "mimetype": "text/x-python",
   "name": "python",
   "nbconvert_exporter": "python",
   "pygments_lexer": "ipython3",
   "version": "3.9.13"
  }
 },
 "nbformat": 4,
 "nbformat_minor": 5
}

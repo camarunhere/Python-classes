{
 "cells": [
  {
   "cell_type": "markdown",
   "id": "8fcbbe5c",
   "metadata": {},
   "source": [
    "## EXCEPTION HANDLING\n"
   ]
  },
  {
   "cell_type": "markdown",
   "id": "c2dee759",
   "metadata": {},
   "source": [
    "# Errors"
   ]
  },
  {
   "cell_type": "code",
   "execution_count": 1,
   "id": "789e7796",
   "metadata": {
    "scrolled": true
   },
   "outputs": [
    {
     "ename": "ZeroDivisionError",
     "evalue": "division by zero",
     "output_type": "error",
     "traceback": [
      "\u001b[1;31m---------------------------------------------------------------------------\u001b[0m",
      "\u001b[1;31mZeroDivisionError\u001b[0m                         Traceback (most recent call last)",
      "\u001b[1;32m~\\AppData\\Local\\Temp\\ipykernel_11880\\981826046.py\u001b[0m in \u001b[0;36m<module>\u001b[1;34m\u001b[0m\n\u001b[0;32m      2\u001b[0m \u001b[0mb\u001b[0m \u001b[1;33m=\u001b[0m \u001b[1;36m0\u001b[0m\u001b[1;33m\u001b[0m\u001b[1;33m\u001b[0m\u001b[0m\n\u001b[0;32m      3\u001b[0m \u001b[1;33m\u001b[0m\u001b[0m\n\u001b[1;32m----> 4\u001b[1;33m \u001b[0mprint\u001b[0m\u001b[1;33m(\u001b[0m\u001b[0ma\u001b[0m\u001b[1;33m/\u001b[0m\u001b[0mb\u001b[0m\u001b[1;33m)\u001b[0m\u001b[1;33m\u001b[0m\u001b[1;33m\u001b[0m\u001b[0m\n\u001b[0m\u001b[0;32m      5\u001b[0m \u001b[0mprint\u001b[0m\u001b[1;33m(\u001b[0m\u001b[1;34m\"Arigatho\"\u001b[0m\u001b[1;33m)\u001b[0m\u001b[1;33m\u001b[0m\u001b[1;33m\u001b[0m\u001b[0m\n",
      "\u001b[1;31mZeroDivisionError\u001b[0m: division by zero"
     ]
    }
   ],
   "source": [
    "a = 10\n",
    "b = 0\n",
    "\n",
    "print(a/b)\n",
    "print('Omedhatho')"
   ]
  },
  {
   "cell_type": "code",
   "execution_count": 3,
   "id": "ea6b1dc3",
   "metadata": {},
   "outputs": [
    {
     "name": "stdout",
     "output_type": "stream",
     "text": [
      "Congratulations for making the division not to happen\n",
      "Arigatho\n"
     ]
    }
   ],
   "source": [
    "a = 10\n",
    "b = 0\n",
    "\n",
    "try:\n",
    "    print(a/b)\n",
    "except ZeroDivisionError:\n",
    "    print(\"Congratulations for making the division not to happen\")\n",
    "print(\"Arigatho\")"
   ]
  },
  {
   "cell_type": "code",
   "execution_count": 4,
   "id": "daf4e87f",
   "metadata": {},
   "outputs": [
    {
     "name": "stdout",
     "output_type": "stream",
     "text": [
      "2.0\n",
      "Arigatho\n"
     ]
    }
   ],
   "source": [
    "a = 10\n",
    "b = 5\n",
    "\n",
    "try:\n",
    "    print(a/b)\n",
    "except ZeroDivisionError:\n",
    "    print(\"Congratulations for making the division not to happen\")\n",
    "print(\"Arigatho\")"
   ]
  },
  {
   "cell_type": "code",
   "execution_count": 8,
   "id": "ab334f46",
   "metadata": {},
   "outputs": [
    {
     "name": "stdout",
     "output_type": "stream",
     "text": [
      "Enter:87\n",
      "Enter another:29\n",
      "3.0\n",
      "Execution of the program is done successfully\n"
     ]
    }
   ],
   "source": [
    "try:\n",
    "    x = int(input(\"Enter:\"))\n",
    "    y = int(input(\"Enter another:\"))\n",
    "    print(x/y)\n",
    "    print(\"Execution of the program is done successfully\")\n",
    "\n",
    "except ValueError:\n",
    "    print(\"Give any integer value\")\n",
    "except ZeroDivisionError:\n",
    "    print(\"Zero division is not possible\")"
   ]
  },
  {
   "cell_type": "code",
   "execution_count": 9,
   "id": "10dc3704",
   "metadata": {},
   "outputs": [
    {
     "name": "stdout",
     "output_type": "stream",
     "text": [
      "11\n",
      "22\n",
      "33\n",
      "44\n",
      "You are trying to access out of the Index\n"
     ]
    }
   ],
   "source": [
    "try:\n",
    "    x = [11,22,33,44]\n",
    "    print(x[0])\n",
    "    print(x[1])\n",
    "    print(x[2])\n",
    "    print(x[3])\n",
    "    print(x[4])\n",
    "\n",
    "except IndexError:\n",
    "    print(\"You are trying to access out of the Index\")\n"
   ]
  },
  {
   "cell_type": "code",
   "execution_count": 12,
   "id": "05df66f2",
   "metadata": {},
   "outputs": [
    {
     "name": "stdout",
     "output_type": "stream",
     "text": [
      "Enter any number: 8\n",
      "8\n",
      "111\n",
      "222\n",
      "333\n",
      "444\n",
      "You are accessing a wrong position\n"
     ]
    }
   ],
   "source": [
    "try:\n",
    "    x = int(input(\"Enter any number: \"))\n",
    "    print(x)\n",
    "    y = [111,222,333,444]\n",
    "    print(y[0])\n",
    "    print(y[1])\n",
    "    print(y[2])\n",
    "    print(y[3])\n",
    "    print(y[4])\n",
    "except ValueError:\n",
    "    print(\"Enter a Valid Number\")\n",
    "except NameError:\n",
    "    print(\"x is invalid\")\n",
    "except IndexError:\n",
    "    print(\"You are accessing a wrong position\")\n",
    "    "
   ]
  },
  {
   "cell_type": "code",
   "execution_count": null,
   "id": "6774fca6",
   "metadata": {},
   "outputs": [],
   "source": []
  }
 ],
 "metadata": {
  "kernelspec": {
   "display_name": "Python 3 (ipykernel)",
   "language": "python",
   "name": "python3"
  },
  "language_info": {
   "codemirror_mode": {
    "name": "ipython",
    "version": 3
   },
   "file_extension": ".py",
   "mimetype": "text/x-python",
   "name": "python",
   "nbconvert_exporter": "python",
   "pygments_lexer": "ipython3",
   "version": "3.9.13"
  }
 },
 "nbformat": 4,
 "nbformat_minor": 5
}

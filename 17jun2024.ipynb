{
 "cells": [
  {
   "cell_type": "code",
   "execution_count": 1,
   "id": "5ffaf7e1",
   "metadata": {},
   "outputs": [
    {
     "ename": "NameError",
     "evalue": "name 'd' is not defined",
     "output_type": "error",
     "traceback": [
      "\u001b[1;31m---------------------------------------------------------------------------\u001b[0m",
      "\u001b[1;31mNameError\u001b[0m                                 Traceback (most recent call last)",
      "\u001b[1;32m~\\AppData\\Local\\Temp\\ipykernel_19720\\3161387801.py\u001b[0m in \u001b[0;36m<module>\u001b[1;34m\u001b[0m\n\u001b[1;32m----> 1\u001b[1;33m \u001b[0md\u001b[0m\u001b[1;33m\u001b[0m\u001b[1;33m\u001b[0m\u001b[0m\n\u001b[0m",
      "\u001b[1;31mNameError\u001b[0m: name 'd' is not defined"
     ]
    }
   ],
   "source": [
    "d"
   ]
  },
  {
   "cell_type": "code",
   "execution_count": null,
   "id": "c63cb5d5",
   "metadata": {},
   "outputs": [],
   "source": []
  },
  {
   "cell_type": "code",
   "execution_count": 6,
   "id": "d12a8fad",
   "metadata": {},
   "outputs": [
    {
     "name": "stdout",
     "output_type": "stream",
     "text": [
      "(11, 23, 46)\n",
      "()\n",
      "('Arun', 23, 'arun@gmail.com')\n"
     ]
    }
   ],
   "source": [
    "def f1(*x):\n",
    "    print(x)\n",
    "f1(11,23,46)\n",
    "f1()\n",
    "f1(\"Arun\",23,'arun@gmail.com')"
   ]
  },
  {
   "cell_type": "code",
   "execution_count": 7,
   "id": "ef9a5e10",
   "metadata": {},
   "outputs": [
    {
     "name": "stdout",
     "output_type": "stream",
     "text": [
      "('Arun', 23, 'arun@gmail.com')\n",
      "Arun\n",
      "23\n",
      "arun@gmail.com\n"
     ]
    }
   ],
   "source": [
    "def f1(*x):\n",
    "    print(x)\n",
    "    for i in x:\n",
    "        print(i)\n",
    "f1(\"Arun\",23,'arun@gmail.com')"
   ]
  },
  {
   "cell_type": "code",
   "execution_count": null,
   "id": "af484cdc",
   "metadata": {},
   "outputs": [],
   "source": []
  },
  {
   "cell_type": "code",
   "execution_count": 10,
   "id": "43a8959f",
   "metadata": {},
   "outputs": [
    {
     "name": "stdout",
     "output_type": "stream",
     "text": [
      "Name = YUVAKIRAN\n",
      "Age = 22\n",
      "Course = CA\n"
     ]
    }
   ],
   "source": [
    "def f1(**d):\n",
    "    for k,v in d.items():\n",
    "        print(k,'=',v)\n",
    "\n",
    "f1(Name=\"YUVAKIRAN\",Age=22,Course = \"CA\")"
   ]
  },
  {
   "cell_type": "code",
   "execution_count": 13,
   "id": "7bf689c8",
   "metadata": {},
   "outputs": [
    {
     "name": "stdout",
     "output_type": "stream",
     "text": [
      "[10, 20, 30, 40, 10, 20, 30, 20, 40, 60, 20, 45]\n",
      "[10, 20, 30, 40, 10, 20, 30, 20, 40, 60, 20, 45, 50]\n"
     ]
    }
   ],
   "source": [
    "x = [10,20,30,40,10,20,30,20,40,60,20,45]\n",
    "print(x)\n",
    "\n",
    "#Add 50 to the list after 40 or add 50 to the end of the list\n",
    "\n",
    "x.append(50)\n",
    "print(x)"
   ]
  },
  {
   "cell_type": "code",
   "execution_count": 15,
   "id": "5300b81c",
   "metadata": {},
   "outputs": [
    {
     "name": "stdout",
     "output_type": "stream",
     "text": [
      "4\n"
     ]
    }
   ],
   "source": [
    "#I want to get how many times 20 present in x\n",
    "cnt = x.count(20)\n",
    "print(cnt)"
   ]
  },
  {
   "cell_type": "code",
   "execution_count": 33,
   "id": "8bd11a3a",
   "metadata": {},
   "outputs": [
    {
     "name": "stdout",
     "output_type": "stream",
     "text": [
      "{'a': 1, 'r': 2, 'u': 3, 'n': 4}\n",
      "2\n",
      "{'r': 2, 'u': 3, 'n': 4}\n",
      "{'r': 2, 'u': 3, 'n': 4, 'A': 1}\n"
     ]
    },
    {
     "ename": "AttributeError",
     "evalue": "'dict' object has no attribute 'insert'",
     "output_type": "error",
     "traceback": [
      "\u001b[1;31m---------------------------------------------------------------------------\u001b[0m",
      "\u001b[1;31mAttributeError\u001b[0m                            Traceback (most recent call last)",
      "\u001b[1;32m~\\AppData\\Local\\Temp\\ipykernel_19720\\3532263939.py\u001b[0m in \u001b[0;36m<module>\u001b[1;34m\u001b[0m\n\u001b[0;32m     23\u001b[0m \u001b[0mprint\u001b[0m\u001b[1;33m(\u001b[0m\u001b[0md\u001b[0m\u001b[1;33m)\u001b[0m\u001b[1;33m\u001b[0m\u001b[1;33m\u001b[0m\u001b[0m\n\u001b[0;32m     24\u001b[0m \u001b[1;33m\u001b[0m\u001b[0m\n\u001b[1;32m---> 25\u001b[1;33m \u001b[0md\u001b[0m\u001b[1;33m.\u001b[0m\u001b[0minsert\u001b[0m\u001b[1;33m(\u001b[0m\u001b[0mC\u001b[0m\u001b[1;33m=\u001b[0m\u001b[1;36m1\u001b[0m\u001b[1;33m)\u001b[0m\u001b[1;33m\u001b[0m\u001b[1;33m\u001b[0m\u001b[0m\n\u001b[0m",
      "\u001b[1;31mAttributeError\u001b[0m: 'dict' object has no attribute 'insert'"
     ]
    }
   ],
   "source": [
    "#Dictionary_Methods\n",
    "\n",
    "d = {\n",
    "    'a' : 1,\n",
    "    'r' : 2,\n",
    "    'u' : 3,\n",
    "    'n' : 4,\n",
    "    \n",
    "}\n",
    "print(d)\n",
    "#print value 2 using dict method\n",
    "\n",
    "print(d.get('r'))\n",
    "\n",
    "#Remove a : 1 key value pair\n",
    "\n",
    "d.pop('a')\n",
    "print(d)\n",
    "\n",
    "#Add new key value e = 4\n",
    "\n",
    "d.update(A=1)\n",
    "print(d)\n",
    "\n",
    "d.insert(C=1)"
   ]
  },
  {
   "cell_type": "code",
   "execution_count": null,
   "id": "2c214621",
   "metadata": {},
   "outputs": [],
   "source": []
  },
  {
   "cell_type": "code",
   "execution_count": null,
   "id": "24748f46",
   "metadata": {},
   "outputs": [],
   "source": []
  }
 ],
 "metadata": {
  "kernelspec": {
   "display_name": "Python 3 (ipykernel)",
   "language": "python",
   "name": "python3"
  },
  "language_info": {
   "codemirror_mode": {
    "name": "ipython",
    "version": 3
   },
   "file_extension": ".py",
   "mimetype": "text/x-python",
   "name": "python",
   "nbconvert_exporter": "python",
   "pygments_lexer": "ipython3",
   "version": "3.9.13"
  }
 },
 "nbformat": 4,
 "nbformat_minor": 5
}

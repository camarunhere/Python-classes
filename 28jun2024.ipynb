{
 "cells": [
  {
   "cell_type": "code",
   "execution_count": 2,
   "id": "c185be5a",
   "metadata": {},
   "outputs": [
    {
     "name": "stdout",
     "output_type": "stream",
     "text": [
      "Enter a Value: 7\n",
      "Rectify Error Once\n"
     ]
    }
   ],
   "source": [
    "try:\n",
    "    x = int(input(\"Enter a Value: \"))\n",
    "    print(y)\n",
    "\n",
    "except ValueError:\n",
    "    print(\"Give Integer Value\")\n",
    "except:\n",
    "    print(\"Rectify Error Once\")"
   ]
  },
  {
   "cell_type": "code",
   "execution_count": 7,
   "id": "d3e3a3df",
   "metadata": {},
   "outputs": [
    {
     "name": "stdout",
     "output_type": "stream",
     "text": [
      "Oops something went wrong,Try again!!!\n"
     ]
    }
   ],
   "source": [
    "try:\n",
    "    a = 10\n",
    "    b = 4\n",
    "    c = a/b\n",
    "    print(res)\n",
    "except ZeroDivisionError:\n",
    "    print(\"Cannot do division\")\n",
    "except:\n",
    "    print(\"Oops something went wrong,Try again!!!\")\n"
   ]
  },
  {
   "cell_type": "code",
   "execution_count": null,
   "id": "cd62befc",
   "metadata": {},
   "outputs": [],
   "source": []
  }
 ],
 "metadata": {
  "kernelspec": {
   "display_name": "Python 3 (ipykernel)",
   "language": "python",
   "name": "python3"
  },
  "language_info": {
   "codemirror_mode": {
    "name": "ipython",
    "version": 3
   },
   "file_extension": ".py",
   "mimetype": "text/x-python",
   "name": "python",
   "nbconvert_exporter": "python",
   "pygments_lexer": "ipython3",
   "version": "3.9.13"
  }
 },
 "nbformat": 4,
 "nbformat_minor": 5
}

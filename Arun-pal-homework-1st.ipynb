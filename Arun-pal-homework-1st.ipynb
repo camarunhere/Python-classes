{
 "cells": [
  {
   "cell_type": "code",
   "execution_count": 2,
   "id": "372b8287",
   "metadata": {},
   "outputs": [
    {
     "name": "stdout",
     "output_type": "stream",
     "text": [
      "Enter a Number: -9\n",
      "Negative\n"
     ]
    }
   ],
   "source": [
    "a = int(input(\"Enter a Number: \"))\n",
    "\n",
    "if a > 0:\n",
    "    print(\"Positive\")\n",
    "else:\n",
    "    print(\"Negative\")"
   ]
  },
  {
   "cell_type": "code",
   "execution_count": 3,
   "id": "bd6efed2",
   "metadata": {},
   "outputs": [
    {
     "name": "stdout",
     "output_type": "stream",
     "text": [
      "Enter Your Age:  17\n",
      "You are not an adult\n"
     ]
    }
   ],
   "source": [
    "a = int(input(\"Enter Your Age:  \"))\n",
    "\n",
    "if a >= 18:\n",
    "    print(\"You are an adult\")\n",
    "else:\n",
    "    print(\"You are not an adult\")"
   ]
  },
  {
   "cell_type": "code",
   "execution_count": null,
   "id": "d9026ad7",
   "metadata": {},
   "outputs": [],
   "source": [
    "s = str(input(\"Enter a word or a string: \"))\n",
    "\n",
    "if s == \"\":\n",
    "    print(\"String is Empty\")\n",
    "else:\n",
    "    print(\"The enetered word is: \",s)"
   ]
  },
  {
   "cell_type": "code",
   "execution_count": 8,
   "id": "e19f807e",
   "metadata": {},
   "outputs": [
    {
     "name": "stdout",
     "output_type": "stream",
     "text": [
      "Enter a number to know if it is even or odd: 79\n",
      "The number you have entered is odd\n"
     ]
    }
   ],
   "source": [
    "c = int(input(\"Enter a number to know if it is even or odd: \"))\n",
    "\n",
    "if c % 2 == 0:\n",
    "    print(\"The number you have entered is even\")\n",
    "else:\n",
    "    print(\"The number you have entered is odd\")"
   ]
  },
  {
   "cell_type": "code",
   "execution_count": 11,
   "id": "3249b891",
   "metadata": {},
   "outputs": [
    {
     "name": "stdout",
     "output_type": "stream",
     "text": [
      "Enter your marks here: 99\n",
      "You have passed in exam..,Congratulations!!!!\n"
     ]
    }
   ],
   "source": [
    "m = int(input(\"Enter your marks here: \"))\n",
    "\n",
    "if m >= 61:\n",
    "    print(\"You have passed in exam..,Congratulations!!!!\")\n",
    "elif m < 61:\n",
    "    print(\"You have failed. Try your best in next attempt!!!\")\n",
    "else:\n",
    "    print(\"Enter valid marks..\")"
   ]
  },
  {
   "cell_type": "code",
   "execution_count": 4,
   "id": "7127cf57",
   "metadata": {},
   "outputs": [
    {
     "name": "stdout",
     "output_type": "stream",
     "text": [
      "Enter any number: 56\n",
      "Positive...\n"
     ]
    }
   ],
   "source": [
    "n = int(input(\"Enter any number: \"))\n",
    "\n",
    "if n > 0:\n",
    "    print(\"Positive...\")\n",
    "else:\n",
    "    print(\"Negative...\")"
   ]
  },
  {
   "cell_type": "code",
   "execution_count": 8,
   "id": "a33b48e0",
   "metadata": {},
   "outputs": [
    {
     "name": "stdout",
     "output_type": "stream",
     "text": [
      "Enter any number: -1\n",
      "Negative...\n"
     ]
    }
   ],
   "source": [
    "m = int(input(\"Enter any number: \"))\n",
    "\n",
    "if m > 0:\n",
    "    print(\"Positive...\")\n",
    "elif m == 0:\n",
    "    print(\"Zero\")\n",
    "else:\n",
    "    print(\"Negative...\")"
   ]
  },
  {
   "cell_type": "code",
   "execution_count": 16,
   "id": "8b6b0625",
   "metadata": {},
   "outputs": [
    {
     "name": "stdout",
     "output_type": "stream",
     "text": [
      "Enter an Alphabet: g\n",
      "Consonant\n"
     ]
    }
   ],
   "source": [
    "v = str(input(\"Enter an Alphabet: \"))\n",
    "\n",
    "if v == \"a\" or v == 'e' or v == 'i' or v == 'o' or v == 'u' or v == 'A' or v == 'E' or v == 'I' or v == 'O' or v == 'U':\n",
    "    print(\"Vowel\")\n",
    "else:\n",
    "    print(\"Consonant\")"
   ]
  },
  {
   "cell_type": "code",
   "execution_count": 21,
   "id": "17b9d249",
   "metadata": {},
   "outputs": [
    {
     "name": "stdout",
     "output_type": "stream",
     "text": [
      "Enter an Alphabet: A\n",
      "This is a Vowel\n"
     ]
    }
   ],
   "source": [
    "c =  str(input(\"Enter an Alphabet: \"))\n",
    "\n",
    "if c in ('aeiouAEIOU'):\n",
    "    print(\"This is a Vowel\")\n",
    "elif c in (\"bcdfghjklmnpqrstvwxyzBCDFGHJKLMNPQRSTVWXYZ\"):\n",
    "    print(\"Consonant\")\n",
    "else:\n",
    "    print(\"Enter a Valid Alphabet\")"
   ]
  },
  {
   "cell_type": "code",
   "execution_count": 28,
   "id": "69dc91a0",
   "metadata": {},
   "outputs": [
    {
     "name": "stdout",
     "output_type": "stream",
     "text": [
      "Enter a number to know which month it refers to: 4\n",
      "April\n"
     ]
    }
   ],
   "source": [
    "m = int(input(\"Enter a number to know which month it refers to: \"))\n",
    "\n",
    "d = {\n",
    "            1 : 'January',\n",
    "            2 : 'February',\n",
    "            3 : 'March',\n",
    "            4 : 'April',\n",
    "            5 : 'May',\n",
    "            6 : 'June',\n",
    "            7 : 'July',\n",
    "            8 : 'August',\n",
    "            9 : 'September',\n",
    "            10: 'October',\n",
    "            11: 'November',\n",
    "            12: 'December'\n",
    "}\n",
    "if m not in range(1,13):\n",
    "    print(\"No month exists\")\n",
    "else:\n",
    "    print(d[m])"
   ]
  },
  {
   "cell_type": "code",
   "execution_count": 32,
   "id": "372da1fc",
   "metadata": {},
   "outputs": [
    {
     "name": "stdout",
     "output_type": "stream",
     "text": [
      "Enter a number:-89\n",
      "Non-Positive\n"
     ]
    }
   ],
   "source": [
    "pe = int(input(\"Enter a number:\"))\n",
    "\n",
    "if pe > 0:\n",
    "    if pe % 2 == 0:\n",
    "        print(\"Even positive\")\n",
    "    else:\n",
    "        print(\"Odd Positive\")\n",
    "else :\n",
    "    print(\"Non-Positive\")\n",
    "# elif pe < 0:\n",
    "#     if pe % 2 == 0:\n",
    "#         print(\"Even Negative\")\n",
    "#     else:\n",
    "#         print(\"Odd Negative\")\n",
    "# else :\n",
    "#     print(\"not defined\")"
   ]
  },
  {
   "cell_type": "code",
   "execution_count": 41,
   "id": "0bf7ccb3",
   "metadata": {},
   "outputs": [
    {
     "name": "stdout",
     "output_type": "stream",
     "text": [
      "Enter Your Score to know your perfomance: -90\n",
      "Fail,Try your best Next time\n"
     ]
    }
   ],
   "source": [
    "score = int(input(\"Enter Your Score to know your perfomance: \"))\n",
    "\n",
    "if score <= 60:\n",
    "    print(\"Fail,Try your best Next time\")\n",
    "elif score == 61 or score <= 80:\n",
    "    print(\"Your performance is Average,Can improve some more\")\n",
    "elif score == 81 or score <= 90:\n",
    "    print(\"Your performance is Good, A little improvement towards perfection\")\n",
    "elif score == 91 or score <= 100:\n",
    "    print(\"Your performance is Excellent, You can become perfectionist\")\n",
    "else:\n",
    "    print(\"Enter valid score\")"
   ]
  },
  {
   "cell_type": "code",
   "execution_count": 3,
   "id": "ef312042",
   "metadata": {},
   "outputs": [
    {
     "name": "stdout",
     "output_type": "stream",
     "text": [
      "Enter the first Number: -9\n",
      "Enter the second Number: 9\n",
      "One Number is Positive\n"
     ]
    }
   ],
   "source": [
    "a = int(input(\"Enter the first Number: \"))\n",
    "b = int(input(\"Enter the second Number: \"))\n",
    "\n",
    "if a > 0 and b > 0:\n",
    "    print(\"Both Numbers are Positive\")\n",
    "elif a > 0 or b > 0 :\n",
    "        print(\"One Number is Positive\")\n",
    "else:\n",
    "    print(\"Both Numbers are Non-Positive\")"
   ]
  },
  {
   "cell_type": "code",
   "execution_count": null,
   "id": "c74ebb34",
   "metadata": {},
   "outputs": [],
   "source": []
  }
 ],
 "metadata": {
  "kernelspec": {
   "display_name": "Python 3 (ipykernel)",
   "language": "python",
   "name": "python3"
  },
  "language_info": {
   "codemirror_mode": {
    "name": "ipython",
    "version": 3
   },
   "file_extension": ".py",
   "mimetype": "text/x-python",
   "name": "python",
   "nbconvert_exporter": "python",
   "pygments_lexer": "ipython3",
   "version": "3.9.13"
  }
 },
 "nbformat": 4,
 "nbformat_minor": 5
}

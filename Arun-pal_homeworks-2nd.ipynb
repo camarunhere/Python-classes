{
 "cells": [
  {
   "cell_type": "code",
   "execution_count": 1,
   "id": "8642ec89",
   "metadata": {},
   "outputs": [
    {
     "name": "stdout",
     "output_type": "stream",
     "text": [
      "1505\n",
      "1540\n",
      "1575\n",
      "1610\n",
      "1645\n",
      "1680\n",
      "1715\n",
      "1750\n",
      "1785\n",
      "1820\n",
      "1855\n",
      "1890\n",
      "1925\n",
      "1960\n",
      "1995\n",
      "2030\n",
      "2065\n",
      "2100\n",
      "2135\n",
      "2170\n",
      "2205\n",
      "2240\n",
      "2275\n",
      "2310\n",
      "2345\n",
      "2380\n",
      "2415\n",
      "2450\n",
      "2485\n",
      "2520\n",
      "2555\n",
      "2590\n",
      "2625\n",
      "2660\n",
      "2695\n"
     ]
    }
   ],
   "source": [
    "for i in range(1501,2700):\n",
    "    if i % 7 == 0 and i % 5 == 0:\n",
    "        print(i)"
   ]
  },
  {
   "cell_type": "code",
   "execution_count": 4,
   "id": "de71fe57",
   "metadata": {},
   "outputs": [
    {
     "name": "stdout",
     "output_type": "stream",
     "text": [
      "Enter a string to get its reverse: VINTAGE\n",
      "EGATNIV\n"
     ]
    }
   ],
   "source": [
    "s = str(input(\"Enter a string to get its reverse: \"))\n",
    "\n",
    "r = s[::-1]\n",
    "\n",
    "print(r)"
   ]
  },
  {
   "cell_type": "code",
   "execution_count": 7,
   "id": "03a17f52",
   "metadata": {},
   "outputs": [
    {
     "name": "stdout",
     "output_type": "stream",
     "text": [
      "Number Of Even Numbers are:  4\n",
      "Number Of Odd Numbers are:  5\n"
     ]
    }
   ],
   "source": [
    "n = (1,2,3,4,5,6,7,8,9)\n",
    "e = 0\n",
    "o = 0\n",
    "for i in n:\n",
    "    if i % 2 == 0:\n",
    "        e += 1\n",
    "    else:\n",
    "        o += 1\n",
    "print(\"Number Of Even Numbers are: \",e)\n",
    "print(\"Number Of Odd Numbers are: \",o)"
   ]
  },
  {
   "cell_type": "code",
   "execution_count": 12,
   "id": "4bdfd575",
   "metadata": {},
   "outputs": [
    {
     "name": "stdout",
     "output_type": "stream",
     "text": [
      "0,1,2,4,5,"
     ]
    }
   ],
   "source": [
    "for i in range(7):\n",
    "    if i == 3 or i == 6:\n",
    "        continue\n",
    "    print(i,end=',')\n",
    "        "
   ]
  },
  {
   "cell_type": "code",
   "execution_count": null,
   "id": "ed884076",
   "metadata": {},
   "outputs": [],
   "source": [
    "st = str(input(\"Enter a String with digits to find number of letters and digits are there: \"))\n",
    "\n",
    "c  = 0\n",
    "nu = 0\n",
    "\n",
    "for c in st:\n",
    "    if c == str:\n",
    "        c += 1\n",
    "for nu in st:\n",
    "    if nu == int:\n",
    "        nu += 1"
   ]
  },
  {
   "cell_type": "code",
   "execution_count": 2,
   "id": "ddb98831",
   "metadata": {},
   "outputs": [
    {
     "name": "stdout",
     "output_type": "stream",
     "text": [
      "Enter a string:8923besant\n",
      "Letters 6\n",
      "Digits 4\n"
     ]
    }
   ],
   "source": [
    "def c_l_a_d(ins):\n",
    "    l = 0\n",
    "    d = 0\n",
    "    \n",
    "    for c in ins:\n",
    "        if c.isalpha():\n",
    "            l += 1\n",
    "        elif c.isdigit():\n",
    "            d += 1\n",
    "        \n",
    "    print(f\"Letters {l}\")\n",
    "    print(f\"Digits {d}\")\n",
    "\n",
    "st = input(\"Enter a string:\")\n",
    "c_l_a_d(st)"
   ]
  },
  {
   "cell_type": "code",
   "execution_count": 19,
   "id": "5d6e98ca",
   "metadata": {},
   "outputs": [
    {
     "name": "stdout",
     "output_type": "stream",
     "text": [
      "Enter a month to know how may days it has in it: January\n",
      "31 days\n"
     ]
    }
   ],
   "source": [
    "m = str(input(\"Enter a month to know how may days it has in it: \"))\n",
    "\n",
    "d = {\n",
    "             'January'  : \"31 days\",\n",
    "             'February' : \"28/29 days\",\n",
    "             'March'    : \"31 days\",\n",
    "             'April'    : \"30 days\" ,\n",
    "             'May'      : \"31 days\",\n",
    "             'June'     : \"30 days\",\n",
    "             'July'     : \"31 days\",\n",
    "             'August'   : \"31 days\",\n",
    "             'September': \"30 days\",\n",
    "             'October'  : \"31 days\",\n",
    "             'November' : \"30 days\",\n",
    "             'December' : \"31 days\"\n",
    "}\n",
    "\n",
    "if m is (d):\n",
    "    print(\"Enter a Valid month name\")\n",
    "else:\n",
    "    print(d[m])"
   ]
  },
  {
   "cell_type": "code",
   "execution_count": 2,
   "id": "b6feb5e2",
   "metadata": {},
   "outputs": [
    {
     "name": "stdout",
     "output_type": "stream",
     "text": [
      "Enter the First Number: 6.5\n",
      "Enter the Second Number: 1.7\n",
      "Enter the Third Number: 7.5\n",
      "The median is: 6.5\n"
     ]
    }
   ],
   "source": [
    "def f_m(n1,n2,n3):\n",
    "    \n",
    "    n = [n1,n2,n3]\n",
    "    \n",
    "    n.sort()\n",
    "    \n",
    "    m = n[1]\n",
    "    \n",
    "    return m\n",
    "try :\n",
    "    n1 = float(input(\"Enter the First Number: \"))\n",
    "    n2 = float(input(\"Enter the Second Number: \"))\n",
    "    n3 = float(input(\"Enter the Third Number: \"))\n",
    "    \n",
    "    m = f_m(n1,n2,n3)\n",
    "    \n",
    "    print(f\"The median is: {m}\")\n",
    "    \n",
    "except ValueError:\n",
    "    print(\"Enter Valid Numbers\")\n",
    "\n"
   ]
  },
  {
   "cell_type": "code",
   "execution_count": 8,
   "id": "8c77905b",
   "metadata": {},
   "outputs": [
    {
     "name": "stdout",
     "output_type": "stream",
     "text": [
      "Enter any number to find its table: 56\n",
      "Table for 56: \n",
      "56 x 1 = 56\n",
      "56 x 2 = 112\n",
      "56 x 3 = 168\n",
      "56 x 4 = 224\n",
      "56 x 5 = 280\n",
      "56 x 6 = 336\n",
      "56 x 7 = 392\n",
      "56 x 8 = 448\n",
      "56 x 9 = 504\n",
      "56 x 10 = 560\n"
     ]
    }
   ],
   "source": [
    "def m_t(n):\n",
    "    print(f\"Table for {n}: \")\n",
    "    i = 1\n",
    "    while i <= 10:\n",
    "        r = n * i\n",
    "        print(f\"{n} x {i} = {r}\")\n",
    "        i += 1\n",
    "try:\n",
    "    n = int(input(\"Enter any number to find its table: \"))\n",
    "    m_t(n)\n",
    "except ValueError:\n",
    "    print(\"Entered number is not valid\")"
   ]
  },
  {
   "cell_type": "code",
   "execution_count": 9,
   "id": "94ab04dc",
   "metadata": {},
   "outputs": [
    {
     "name": "stdout",
     "output_type": "stream",
     "text": [
      "Enter any number to find its table: 65.7\n",
      "Table for 65.7: \n",
      "65.7 x 1 = 65.7\n",
      "65.7 x 2 = 131.4\n",
      "65.7 x 3 = 197.10000000000002\n",
      "65.7 x 4 = 262.8\n",
      "65.7 x 5 = 328.5\n",
      "65.7 x 6 = 394.20000000000005\n",
      "65.7 x 7 = 459.90000000000003\n",
      "65.7 x 8 = 525.6\n",
      "65.7 x 9 = 591.3000000000001\n",
      "65.7 x 10 = 657.0\n"
     ]
    }
   ],
   "source": [
    "def m_t(n):\n",
    "    print(f\"Table for {n}: \")\n",
    "    i = 1\n",
    "    while i <= 10:\n",
    "        r = n * i\n",
    "        print(f\"{n} x {i} = {r}\")\n",
    "        i += 1\n",
    "try:\n",
    "    n = float(input(\"Enter any number to find its table: \"))\n",
    "    m_t(n)\n",
    "except ValueError:\n",
    "    print(\"Entered number is not valid\")"
   ]
  },
  {
   "cell_type": "code",
   "execution_count": 15,
   "id": "e2ba41b4",
   "metadata": {},
   "outputs": [
    {
     "name": "stdout",
     "output_type": "stream",
     "text": [
      "Length of the First Side  a: 7\n",
      "Length of the Second Side b: 8\n",
      "Length of the Third Side  c: 8\n",
      "Isosceles Traingle\n"
     ]
    }
   ],
   "source": [
    "a = float(input(\"Length of the First Side  a: \"))\n",
    "b = float(input(\"Length of the Second Side b: \"))\n",
    "c = float(input(\"Length of the Third Side  c: \"))\n",
    "\n",
    "if a == b == c:\n",
    "    print(\"Equilateral Traingle\")\n",
    "\n",
    "elif a == b or b == c or a == c:\n",
    "    print(\"Isosceles Traingle\")\n",
    "    \n",
    "else:\n",
    "    print(\"Scalene Traingle\")"
   ]
  },
  {
   "cell_type": "code",
   "execution_count": 21,
   "id": "d43348ed",
   "metadata": {},
   "outputs": [
    {
     "name": "stdout",
     "output_type": "stream",
     "text": [
      "Enter number of rows: 7\n",
      "* \n",
      "\n",
      "* * \n",
      "\n",
      "* * * \n",
      "\n",
      "* * * * \n",
      "\n",
      "* * * * * \n",
      "\n",
      "* * * * * * \n",
      "\n",
      "* * * * * * * \n",
      "\n"
     ]
    }
   ],
   "source": [
    "n = int(input(\"Enter number of rows: \"))\n",
    "for i in range(1,n+1):\n",
    "    for j in range(1,i+1):\n",
    "            print(\"*\",end=\" \")\n",
    "    print(\"\\n\")"
   ]
  },
  {
   "cell_type": "code",
   "execution_count": 24,
   "id": "e7a99280",
   "metadata": {},
   "outputs": [
    {
     "name": "stdout",
     "output_type": "stream",
     "text": [
      "* \n",
      "\n",
      "* * \n",
      "\n",
      "* * * \n",
      "\n",
      "* * * * \n",
      "\n",
      "* * * * * \n",
      "\n"
     ]
    }
   ],
   "source": [
    "n = 5\n",
    "for i in range(1,n+1):\n",
    "    for j in range(1,i+1):\n",
    "            print(\"*\",end=\" \")\n",
    "    print(\"\\n\")"
   ]
  },
  {
   "cell_type": "code",
   "execution_count": 36,
   "id": "594c4b54",
   "metadata": {},
   "outputs": [
    {
     "name": "stdout",
     "output_type": "stream",
     "text": [
      "* * * * * \n",
      "* * * * \n",
      "* * * \n",
      "* * \n",
      "* \n"
     ]
    }
   ],
   "source": [
    "n = 5\n",
    "for i in range(n,0,-1):\n",
    "    for j in range(0,i):\n",
    "            print(\"*\",end=\" \")\n",
    "    print()"
   ]
  },
  {
   "cell_type": "code",
   "execution_count": 46,
   "id": "43d9968a",
   "metadata": {},
   "outputs": [
    {
     "name": "stdout",
     "output_type": "stream",
     "text": [
      "        * \n",
      "      * * \n",
      "    * * * \n",
      "  * * * * \n",
      "* * * * * \n"
     ]
    }
   ],
   "source": [
    "n = 5\n",
    "for i in range(1, n + 1):\n",
    "    \n",
    "    for j in range(n - i):\n",
    "            print(\" \",end = \" \")\n",
    "    \n",
    "    for k in range(i):\n",
    "        if k == i - 1:\n",
    "            print(\"*\",end = \" \")\n",
    "        else:\n",
    "            print(\"*\",end = \" \")\n",
    "    print()"
   ]
  },
  {
   "cell_type": "code",
   "execution_count": 48,
   "id": "f8394cc7",
   "metadata": {},
   "outputs": [
    {
     "name": "stdout",
     "output_type": "stream",
     "text": [
      "        * \n",
      "      * * \n",
      "    * * * \n",
      "  * * * * \n",
      "* * * * * \n"
     ]
    }
   ],
   "source": [
    "n = 5\n",
    "for i in range (1,n+1):\n",
    "    \n",
    "    for j in range (n - i):\n",
    "        print(\" \", end = \" \")\n",
    "    \n",
    "    for k in range(i):\n",
    "        if k == i - 1:\n",
    "            print(\"*\", end = \" \")\n",
    "        else:\n",
    "            print(\"*\", end = \" \")\n",
    "    print()"
   ]
  },
  {
   "cell_type": "code",
   "execution_count": 64,
   "id": "5a78207a",
   "metadata": {},
   "outputs": [
    {
     "name": "stdout",
     "output_type": "stream",
     "text": [
      "    * \n",
      "   * * \n",
      "  * * * \n",
      " * * * * \n",
      "* * * * * \n"
     ]
    }
   ],
   "source": [
    "n = 5\n",
    "for i in range (1,n+1):\n",
    "    \n",
    "    for j in range (n - i):\n",
    "        print(\" \", end = \"\")\n",
    "    \n",
    "    for k in range(i):\n",
    "        if k == i - 1:\n",
    "            print(\"*\", end = \"\")\n",
    "        else:\n",
    "            print(\"* \", end = \"\")\n",
    "    print()"
   ]
  },
  {
   "cell_type": "code",
   "execution_count": 110,
   "id": "bb281c4b",
   "metadata": {},
   "outputs": [
    {
     "name": "stdout",
     "output_type": "stream",
     "text": [
      "* * * * * \n",
      " * * * * \n",
      "  * * * \n",
      "   * * \n",
      "    * \n"
     ]
    }
   ],
   "source": [
    "n = 5\n",
    "for i in range (n,0,-1):\n",
    "    \n",
    "    for j in range (n - i):\n",
    "        print(\" \", end = \"\")\n",
    "    \n",
    "    for k in range(i):\n",
    "        if k == i - 1:\n",
    "            print(\"* \", end = \"\")\n",
    "        else:\n",
    "            print(\"* \", end = \"\" )\n",
    "    print()"
   ]
  },
  {
   "cell_type": "code",
   "execution_count": 198,
   "id": "4fbca62f",
   "metadata": {},
   "outputs": [
    {
     "name": "stdout",
     "output_type": "stream",
     "text": [
      "     *\n",
      "    * *\n",
      "   * * *\n",
      "  * * * *\n",
      " * * * * *\n",
      "* * * * * *\n",
      " * * * * *\n",
      "  * * * *\n",
      "   * * *\n",
      "    * *\n",
      "     *\n"
     ]
    }
   ],
   "source": [
    "n = 6\n",
    "for i in range (1,n+1):\n",
    "    \n",
    "    for j in range (n - i):\n",
    "        print(\" \", end = \"\")\n",
    "    \n",
    "    for k in range(i):\n",
    "        if k == i - 1:\n",
    "            print(\"*\", end = \"\")\n",
    "        else:\n",
    "            print(\"*\", end = \" \")\n",
    "    print()\n",
    "for i in range (n-1,0,-1):\n",
    "    \n",
    "    for j in range (n - i):\n",
    "        print(\" \", end = \"\")\n",
    "    \n",
    "    for k in range(1,i+1):\n",
    "        if k == i:\n",
    "            print(\"*\", end = \"\")\n",
    "        else:\n",
    "            print(\"*\", end = \" \" )\n",
    "    print()"
   ]
  },
  {
   "cell_type": "code",
   "execution_count": 204,
   "id": "8a207e0d",
   "metadata": {},
   "outputs": [
    {
     "name": "stdout",
     "output_type": "stream",
     "text": [
      "Principle Amount : 20000\n",
      "Time in Years    : 2\n",
      "Rate Of Interest : 10\n",
      "Simple Interest         =  4000.0\n",
      "Total Amount to be paid = 24000.0\n"
     ]
    }
   ],
   "source": [
    "p = float(input(\"Principle Amount : \"))\n",
    "t = float(input(\"Time in Years    : \"))\n",
    "r = float(input(\"Rate Of Interest : \"))\n",
    "\n",
    "si = p*t*r/100\n",
    "\n",
    "a  = si + p\n",
    "\n",
    "print(\"Simple Interest         = \",si)\n",
    "print(\"Total Amount to be paid =\",a)"
   ]
  },
  {
   "cell_type": "code",
   "execution_count": 206,
   "id": "78fc6942",
   "metadata": {},
   "outputs": [
    {
     "name": "stdout",
     "output_type": "stream",
     "text": [
      "Enter number of numbers to find their sum(enter 0 to stop): 45\n",
      "Enter number of numbers to find their sum(enter 0 to stop): 90\n",
      "Enter number of numbers to find their sum(enter 0 to stop): 95\n",
      "Enter number of numbers to find their sum(enter 0 to stop): 89\n",
      "Enter number of numbers to find their sum(enter 0 to stop): 0\n",
      "The sum of the numbers entered is: 319.0\n"
     ]
    }
   ],
   "source": [
    "def s_m():\n",
    "    t_s = 0\n",
    "    \n",
    "    while True:\n",
    "        try:\n",
    "            n = float(input(\"Enter number of numbers to find their sum(enter 0 to stop): \"))\n",
    "            \n",
    "            if n == 0:\n",
    "                break\n",
    "            t_s += n\n",
    "        except ValueError:\n",
    "            print(\"Invalid input. Enter a Valid Number...!\")\n",
    "    print(f\"The sum of the numbers entered is: {t_s}\")\n",
    "\n",
    "s_m()"
   ]
  },
  {
   "cell_type": "code",
   "execution_count": 207,
   "id": "689814f5",
   "metadata": {},
   "outputs": [
    {
     "name": "stdout",
     "output_type": "stream",
     "text": [
      "Enter a number to reverse it : 6789\n",
      "9876\n"
     ]
    }
   ],
   "source": [
    "n = str(input(\"Enter a number to reverse it : \"))\n",
    "\n",
    "r = n[::-1]\n",
    "\n",
    "print(r)"
   ]
  },
  {
   "cell_type": "code",
   "execution_count": 210,
   "id": "038e9830",
   "metadata": {},
   "outputs": [
    {
     "name": "stdout",
     "output_type": "stream",
     "text": [
      "Enter the limit for the Fibonacci series: 89\n",
      "0 1 1 2 3 5 8 13 21 34 55 89 "
     ]
    }
   ],
   "source": [
    "def fibonacci(limit):\n",
    "    # Initialize the first two Fibonacci numbers\n",
    "    a, b = 0, 1\n",
    "    \n",
    "    # Print the first two numbers (0 and 1)\n",
    "    print(a, end=\" \")\n",
    "    if limit > 0:\n",
    "        print(b, end=\" \")\n",
    "    \n",
    "    # Generate and print subsequent Fibonacci numbers\n",
    "    while True:\n",
    "        c = a + b\n",
    "        if c > limit:\n",
    "            break\n",
    "        print(c, end=\" \")\n",
    "        a = b\n",
    "        b = c\n",
    "\n",
    "# Input from the user\n",
    "try:\n",
    "    limit = int(input(\"Enter the limit for the Fibonacci series: \"))\n",
    "    fibonacci(limit)\n",
    "except ValueError:\n",
    "    print(\"Please enter a valid integer.\")\n"
   ]
  },
  {
   "cell_type": "code",
   "execution_count": 218,
   "id": "e36e5471",
   "metadata": {},
   "outputs": [
    {
     "name": "stdout",
     "output_type": "stream",
     "text": [
      "Enter any number to find reverse order from it: 3\n",
      "3\n",
      "2\n",
      "1\n"
     ]
    }
   ],
   "source": [
    "i = n\n",
    "n = int(input(\"Enter any number to find reverse order from it: \"))\n",
    "for i in range(n,0,-1):\n",
    "    print(i)"
   ]
  },
  {
   "cell_type": "code",
   "execution_count": null,
   "id": "277bb28a",
   "metadata": {},
   "outputs": [],
   "source": []
  }
 ],
 "metadata": {
  "kernelspec": {
   "display_name": "Python 3 (ipykernel)",
   "language": "python",
   "name": "python3"
  },
  "language_info": {
   "codemirror_mode": {
    "name": "ipython",
    "version": 3
   },
   "file_extension": ".py",
   "mimetype": "text/x-python",
   "name": "python",
   "nbconvert_exporter": "python",
   "pygments_lexer": "ipython3",
   "version": "3.9.13"
  }
 },
 "nbformat": 4,
 "nbformat_minor": 5
}

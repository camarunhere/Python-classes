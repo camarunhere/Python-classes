{
 "cells": [
  {
   "cell_type": "code",
   "execution_count": 1,
   "id": "0925ed17",
   "metadata": {},
   "outputs": [],
   "source": [
    "# Object Oriented Programming:\n",
    "#                               1.Class\n",
    "#                               2.Object\n",
    "#                               3.Encapsulation\n",
    "#                               4.Inheritance\n",
    "#                               5.Polymorphism\n",
    "#                               6.Abstraction\n",
    "\n",
    "# Any programming language which supports above mentioned concepts. i.e.,known as Object Oriented Programming Language\n",
    "\n",
    "# Eg : Python, Java , C++ , C-sharp(C#) etc.,\n",
    "\n",
    "# Why these OOPS concepts are required?\n",
    "\n",
    "# => To create real-time powerful software applications we use oops concepts \n",
    "\n",
    "# 1. Class   =>  Class is a blueprint or model or template\n",
    "#            =>  Class is a virtual entity(That is not physical)\n",
    "#            =>  It is used to store all related data and functionalities\n",
    "\n",
    "#   syntax : class class_name:\n",
    "#                   variables(to store data)\n",
    "#                   methods(to perform functionalities)\n",
    "\n",
    "# 2. Object  =>  It is an real-world entity or physical entity with some data and behaviours / functionalities\n",
    "\n",
    "\n",
    "#    syntax : variable_name = class_name()"
   ]
  },
  {
   "cell_type": "code",
   "execution_count": 7,
   "id": "7547aef5",
   "metadata": {},
   "outputs": [
    {
     "name": "stdout",
     "output_type": "stream",
     "text": [
      "Class creation done\n",
      "Arun\n",
      "53\n",
      "Python\n"
     ]
    }
   ],
   "source": [
    "#Create a class to store student details\n",
    "\n",
    "class Student:\n",
    "    roll_no = 53\n",
    "    name = 'Arun'\n",
    "    course = 'Python'\n",
    "    \n",
    "print('Class creation done')\n",
    "\n",
    "s1 = Student()\n",
    "print(s1.name)\n",
    "print(s1.roll_no)\n",
    "print(s1.course)\n"
   ]
  },
  {
   "cell_type": "code",
   "execution_count": 8,
   "id": "4652ebf2",
   "metadata": {},
   "outputs": [],
   "source": [
    "#Class don't store data unless,until we create an object for that class. After creating object then the data can be stored\n",
    "\n",
    "#c - class , m - method , f - function , p - parameter.\n",
    "\n",
    "#When we create an object the data is going to be stored in the RAM physically\n",
    "\n",
    "#Rules for ClassNames :\n",
    "#                       => Each word should start with CAPITALS\n",
    "#                       => Don't leave space between words or ClassName(we can write like this without space)\n",
    "#                       => Generally class names should be nouns, singulars"
   ]
  },
  {
   "cell_type": "code",
   "execution_count": null,
   "id": "3c409afb",
   "metadata": {},
   "outputs": [],
   "source": []
  }
 ],
 "metadata": {
  "kernelspec": {
   "display_name": "Python 3 (ipykernel)",
   "language": "python",
   "name": "python3"
  },
  "language_info": {
   "codemirror_mode": {
    "name": "ipython",
    "version": 3
   },
   "file_extension": ".py",
   "mimetype": "text/x-python",
   "name": "python",
   "nbconvert_exporter": "python",
   "pygments_lexer": "ipython3",
   "version": "3.9.13"
  }
 },
 "nbformat": 4,
 "nbformat_minor": 5
}

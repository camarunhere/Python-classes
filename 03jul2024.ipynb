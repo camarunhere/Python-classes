{
 "cells": [
  {
   "cell_type": "markdown",
   "id": "5ae7a1ef",
   "metadata": {},
   "source": [
    "#Regular Expressions\n"
   ]
  },
  {
   "cell_type": "markdown",
   "id": "3ec72d9d",
   "metadata": {},
   "source": [
    "RegEx is a string pattern which is used to to check if a string contains the specified pattern"
   ]
  },
  {
   "cell_type": "markdown",
   "id": "91acc4ce",
   "metadata": {},
   "source": [
    "=> re is a predefined module in python which is used for string related functionalities\n",
    "\n",
    "\n",
    "\n",
    "=> we need to  import re module for doing regex functions"
   ]
  },
  {
   "cell_type": "markdown",
   "id": "03ae6262",
   "metadata": {},
   "source": [
    "# String pattern\n",
    "\n",
    "=> For creating any string pattern, we need to remember some specific symbols\n",
    "    \n",
    "    \n",
    "    \n",
    "    *meta charaters\n",
    "    \n",
    "    \n",
    "    *sets\n",
    "    \n",
    "    \n",
    "    *special/specific sequences"
   ]
  },
  {
   "cell_type": "markdown",
   "id": "aec4556d",
   "metadata": {},
   "source": [
    "# Meta Characters\n",
    "\n",
    "\n",
    "Example:\n",
    "\n",
    "\n",
    "\n",
    "[]  ---- set of characters\n",
    "\n",
    "\n",
    "^   ---- checking with starting word\n",
    "\n",
    "\n",
    "$   ----   checking with end word\n",
    "\n",
    "\n",
    "\n",
    ".   -----  checking any character\n",
    "\n",
    "\n",
    "\n",
    "\"*\"  ------  zero or more occurrences\n",
    "\n",
    "\n",
    "\n",
    "{}  ------- exact specific number of occurence\n",
    "\n",
    "\n",
    "\n",
    "\"+\" ------   one or more occurences\n",
    "\n"
   ]
  },
  {
   "cell_type": "markdown",
   "id": "16a096a0",
   "metadata": {},
   "source": [
    "# Specific Sequences\n",
    "\n",
    "\n",
    "\n",
    "\\d -- returns a match if any digits present in string i.e., 0 to 9\n",
    "\n",
    "\n",
    "\\D -- returns a match if string doesn't contain any digits i.e., 0 to 9\n",
    "\n",
    "\n",
    "\\s -- returns a match if string contain any space\n",
    "\n",
    "\n",
    "\\S -- returns a match if string doesn't contain any white space character\n",
    "\n",
    "\n",
    "\\w  -- returns a match if string contains any characters or digits"
   ]
  },
  {
   "cell_type": "markdown",
   "id": "4614cc8f",
   "metadata": {},
   "source": [
    "# Sets\n",
    "\n",
    "\n",
    "Sets are a set of characters present inside square brackets\n",
    "\n",
    "\n",
    "\n",
    "Python Virtual Machine[PVM]     ___ returns a match if characters are present i.e., p or v or m\n",
    "\n",
    "\n",
    "[a-p]  --- returns a match if characters are present in between a to p\n",
    "\n",
    "\n",
    "[123]  --- returns a match if digits are present i.e., 1 or 2 or 3\n",
    "\n",
    "\n",
    "[1-6] ---- returns a match if digits is present in between 1 to 6\n",
    "\n",
    "\n",
    "[^pvm]   --- returns all characters except p or v or m\n",
    "\n",
    "\n",
    "[0-9][0-9]  ---- returns a match for any two numbers from 00 to 99\n",
    "\n",
    "\n",
    "[a-zA-Z] --- returns a match with all characters i.e., uppercase and lowercase"
   ]
  },
  {
   "cell_type": "markdown",
   "id": "557e6fda",
   "metadata": {},
   "source": [
    "# Some imp regex functions\n",
    "\n",
    "\n",
    "\n",
    "=> findall() --- It is predefined function in a module which returns a list contains all matches\n",
    "\n",
    "\n",
    "Syntax: \n",
    "\n",
    "       \n",
    "        import re\n",
    "        variable_name = re.findall(\"pattern\",original_string)\n",
    "\n",
    "\n",
    "Example 1:\n",
    "        \n",
    "        \n",
    "        Find a python word in a string\n",
    "        \n",
    "        \n",
    "        import re\n",
    "        \n",
    "        x = \"python regular expression python\"\n",
    "        \n",
    "        y = re.findall (\"python\",x)\n",
    "        \n",
    "        print(y)\n",
    "        \n",
    "        \n",
    "        \n",
    "Example 2:\n",
    "\n",
    "\n",
    "        Find mutliple (p or y) characters in a string\n",
    "        \n",
    "        \n",
    "        import re\n",
    "        \n",
    "        a = \"python regular expression python\"\n",
    "        \n",
    "        b = re.findall(\"[py]\",a)\n",
    "        \n",
    "        print(b)\n",
    "        \n",
    "        \n",
    "\n",
    "\n",
    "=> search()\n",
    "\n",
    "\n",
    "=> split()\n",
    "\n",
    "\n",
    "=> sub()\n",
    "\n",
    "\n",
    "=> match()\n",
    "\n",
    "\n",
    "=> fullmatch()"
   ]
  },
  {
   "cell_type": "code",
   "execution_count": 2,
   "id": "4bcbc093",
   "metadata": {},
   "outputs": [
    {
     "name": "stdout",
     "output_type": "stream",
     "text": [
      "[' ', 'r', 'e', 'g', 'u', 'l', 'a', 'r', ' ', 'e', 'x', 'p', 'r', 'e', 's', 's', 'i', ' ']\n"
     ]
    }
   ],
   "source": [
    "import re \n",
    "x = \"Python regular expression Python\"\n",
    "\n",
    "y = re.findall(\"[^Python]\",x)   #Except Python everything will be matched and printed\n",
    "\n",
    "print(y)"
   ]
  },
  {
   "cell_type": "code",
   "execution_count": 3,
   "id": "40d2beb7",
   "metadata": {},
   "outputs": [
    {
     "name": "stdout",
     "output_type": "stream",
     "text": [
      "['Python', 'Python']\n"
     ]
    }
   ],
   "source": [
    "import re \n",
    "x = \"Python regular expression Python\"\n",
    "\n",
    "y = re.findall(\"Python\",x)\n",
    "\n",
    "print(y)"
   ]
  },
  {
   "cell_type": "code",
   "execution_count": 4,
   "id": "8b3a0406",
   "metadata": {},
   "outputs": [
    {
     "name": "stdout",
     "output_type": "stream",
     "text": [
      "['P', 'y', 't', 'h', 'o', 'n', 'o', 'n', 'P', 'y', 't', 'h', 'o', 'n']\n"
     ]
    }
   ],
   "source": [
    "import re \n",
    "x = \"Python regular expression Python\"\n",
    "\n",
    "y = re.findall(\"[Python]\",x)\n",
    "\n",
    "print(y)"
   ]
  },
  {
   "cell_type": "code",
   "execution_count": 6,
   "id": "cd299652",
   "metadata": {},
   "outputs": [
    {
     "name": "stdout",
     "output_type": "stream",
     "text": [
      "['P', 'y', 'P', 'y']\n"
     ]
    }
   ],
   "source": [
    "import re \n",
    "x = \"Python regular expression Python\"\n",
    "\n",
    "y = re.findall(\"[Py]\",x)\n",
    "\n",
    "print(y)"
   ]
  },
  {
   "cell_type": "code",
   "execution_count": 8,
   "id": "bb100297",
   "metadata": {},
   "outputs": [
    {
     "name": "stdout",
     "output_type": "stream",
     "text": [
      "['lab', 'lb', 'laab']\n"
     ]
    }
   ],
   "source": [
    "#Example 4:\n",
    "\n",
    "#Find word which start with l and end with b and in between zero or multiple \"a\"\n",
    "\n",
    "\n",
    "import re \n",
    "\n",
    "m = \"python lab bangalore lb is laab\"\n",
    "\n",
    "n = re.findall(\"la*b\",m)  #a* means 0 or 1 or more \"a\" characters will check\n",
    "\n",
    "print(n)"
   ]
  },
  {
   "cell_type": "code",
   "execution_count": 10,
   "id": "31c0bf83",
   "metadata": {},
   "outputs": [
    {
     "name": "stdout",
     "output_type": "stream",
     "text": [
      "['lab', 'lb', 'laab']\n",
      "['lab', 'laab']\n"
     ]
    }
   ],
   "source": [
    "#Example 5:\n",
    "\n",
    "\n",
    "#Find word which start with l and end with b and in between one or multiple \"a\"\n",
    "\n",
    "import re\n",
    "\n",
    "x = \"python lab bangalore lb is laab\"\n",
    "\n",
    "y = re.findall(\"la*b\",m)  #a* means 0 or 1 or more \"a\" characters will check\n",
    "z = re.findall(\"la+b\",m)  #a* means 1 or more \"a\" characters will check\n",
    "\n",
    "print(y)\n",
    "print(z)"
   ]
  },
  {
   "cell_type": "markdown",
   "id": "5eea81e5",
   "metadata": {},
   "source": [
    "# SEARCH\n"
   ]
  },
  {
   "cell_type": "markdown",
   "id": "54197993",
   "metadata": {},
   "source": [
    "It is used to search pattern and find the object if it is matched\n",
    "\n",
    "It is a predefined method in re module which is used to search pattern and returns match object if it is matched\n",
    "\n",
    "#Example\n",
    "\n",
    "\n",
    "address = \"Python Technologies Bangalore\"\n",
    "\n",
    "x = re.search(\"Tech\", address)\n",
    "\n",
    "print(x)\n",
    "\n",
    "print(x.start()) #start() is a predefined function for giving starting\n",
    "\n",
    "print(x.end())"
   ]
  },
  {
   "cell_type": "code",
   "execution_count": 11,
   "id": "d001ffd4",
   "metadata": {},
   "outputs": [
    {
     "name": "stdout",
     "output_type": "stream",
     "text": [
      "<re.Match object; span=(7, 9), match='la'>\n",
      "7\n"
     ]
    }
   ],
   "source": [
    "import re\n",
    "\n",
    "x = 'python lab is regular lb Bengaluru laab'\n",
    "\n",
    "y = re.search ('la',x)\n",
    "\n",
    "print(y)\n",
    "\n",
    "print(y.start())\n",
    "\n"
   ]
  },
  {
   "cell_type": "markdown",
   "id": "050a3c97",
   "metadata": {},
   "source": [
    "# Split"
   ]
  },
  {
   "cell_type": "markdown",
   "id": "79d69ef2",
   "metadata": {},
   "source": [
    "It is a predefined method in re module which is used to split the string into words and store in list"
   ]
  },
  {
   "cell_type": "code",
   "execution_count": 12,
   "id": "5c4dff99",
   "metadata": {},
   "outputs": [],
   "source": [
    "#Example 1\n",
    "\n",
    "#Req : split the below string into words and store in list\n",
    "\n",
    "\n",
    "import re "
   ]
  },
  {
   "cell_type": "code",
   "execution_count": 13,
   "id": "ce3e7047",
   "metadata": {},
   "outputs": [
    {
     "name": "stdout",
     "output_type": "stream",
     "text": [
      "['127', '128', '256', '256']\n"
     ]
    }
   ],
   "source": [
    "#Example 2\n",
    "\n",
    "#req : Split below ip address based on dot and store in list\n",
    "\n",
    "\n",
    "import re\n",
    "\n",
    "x = \"127.128.256.256\"\n",
    "\n",
    "y = re.split('\\.',x)\n",
    "\n",
    "print(y)"
   ]
  },
  {
   "cell_type": "code",
   "execution_count": 15,
   "id": "e38b3583",
   "metadata": {},
   "outputs": [
    {
     "name": "stdout",
     "output_type": "stream",
     "text": [
      "['python', 'technologies', 'www', 'python', 'org', 'anaconda', 'com']\n"
     ]
    }
   ],
   "source": [
    "import re\n",
    "address = \"python-technologies;www.python.org;anaconda.com\"\n",
    "x = re.split(\"[-;.]\",address)\n",
    "print(x)"
   ]
  },
  {
   "cell_type": "markdown",
   "id": "10b29909",
   "metadata": {},
   "source": [
    "# Sub"
   ]
  },
  {
   "cell_type": "markdown",
   "id": "5b8ac1dc",
   "metadata": {},
   "source": [
    "It is a predefined function in re module which is used to replace match value with other value"
   ]
  },
  {
   "cell_type": "code",
   "execution_count": 18,
   "id": "9c75e29b",
   "metadata": {},
   "outputs": [
    {
     "name": "stdout",
     "output_type": "stream",
     "text": [
      "Bangalore is cooler than Hyderabad\n",
      "Hyderabad is hotter than Hyderabad\n"
     ]
    }
   ],
   "source": [
    "#Example:\n",
    "\n",
    "stmt = \"Bangalore is hotter than Hyderabad\"\n",
    "\n",
    "x = re.sub(\"hotter\",\"cooler\",stmt)\n",
    "y = re.sub(\"Bangalore\",\"Hyderabad\",stmt)\n",
    "\n",
    "print(x)\n",
    "print(y)"
   ]
  },
  {
   "cell_type": "code",
   "execution_count": 38,
   "id": "689fc044",
   "metadata": {},
   "outputs": [
    {
     "name": "stdout",
     "output_type": "stream",
     "text": [
      "Bangalore is hotter than Hyderabad\n"
     ]
    }
   ],
   "source": [
    "stmt = 'Bangalore_is_hotter_than_Hyderabad'\n",
    "\n",
    "x = re.sub(\"_\",\" \",stmt)\n",
    "print(x)"
   ]
  },
  {
   "cell_type": "code",
   "execution_count": 37,
   "id": "68b68c0b",
   "metadata": {},
   "outputs": [
    {
     "name": "stdout",
     "output_type": "stream",
     "text": [
      "['fizz', 'fizz']\n",
      "['1', '2', '8', '7', '9', '6', '5', '4', '5', '6', '7', '8', '7', '6']\n",
      "['1', '2', '5', '4', '5']\n",
      "['f', 'i', 'z', 'z', ' ', 'b', 'u', 'z', 'z', ' ', 'b', 'u', 'z', 'z', ' ', 'f', 'i', 'z', 'z', ' ', 's', 'u', 'z', 'z', ' ', '1', '2', ' ', 'm', 'i', 'z', 'z', ' ', 't', 'u', 'z', 'z', ' ']\n",
      "<re.Match object; span=(0, 4), match='fizz'>\n",
      "0\n",
      "<re.Match object; span=(43, 50), match='4567876'>\n",
      "50\n"
     ]
    }
   ],
   "source": [
    "string = \"fizz buzz buzz fizz suzz 1287965 mizz tuzz 4567876\"\n",
    "\n",
    "x = re.findall(\"fizz\",string)\n",
    "print(x)\n",
    "y = re.findall(\"[0-9]\",string)\n",
    "print(y)\n",
    "z = re.findall(\"[0-5]\",string)\n",
    "print(z)\n",
    "a = re.findall(\"[^4-9]\",string)\n",
    "print(a)\n",
    "b = re.search(\"fizz\",string)\n",
    "print(b)\n",
    "print(b.start())\n",
    "c = re.search(\"4567876\",string)\n",
    "print(c)\n",
    "print(c.end())"
   ]
  },
  {
   "cell_type": "code",
   "execution_count": 51,
   "id": "6dd55516",
   "metadata": {},
   "outputs": [
    {
     "name": "stdout",
     "output_type": "stream",
     "text": [
      "['fizz', 'buzz;buzz', 'fizz,suzz 1287965.mizz;tuzz 4567876']\n",
      "['fizz-buzz;buzz-fizz', 'suzz 1287965.mizz;tuzz 4567876']\n",
      "['fizz', 'buzz;buzz', 'fizz,suzz', '1287965.mizz;tuzz', '4567876']\n",
      "['fizz', 'buzz', 'buzz', 'fizz,suzz 1287965', 'mizz', 'tuzz 4567876']\n"
     ]
    }
   ],
   "source": [
    "str = \"fizz-buzz;buzz-fizz,suzz 1287965.mizz;tuzz 4567876\"\n",
    "x = re.split(\"[\\-]\",str)\n",
    "print(x)\n",
    "y = re.split(\"[\\,]\",str)\n",
    "print(y)\n",
    "z = re.split(\"[\\- ]\",str)\n",
    "print(z)\n",
    "a = re.split(\"[\\-;.]\",str)\n",
    "print(a)"
   ]
  },
  {
   "cell_type": "code",
   "execution_count": 52,
   "id": "21175fac",
   "metadata": {},
   "outputs": [
    {
     "name": "stdout",
     "output_type": "stream",
     "text": [
      "<re.Match object; span=(7, 11), match='Tech'>\n",
      "7\n",
      "11\n"
     ]
    }
   ],
   "source": [
    "\n",
    "address = \"Python Technologies Bangalore\"\n",
    "\n",
    "x = re.search(\"Tech\", address)\n",
    "\n",
    "print(x)\n",
    "\n",
    "print(x.start()) #start() is a predefined function for giving starting\n",
    "\n",
    "print(x.end())"
   ]
  },
  {
   "cell_type": "code",
   "execution_count": null,
   "id": "2ff4e597",
   "metadata": {},
   "outputs": [],
   "source": []
  }
 ],
 "metadata": {
  "kernelspec": {
   "display_name": "Python 3 (ipykernel)",
   "language": "python",
   "name": "python3"
  },
  "language_info": {
   "codemirror_mode": {
    "name": "ipython",
    "version": 3
   },
   "file_extension": ".py",
   "mimetype": "text/x-python",
   "name": "python",
   "nbconvert_exporter": "python",
   "pygments_lexer": "ipython3",
   "version": "3.9.13"
  }
 },
 "nbformat": 4,
 "nbformat_minor": 5
}

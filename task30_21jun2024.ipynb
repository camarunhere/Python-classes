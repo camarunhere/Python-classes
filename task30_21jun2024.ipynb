{
 "cells": [
  {
   "cell_type": "code",
   "execution_count": 6,
   "id": "a5e713cb",
   "metadata": {},
   "outputs": [
    {
     "name": "stdout",
     "output_type": "stream",
     "text": [
      "Which course are you going to choose?: \n",
      "B.sc\n",
      "When are you thinking to take admission?: \n",
      "Jun & 2019\n"
     ]
    }
   ],
   "source": [
    "class TrainersDept:\n",
    "    def trainerwork(self,coursename):\n",
    "        print(\"Which course are you going to choose?: \")\n",
    "        print(coursename)\n",
    "    def trainerwork1(self,monthndyear):\n",
    "        print(\"When are you thinking to take admission?: \")\n",
    "        print(monthndyear)\n",
    "TD1 = TrainersDept()\n",
    "TD2 = TrainersDept()\n",
    "\n",
    "TD1.trainerwork(\"B.sc\")\n",
    "TD2.trainerwork1(\"Jun & 2019\")"
   ]
  },
  {
   "cell_type": "code",
   "execution_count": 26,
   "id": "e77e9bc0",
   "metadata": {},
   "outputs": [
    {
     "name": "stdout",
     "output_type": "stream",
     "text": [
      "Fee :  600000\n",
      "Scholarship Amount:  500000\n",
      "To Be Paid: 100000\n",
      "Annual Income: 20000\n",
      "BPL: no\n",
      "You can proceed with the fee to be paid\n"
     ]
    }
   ],
   "source": [
    "class SalesDept:\n",
    "    def seller(self,Fee,Scholarship,To_pay):\n",
    "        print(\"Fee : \",Fee)\n",
    "        print(\"Scholarship Amount: \",Scholarship)\n",
    "        print(\"To Be Paid:\",To_pay)\n",
    "    def seller1(self,Income,BPL):\n",
    "        print(\"Annual Income:\",Income)\n",
    "        print(\"BPL:\",BPL)\n",
    "        if BPL == 'yes' or BPL == 'Yes' or BPL == 'YES' :\n",
    "            if Income <= 200000:\n",
    "                print(\"You are free to study here\")\n",
    "        else:\n",
    "            print(\"You can proceed with the fee to be paid\")\n",
    "        \n",
    "s1 = SalesDept()\n",
    "s2 = SalesDept()\n",
    "\n",
    "s1.seller(600000,500000,100000)\n",
    "s2.seller1(20000,'no')"
   ]
  },
  {
   "cell_type": "code",
   "execution_count": 28,
   "id": "8dd9418b",
   "metadata": {},
   "outputs": [
    {
     "name": "stdout",
     "output_type": "stream",
     "text": [
      "Which branch have you selected?:  CSE\n",
      "These are the subjects you have:  Computer programming , Ethics , Communication , Fitjee , French\n",
      "You can explore your interests in :  Travelling , Documentation , Scipt_writing as well\n",
      "You can work on your Photography Always\n"
     ]
    }
   ],
   "source": [
    "class HrDept:\n",
    "    def hr(self,Branch,Subjects):\n",
    "        print(\"Which branch have you selected?: \",Branch)\n",
    "        print(\"These are the subjects you have: \",Subjects)\n",
    "    def hrr(self,Interests,Passion):\n",
    "        print(\"You can explore your interests in : \",Interests,\"as well\")\n",
    "        print(\"You can work on your\",Passion,\"Always\")\n",
    "h1 = HrDept()\n",
    "h2 = HrDept()\n",
    "\n",
    "h1.hr(\"CSE\",\"Computer programming , Ethics , Communication , Fitjee , French\")\n",
    "h2.hrr(\"Travelling , Documentation , Scipt_writing\",\"Photography\")\n",
    "    \n",
    "    "
   ]
  },
  {
   "cell_type": "code",
   "execution_count": 35,
   "id": "ab1184a7",
   "metadata": {},
   "outputs": [
    {
     "name": "stdout",
     "output_type": "stream",
     "text": [
      "How did you get to know us?: From friends\n",
      "What brings your interest to join as one of us?:  They say this is one of best college with good management\n",
      "I accept the way you explored and explained us, Thank you for choosing us\n",
      "We will try to make it better everytime you approach us, Welcome on board Champ\n"
     ]
    }
   ],
   "source": [
    "class MarDept:\n",
    "    def md(self,Reach,Review):\n",
    "        print(\"How did you get to know us?:\",Reach)\n",
    "        print(\"What brings your interest to join as one of us?: \",Review)\n",
    "    def mdd(self,React,Review):\n",
    "        print(\"I accept the way you explored and explained us,\",React)\n",
    "        print(\"We will try to make it better everytime you approach us,\",Review)\n",
    "\n",
    "m1 = MarDept()\n",
    "m2 = MarDept()\n",
    "\n",
    "m1.md(\"From friends\",\"They say this is one of best college with good management\")\n",
    "m2.mdd(\"Thank you for choosing us\",\"Welcome on board Champ\")"
   ]
  },
  {
   "cell_type": "code",
   "execution_count": null,
   "id": "bfde94fb",
   "metadata": {},
   "outputs": [],
   "source": []
  }
 ],
 "metadata": {
  "kernelspec": {
   "display_name": "Python 3 (ipykernel)",
   "language": "python",
   "name": "python3"
  },
  "language_info": {
   "codemirror_mode": {
    "name": "ipython",
    "version": 3
   },
   "file_extension": ".py",
   "mimetype": "text/x-python",
   "name": "python",
   "nbconvert_exporter": "python",
   "pygments_lexer": "ipython3",
   "version": "3.9.13"
  }
 },
 "nbformat": 4,
 "nbformat_minor": 5
}

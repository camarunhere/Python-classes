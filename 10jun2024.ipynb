{
 "cells": [
  {
   "cell_type": "code",
   "execution_count": 8,
   "id": "8679a703",
   "metadata": {},
   "outputs": [
    {
     "name": "stdout",
     "output_type": "stream",
     "text": [
      "[87, 67, 98, 54, 55, 75]\n",
      "<class 'list'>\n",
      "98\n",
      "98\n",
      "[54, 55]\n"
     ]
    }
   ],
   "source": [
    "##Sequence Data Types ---> Used to store multiple values or elements\n",
    "#1.List\n",
    "#2.Tuple\n",
    "#3.Set\n",
    "#4.String\n",
    "#5.Range\n",
    "\n",
    "\n",
    "#What is list?\n",
    "#How to create a list?\n",
    "\n",
    "##->T\n",
    "\n",
    "student_marks = [87,67,98,54,55,75]\n",
    "print(student_marks)\n",
    "print(type(student_marks))\n",
    "print(student_marks[2])\n",
    "print(student_marks[-4])\n",
    "print(student_marks[3:5])"
   ]
  },
  {
   "cell_type": "code",
   "execution_count": 9,
   "id": "10fa2505",
   "metadata": {},
   "outputs": [
    {
     "name": "stdout",
     "output_type": "stream",
     "text": [
      "['Shreesh', 23, 9347245607, 98.9, True]\n",
      "<class 'list'>\n"
     ]
    }
   ],
   "source": [
    "student_details = [\"Shreesh\",23,9347245607,98.9,True]\n",
    "print(student_details)\n",
    "print(type(student_details))"
   ]
  },
  {
   "cell_type": "code",
   "execution_count": 13,
   "id": "4ea4ad09",
   "metadata": {},
   "outputs": [
    {
     "name": "stdout",
     "output_type": "stream",
     "text": [
      "[87, 67, 98, 54, 55, 75, 98]\n",
      "[87, 67, 98, 65, 55, 75, 98]\n",
      "[98, 67, 98, 65, 55, 75, 98]\n"
     ]
    }
   ],
   "source": [
    "student_marks1 = [87,67,98,54,55,75,98]\n",
    "print(student_marks1)\n",
    "\n",
    "##List elements are mutable(can be changed with the data)\n",
    "student_marks1[3]=65\n",
    "print(student_marks1)\n",
    "\n",
    "student_marks1[0] = student_marks1[-1]\n",
    "print(student_marks1)"
   ]
  },
  {
   "cell_type": "code",
   "execution_count": 16,
   "id": "9fe3fa00",
   "metadata": {},
   "outputs": [
    {
     "name": "stdout",
     "output_type": "stream",
     "text": [
      "(1000, 2000, 3000, 4000, 5000)\n",
      "<class 'tuple'>\n",
      "5000\n",
      "(1000, 2000, 3000, 4000, 5000)\n"
     ]
    },
    {
     "ename": "TypeError",
     "evalue": "'tuple' object does not support item assignment",
     "output_type": "error",
     "traceback": [
      "\u001b[1;31m---------------------------------------------------------------------------\u001b[0m",
      "\u001b[1;31mTypeError\u001b[0m                                 Traceback (most recent call last)",
      "\u001b[1;32m~\\AppData\\Local\\Temp\\ipykernel_5904\\4122092636.py\u001b[0m in \u001b[0;36m<module>\u001b[1;34m\u001b[0m\n\u001b[0;32m      9\u001b[0m \u001b[0mprint\u001b[0m\u001b[1;33m(\u001b[0m\u001b[0mT1\u001b[0m\u001b[1;33m[\u001b[0m\u001b[1;33m:\u001b[0m\u001b[1;33m]\u001b[0m\u001b[1;33m)\u001b[0m\u001b[1;33m\u001b[0m\u001b[1;33m\u001b[0m\u001b[0m\n\u001b[0;32m     10\u001b[0m \u001b[1;33m\u001b[0m\u001b[0m\n\u001b[1;32m---> 11\u001b[1;33m \u001b[0mT1\u001b[0m\u001b[1;33m[\u001b[0m\u001b[1;33m-\u001b[0m\u001b[1;36m1\u001b[0m\u001b[1;33m]\u001b[0m\u001b[1;33m=\u001b[0m\u001b[1;36m6000\u001b[0m\u001b[1;33m\u001b[0m\u001b[1;33m\u001b[0m\u001b[0m\n\u001b[0m\u001b[0;32m     12\u001b[0m \u001b[0mprint\u001b[0m\u001b[1;33m(\u001b[0m\u001b[0mT1\u001b[0m\u001b[1;33m)\u001b[0m\u001b[1;33m\u001b[0m\u001b[1;33m\u001b[0m\u001b[0m\n",
      "\u001b[1;31mTypeError\u001b[0m: 'tuple' object does not support item assignment"
     ]
    }
   ],
   "source": [
    "#Tuple => It will be created using()\n",
    "#Tuple elements are immutable\n",
    "\n",
    "T1 = (1000,2000,3000,4000,5000)\n",
    "\n",
    "print(T1)\n",
    "print(type(T1))\n",
    "print(T1[-1])\n",
    "print(T1[:])\n",
    "\n",
    "T1[-1]=6000\n",
    "print(T1)"
   ]
  },
  {
   "cell_type": "code",
   "execution_count": 19,
   "id": "73657693",
   "metadata": {},
   "outputs": [
    {
     "name": "stdout",
     "output_type": "stream",
     "text": [
      "{50, 20, 40, 10, 30}\n",
      "<class 'set'>\n",
      "5\n"
     ]
    }
   ],
   "source": [
    "#Set => It will store elements in random order fashion.\n",
    "#Set does not support indexing\n",
    "#Set is created by using{}\n",
    "#Set does not allow duplicates\n",
    "\n",
    "s1 = {10,20,30,40,50}\n",
    "print(s1)\n",
    "#print(s1[1])\n",
    "print(type(s1))\n",
    "print(len(s1))"
   ]
  },
  {
   "cell_type": "code",
   "execution_count": 21,
   "id": "d49b2b84",
   "metadata": {},
   "outputs": [
    {
     "name": "stdout",
     "output_type": "stream",
     "text": [
      "Brigade Techpark\n",
      "B\n",
      "Brigade Techpark\n"
     ]
    }
   ],
   "source": [
    "# String => It is a data type where the data is represented in single quotes or double quotes\n",
    "#String is immutable\n",
    "#String follows indexed number\n",
    "\n",
    "name = 'Brigade Techpark'\n",
    "\n",
    "\n",
    "print(name)\n",
    "print(name[0])\n",
    "#name[0] = b\n",
    "print(name)"
   ]
  },
  {
   "cell_type": "code",
   "execution_count": 27,
   "id": "da9ce33a",
   "metadata": {},
   "outputs": [
    {
     "name": "stdout",
     "output_type": "stream",
     "text": [
      "[0, 1, 2, 3, 4, 5, 6, 7, 8, 9, 10, 11, 12, 13, 14, 15, 16, 17, 18, 19, 20, 21, 22, 23, 24, 25, 26, 27, 28, 29, 30, 31, 32, 33, 34, 35, 36, 37, 38, 39, 40, 41, 42, 43, 44, 45, 46, 47, 48, 49, 50, 51, 52, 53, 54, 55, 56, 57, 58, 59, 60, 61, 62, 63, 64, 65, 66, 67, 68, 69, 70, 71, 72, 73, 74, 75, 76, 77, 78, 79, 80, 81, 82, 83, 84, 85, 86, 87, 88, 89, 90, 91, 92, 93, 94, 95, 96, 97, 98, 99, 100]\n",
      "<class 'list'>\n"
     ]
    }
   ],
   "source": [
    "#Range ( ) => TO get the values/elements between the Range (or) If we want to generate the numbers according to the range\n",
    "\n",
    "\n",
    "#When we want to generate numbers upto 100\n",
    "\n",
    "#range(stop+1) => It will generate numbers from 0 to stop\n",
    "\n",
    "nums = list(range(101))\n",
    "\n",
    "print(nums)\n",
    "print(type(nums))\n",
    "\n"
   ]
  },
  {
   "cell_type": "code",
   "execution_count": 29,
   "id": "96d07f0a",
   "metadata": {},
   "outputs": [
    {
     "name": "stdout",
     "output_type": "stream",
     "text": [
      "(10, 11, 12, 13, 14, 15, 16, 17, 18, 19, 20, 21, 22, 23, 24, 25, 26, 27, 28, 29, 30, 31, 32, 33, 34, 35, 36, 37, 38, 39, 40, 41, 42, 43, 44, 45, 46, 47, 48, 49, 50)\n"
     ]
    }
   ],
   "source": [
    "#When I want to generate numbers from 10 to 50\n",
    "#Range(start,stop+1) => It will generate numbers from start and to stop\n",
    "\n",
    "numbers = tuple(range(10,51))\n",
    "print(numbers)"
   ]
  },
  {
   "cell_type": "code",
   "execution_count": 31,
   "id": "f8a4f347",
   "metadata": {},
   "outputs": [
    {
     "name": "stdout",
     "output_type": "stream",
     "text": [
      "[5, 10, 15, 20, 25, 30, 35, 40, 45, 50]\n"
     ]
    }
   ],
   "source": [
    "#When I want to generate multiples of 5\n",
    "\n",
    "#Table_of_five = set(range(5,51,5))\n",
    "#print(Table_of_five)\n",
    "\n",
    "Table_of_five = list(range(5,51,5))\n",
    "print(Table_of_five)\n"
   ]
  },
  {
   "cell_type": "code",
   "execution_count": 33,
   "id": "d6e359c9",
   "metadata": {},
   "outputs": [
    {
     "name": "stdout",
     "output_type": "stream",
     "text": [
      "[500, 498, 496, 494, 492, 490, 488, 486, 484, 482, 480, 478, 476, 474, 472, 470, 468, 466, 464, 462, 460, 458, 456, 454, 452, 450, 448, 446, 444, 442, 440, 438, 436, 434, 432, 430, 428, 426, 424, 422, 420, 418, 416, 414, 412, 410, 408, 406, 404, 402, 400, 398, 396, 394, 392, 390, 388, 386, 384, 382, 380, 378, 376, 374, 372, 370, 368, 366, 364, 362, 360, 358, 356, 354, 352, 350, 348, 346, 344, 342, 340, 338, 336, 334, 332, 330, 328, 326, 324, 322, 320, 318, 316, 314, 312, 310, 308, 306, 304, 302, 300, 298, 296, 294, 292, 290, 288, 286, 284, 282, 280, 278, 276, 274, 272, 270, 268, 266, 264, 262, 260, 258, 256, 254, 252, 250, 248, 246, 244, 242, 240, 238, 236, 234, 232, 230, 228, 226, 224, 222, 220, 218, 216, 214, 212, 210, 208, 206, 204, 202, 200]\n"
     ]
    }
   ],
   "source": [
    "#When we want to generate numbers from 500 to 200 all even numbers\n",
    "\n",
    "nums2 = list(range(500,199,-2))\n",
    "print(nums2)"
   ]
  },
  {
   "cell_type": "code",
   "execution_count": null,
   "id": "aeccea4e",
   "metadata": {},
   "outputs": [],
   "source": []
  }
 ],
 "metadata": {
  "kernelspec": {
   "display_name": "Python 3 (ipykernel)",
   "language": "python",
   "name": "python3"
  },
  "language_info": {
   "codemirror_mode": {
    "name": "ipython",
    "version": 3
   },
   "file_extension": ".py",
   "mimetype": "text/x-python",
   "name": "python",
   "nbconvert_exporter": "python",
   "pygments_lexer": "ipython3",
   "version": "3.9.13"
  }
 },
 "nbformat": 4,
 "nbformat_minor": 5
}

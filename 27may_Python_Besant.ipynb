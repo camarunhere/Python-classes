{
 "cells": [
  {
   "cell_type": "code",
   "execution_count": 19,
   "id": "ec3dbabb",
   "metadata": {},
   "outputs": [],
   "source": [
    "#WAP to take input of month number from user and print month name"
   ]
  },
  {
   "cell_type": "code",
   "execution_count": 5,
   "id": "54f817d1",
   "metadata": {},
   "outputs": [
    {
     "name": "stdout",
     "output_type": "stream",
     "text": [
      "Enter a number between 1-12:8\n",
      "August\n"
     ]
    }
   ],
   "source": [
    "n=int(input(\"Enter a number between 1-12:\"))\n",
    "if n<0:\n",
    "    print('Month does not exist')\n",
    "elif (n==1):\n",
    "       print('January')\n",
    "elif (n==2):\n",
    "        print('February')\n",
    "elif (n==3):\n",
    "        print('March')\n",
    "elif (n==4):\n",
    "        print('April')\n",
    "elif (n==5):\n",
    "        print('May')\n",
    "elif (n==6):\n",
    "        print('June')\n",
    "elif (n==7):\n",
    "        print('July')\n",
    "elif (n==8):\n",
    "        print('August')\n",
    "elif (n==9):\n",
    "        print('September')\n",
    "elif (n==10):\n",
    "        print('October')\n",
    "elif (n==11):\n",
    "        print('November')\n",
    "elif (n==12):\n",
    "        print('December')\n",
    "else :\n",
    "        print('No month exists')"
   ]
  },
  {
   "cell_type": "code",
   "execution_count": null,
   "id": "c7c3aa22",
   "metadata": {},
   "outputs": [],
   "source": [
    "#WAP to take input of month number from user and print month name By using for loop"
   ]
  },
  {
   "cell_type": "code",
   "execution_count": null,
   "id": "b1c3ca7c",
   "metadata": {},
   "outputs": [],
   "source": [
    "m=int(input(\"Enter any based on number of months:\"))\n",
    "if n<=12:\n",
    "    for m in range(1,12):\n",
    "        d1={1: 'January',2: 'February',3:'March',4 : 'April',5: 'May',6:'June',7:'July',8:'August',9:'September',10:'October',11:'November',12:'Decemeber'}\n",
    "        "
   ]
  },
  {
   "cell_type": "code",
   "execution_count": 4,
   "id": "7472d2ce",
   "metadata": {},
   "outputs": [
    {
     "name": "stdout",
     "output_type": "stream",
     "text": [
      "Enter any based on number of months:8\n",
      "August\n"
     ]
    }
   ],
   "source": [
    "m=int(input(\"Enter any number based on number of months:\"))\n",
    "    \n",
    "d1={        1: 'January',\n",
    "            2: 'February',\n",
    "            3:'March',\n",
    "            4: 'April',  \n",
    "            5:'May',\n",
    "            6:'June',\n",
    "            7:'July',\n",
    "            8:'August',\n",
    "            9:'September',\n",
    "            10:'October',\n",
    "            11:'November',\n",
    "            12:'Decemeber'\n",
    "           }\n",
    "if m not in range(1,13):\n",
    "    print(\"Not a valid month\")\n",
    "else:\n",
    "    print(d1[m])\n",
    "        \n",
    "        "
   ]
  },
  {
   "cell_type": "code",
   "execution_count": 5,
   "id": "b672deb5",
   "metadata": {},
   "outputs": [],
   "source": [
    "#L=[1,1,67,43,43,34,5,7,9,32,32] - remove duplicates without using loop or function"
   ]
  },
  {
   "cell_type": "code",
   "execution_count": 6,
   "id": "f7279f7a",
   "metadata": {},
   "outputs": [
    {
     "data": {
      "text/plain": [
       "[32, 1, 34, 67, 5, 7, 9, 43]"
      ]
     },
     "execution_count": 6,
     "metadata": {},
     "output_type": "execute_result"
    }
   ],
   "source": [
    "l=[1,1,67,43,43,34,5,7,9,32,32]\n",
    "s=set(l)\n",
    "l2=list(s)\n",
    "l2"
   ]
  },
  {
   "cell_type": "code",
   "execution_count": 18,
   "id": "7304dde8",
   "metadata": {},
   "outputs": [
    {
     "name": "stdout",
     "output_type": "stream",
     "text": [
      "1\n",
      "2\n",
      "3\n",
      "4\n",
      "5\n",
      "6\n",
      "7\n",
      "8\n",
      "9\n"
     ]
    }
   ],
   "source": [
    "#Range(optional_start_value,end_value,optional_step(+,-))\n",
    "a=range(1,10)\n",
    "for i in a:\n",
    "    print(i)"
   ]
  },
  {
   "cell_type": "code",
   "execution_count": 6,
   "id": "30f81c36",
   "metadata": {},
   "outputs": [
    {
     "name": "stdout",
     "output_type": "stream",
     "text": [
      "Enter an Integer to find the factorial8\n",
      "8\n"
     ]
    }
   ],
   "source": [
    "#find factorial of a number using for loop\n",
    "n=int(input(\"Enter an Integer to find the factorial\"))\n",
    "m=1\n",
    "for i in range (1,n+1):\n",
    "    m=m*i#fact*=i\n",
    "print(n)\n",
    "    \n"
   ]
  },
  {
   "cell_type": "code",
   "execution_count": 10,
   "id": "7ac8e7dd",
   "metadata": {},
   "outputs": [
    {
     "name": "stdout",
     "output_type": "stream",
     "text": [
      "3\n",
      "6\n",
      "9\n"
     ]
    }
   ],
   "source": [
    "#print multiple of 3 1 to 3\n",
    "for i in range (1,4):\n",
    "    print(i*3)\n",
    "    "
   ]
  },
  {
   "cell_type": "code",
   "execution_count": 7,
   "id": "53fe1119",
   "metadata": {},
   "outputs": [
    {
     "name": "stdout",
     "output_type": "stream",
     "text": [
      "Enter a number to find it's factorial:8\n",
      "40320\n"
     ]
    }
   ],
   "source": [
    "n=int(input(\"Enter a number to find it's factorial:\"))\n",
    "fact=1\n",
    "for i in range(1,n+1):\n",
    "    fact=fact*i\n",
    "print(fact)"
   ]
  },
  {
   "cell_type": "code",
   "execution_count": 15,
   "id": "8ce8891a",
   "metadata": {},
   "outputs": [
    {
     "name": "stdout",
     "output_type": "stream",
     "text": [
      "Check whether this number is prime or not:      9\n",
      "Not Prime\n"
     ]
    }
   ],
   "source": [
    "n=int(input(\"Check whether this number is prime or not:      \"))\n",
    "c=0\n",
    "for i in range(2,n):\n",
    "    if n%i==0:\n",
    "        c+=1\n",
    "if c==0:\n",
    "        print('Prime')\n",
    "else:\n",
    "    print('Not Prime')\n",
    "    \n",
    "    \n",
    "    "
   ]
  },
  {
   "cell_type": "code",
   "execution_count": null,
   "id": "6f89c13a",
   "metadata": {},
   "outputs": [],
   "source": []
  }
 ],
 "metadata": {
  "kernelspec": {
   "display_name": "Python 3 (ipykernel)",
   "language": "python",
   "name": "python3"
  },
  "language_info": {
   "codemirror_mode": {
    "name": "ipython",
    "version": 3
   },
   "file_extension": ".py",
   "mimetype": "text/x-python",
   "name": "python",
   "nbconvert_exporter": "python",
   "pygments_lexer": "ipython3",
   "version": "3.9.13"
  }
 },
 "nbformat": 4,
 "nbformat_minor": 5
}

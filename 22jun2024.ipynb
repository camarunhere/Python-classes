{
 "cells": [
  {
   "cell_type": "code",
   "execution_count": 19,
   "id": "96144d0f",
   "metadata": {},
   "outputs": [
    {
     "name": "stdout",
     "output_type": "stream",
     "text": [
      "10\n",
      "12\n"
     ]
    },
    {
     "ename": "NameError",
     "evalue": "name 'x' is not defined",
     "output_type": "error",
     "traceback": [
      "\u001b[1;31m---------------------------------------------------------------------------\u001b[0m",
      "\u001b[1;31mNameError\u001b[0m                                 Traceback (most recent call last)",
      "\u001b[1;32m~\\AppData\\Local\\Temp\\ipykernel_19324\\3995603289.py\u001b[0m in \u001b[0;36m<module>\u001b[1;34m\u001b[0m\n\u001b[0;32m      7\u001b[0m \u001b[0ms2\u001b[0m \u001b[1;33m=\u001b[0m \u001b[0mSchool\u001b[0m\u001b[1;33m(\u001b[0m\u001b[1;36m12\u001b[0m\u001b[1;33m)\u001b[0m\u001b[1;33m\u001b[0m\u001b[1;33m\u001b[0m\u001b[0m\n\u001b[0;32m      8\u001b[0m \u001b[1;33m\u001b[0m\u001b[0m\n\u001b[1;32m----> 9\u001b[1;33m \u001b[0ms2\u001b[0m\u001b[1;33m.\u001b[0m\u001b[0mm1\u001b[0m\u001b[1;33m(\u001b[0m\u001b[1;33m)\u001b[0m\u001b[1;33m\u001b[0m\u001b[1;33m\u001b[0m\u001b[0m\n\u001b[0m",
      "\u001b[1;32m~\\AppData\\Local\\Temp\\ipykernel_19324\\3995603289.py\u001b[0m in \u001b[0;36mm1\u001b[1;34m(self)\u001b[0m\n\u001b[0;32m      3\u001b[0m         \u001b[0mprint\u001b[0m\u001b[1;33m(\u001b[0m\u001b[0mx\u001b[0m\u001b[1;33m)\u001b[0m\u001b[1;33m\u001b[0m\u001b[1;33m\u001b[0m\u001b[0m\n\u001b[0;32m      4\u001b[0m     \u001b[1;32mdef\u001b[0m \u001b[0mm1\u001b[0m\u001b[1;33m(\u001b[0m\u001b[0mself\u001b[0m\u001b[1;33m)\u001b[0m\u001b[1;33m:\u001b[0m\u001b[1;33m\u001b[0m\u001b[1;33m\u001b[0m\u001b[0m\n\u001b[1;32m----> 5\u001b[1;33m         \u001b[0mprint\u001b[0m\u001b[1;33m(\u001b[0m\u001b[0mx\u001b[0m\u001b[1;33m)\u001b[0m\u001b[1;33m\u001b[0m\u001b[1;33m\u001b[0m\u001b[0m\n\u001b[0m\u001b[0;32m      6\u001b[0m \u001b[0mS1\u001b[0m \u001b[1;33m=\u001b[0m \u001b[0mSchool\u001b[0m\u001b[1;33m(\u001b[0m\u001b[1;36m10\u001b[0m\u001b[1;33m)\u001b[0m\u001b[1;33m\u001b[0m\u001b[1;33m\u001b[0m\u001b[0m\n\u001b[0;32m      7\u001b[0m \u001b[0ms2\u001b[0m \u001b[1;33m=\u001b[0m \u001b[0mSchool\u001b[0m\u001b[1;33m(\u001b[0m\u001b[1;36m12\u001b[0m\u001b[1;33m)\u001b[0m\u001b[1;33m\u001b[0m\u001b[1;33m\u001b[0m\u001b[0m\n",
      "\u001b[1;31mNameError\u001b[0m: name 'x' is not defined"
     ]
    }
   ],
   "source": [
    "class School:\n",
    "    def __init__(self,x):\n",
    "        print(x)\n",
    "    def m1(self):\n",
    "        print(x)\n",
    "S1 = School(10)\n",
    "s2 = School(12)\n",
    "\n",
    "s2.m1()"
   ]
  },
  {
   "cell_type": "code",
   "execution_count": 4,
   "id": "ddc4c2be",
   "metadata": {},
   "outputs": [
    {
     "name": "stdout",
     "output_type": "stream",
     "text": [
      "10\n",
      "10\n"
     ]
    }
   ],
   "source": [
    "class School:\n",
    "    def __init__(self,x):\n",
    "        self.x = x\n",
    "    def m1(self):\n",
    "        print(self.x)\n",
    "S1 = School(10)\n",
    "\n",
    "S1.m1()\n",
    "print(S1.x)"
   ]
  },
  {
   "cell_type": "code",
   "execution_count": 6,
   "id": "e1414456",
   "metadata": {},
   "outputs": [
    {
     "name": "stdout",
     "output_type": "stream",
     "text": [
      "Accesing object data inside class\n",
      "10\n",
      "20\n",
      "Accesing object data outside class\n",
      "10\n",
      "20\n"
     ]
    }
   ],
   "source": [
    "class School:\n",
    "    def __init__(self,x,y):\n",
    "        self.x = x #instance variable\n",
    "        self.y = y\n",
    "        \n",
    "    def m1(self):\n",
    "        print('Accesing object data inside class')\n",
    "        print(self.x) #accesing inside the class\n",
    "        print(self.y)\n",
    "S1 = School(10,20)\n",
    "\n",
    "S1.m1()\n",
    "print(\"Accesing object data outside class\")\n",
    "print(S1.x) #accesing outside the class\n",
    "print(S1.y)"
   ]
  },
  {
   "cell_type": "code",
   "execution_count": 15,
   "id": "eeebf392",
   "metadata": {},
   "outputs": [
    {
     "name": "stdout",
     "output_type": "stream",
     "text": [
      "['__class__', '__delattr__', '__dict__', '__dir__', '__doc__', '__eq__', '__format__', '__ge__', '__getattribute__', '__gt__', '__hash__', '__init__', '__init_subclass__', '__le__', '__lt__', '__module__', '__ne__', '__new__', '__reduce__', '__reduce_ex__', '__repr__', '__setattr__', '__sizeof__', '__str__', '__subclasshook__', '__weakref__', 'age', 'm1', 'name']\n",
      "23\n",
      "Trip\n",
      "Data Scientist\n",
      "Data Scientist\n"
     ]
    }
   ],
   "source": [
    "class Swiz:\n",
    "    def __init__(self):\n",
    "        pass\n",
    "    def m1(self):\n",
    "        print(self.name)\n",
    "s1 = Swiz()\n",
    "s1.name = 'Trip'\n",
    "s1.age = 23\n",
    "print(dir(s1))\n",
    "print(s1.age)\n",
    "s1.m1()\n",
    "s1.name = 'Data Scientist'\n",
    "print(s1.name)\n",
    "s1.m1()"
   ]
  },
  {
   "cell_type": "code",
   "execution_count": null,
   "id": "d9a96c91",
   "metadata": {},
   "outputs": [],
   "source": []
  }
 ],
 "metadata": {
  "kernelspec": {
   "display_name": "Python 3 (ipykernel)",
   "language": "python",
   "name": "python3"
  },
  "language_info": {
   "codemirror_mode": {
    "name": "ipython",
    "version": 3
   },
   "file_extension": ".py",
   "mimetype": "text/x-python",
   "name": "python",
   "nbconvert_exporter": "python",
   "pygments_lexer": "ipython3",
   "version": "3.9.13"
  }
 },
 "nbformat": 4,
 "nbformat_minor": 5
}

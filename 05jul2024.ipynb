{
 "cells": [
  {
   "cell_type": "markdown",
   "id": "e09bea9e",
   "metadata": {},
   "source": [
    "# Encapsulation\n"
   ]
  },
  {
   "cell_type": "code",
   "execution_count": 13,
   "id": "7fbe5589",
   "metadata": {},
   "outputs": [
    {
     "name": "stdout",
     "output_type": "stream",
     "text": [
      "Python\n",
      "NLP\n",
      "output from the child class : Python\n",
      "output from the child class : NLP\n",
      "Iam Protected\n"
     ]
    }
   ],
   "source": [
    "#Example:\n",
    "\n",
    "class Sample :\n",
    "    def __init__(self,technology,language):\n",
    "        self._tech = technology\n",
    "        self.lang  = language\n",
    "\n",
    "class Child(Sample):\n",
    "    def display(self):\n",
    "        print(f'output from the child class : {self.lang}')\n",
    "        print(f'output from the child class : {self._tech}')\n",
    "    def _prot(self):\n",
    "        print(\"Iam Protected\")\n",
    "        \n",
    "s1 = Sample(\"NLP\",\"Python\")\n",
    "print(s1.lang)\n",
    "print(s1._tech)\n",
    "\n",
    "\n",
    "c1 = Child('NLP','Python')\n",
    "c1.display()\n",
    "c1._prot()"
   ]
  },
  {
   "cell_type": "code",
   "execution_count": 23,
   "id": "6d6079ef",
   "metadata": {},
   "outputs": [
    {
     "name": "stdout",
     "output_type": "stream",
     "text": [
      "Python\n",
      "NLP\n",
      "output from the child class : Python\n",
      "output from the child class : NLP\n",
      "output from the child class : password\n",
      "Iam Protected\n"
     ]
    }
   ],
   "source": [
    "#Example:\n",
    "\n",
    "class Sample :\n",
    "    def __init__(self,technology,language):\n",
    "        self._tech  = technology\n",
    "        self.lang   = language\n",
    "        self.__pass = \"password\" \n",
    "\n",
    "class Child(Sample):\n",
    "    def display(self):\n",
    "        print(f'output from the child class : {self.lang}')\n",
    "        print(f'output from the child class : {self._tech}')\n",
    "        print(f'output from the child class : {self._Sample__pass}')\n",
    "        \n",
    "    def _prot(self):\n",
    "        print(\"Iam Protected\")\n",
    "        \n",
    "s1 = Sample(\"NLP\",\"Python\")\n",
    "print(s1.lang)\n",
    "print(s1._tech)\n",
    "#print(Sample.__pass)\n",
    "#print(s1.__pass)\n",
    "\n",
    "\n",
    "c1 = Child('NLP','Python')\n",
    "c1.display()\n",
    "c1._prot()"
   ]
  },
  {
   "cell_type": "code",
   "execution_count": 12,
   "id": "8ac0b495",
   "metadata": {},
   "outputs": [
    {
     "ename": "TclError",
     "evalue": "can't invoke \"wm\" command: application has been destroyed",
     "output_type": "error",
     "traceback": [
      "\u001b[1;31m---------------------------------------------------------------------------\u001b[0m",
      "\u001b[1;31mTclError\u001b[0m                                  Traceback (most recent call last)",
      "\u001b[1;32m~\\AppData\\Local\\Temp\\ipykernel_25412\\51755931.py\u001b[0m in \u001b[0;36m<module>\u001b[1;34m\u001b[0m\n\u001b[0;32m     11\u001b[0m \u001b[0mtop\u001b[0m\u001b[1;33m.\u001b[0m\u001b[0mmainloop\u001b[0m\u001b[1;33m(\u001b[0m\u001b[1;33m)\u001b[0m\u001b[1;33m\u001b[0m\u001b[1;33m\u001b[0m\u001b[0m\n\u001b[0;32m     12\u001b[0m \u001b[1;33m\u001b[0m\u001b[0m\n\u001b[1;32m---> 13\u001b[1;33m \u001b[0mtop\u001b[0m\u001b[1;33m.\u001b[0m\u001b[0mtitle\u001b[0m\u001b[1;33m(\u001b[0m\u001b[1;34m\"tech\"\u001b[0m\u001b[1;33m)\u001b[0m\u001b[1;33m\u001b[0m\u001b[1;33m\u001b[0m\u001b[0m\n\u001b[0m\u001b[0;32m     14\u001b[0m \u001b[1;33m\u001b[0m\u001b[0m\n",
      "\u001b[1;32m~\\anaconda3\\lib\\tkinter\\__init__.py\u001b[0m in \u001b[0;36mwm_title\u001b[1;34m(self, string)\u001b[0m\n\u001b[0;32m   2224\u001b[0m     \u001b[1;32mdef\u001b[0m \u001b[0mwm_title\u001b[0m\u001b[1;33m(\u001b[0m\u001b[0mself\u001b[0m\u001b[1;33m,\u001b[0m \u001b[0mstring\u001b[0m\u001b[1;33m=\u001b[0m\u001b[1;32mNone\u001b[0m\u001b[1;33m)\u001b[0m\u001b[1;33m:\u001b[0m\u001b[1;33m\u001b[0m\u001b[1;33m\u001b[0m\u001b[0m\n\u001b[0;32m   2225\u001b[0m         \u001b[1;34m\"\"\"Set the title of this widget.\"\"\"\u001b[0m\u001b[1;33m\u001b[0m\u001b[1;33m\u001b[0m\u001b[0m\n\u001b[1;32m-> 2226\u001b[1;33m         \u001b[1;32mreturn\u001b[0m \u001b[0mself\u001b[0m\u001b[1;33m.\u001b[0m\u001b[0mtk\u001b[0m\u001b[1;33m.\u001b[0m\u001b[0mcall\u001b[0m\u001b[1;33m(\u001b[0m\u001b[1;34m'wm'\u001b[0m\u001b[1;33m,\u001b[0m \u001b[1;34m'title'\u001b[0m\u001b[1;33m,\u001b[0m \u001b[0mself\u001b[0m\u001b[1;33m.\u001b[0m\u001b[0m_w\u001b[0m\u001b[1;33m,\u001b[0m \u001b[0mstring\u001b[0m\u001b[1;33m)\u001b[0m\u001b[1;33m\u001b[0m\u001b[1;33m\u001b[0m\u001b[0m\n\u001b[0m\u001b[0;32m   2227\u001b[0m \u001b[1;33m\u001b[0m\u001b[0m\n\u001b[0;32m   2228\u001b[0m     \u001b[0mtitle\u001b[0m \u001b[1;33m=\u001b[0m \u001b[0mwm_title\u001b[0m\u001b[1;33m\u001b[0m\u001b[1;33m\u001b[0m\u001b[0m\n",
      "\u001b[1;31mTclError\u001b[0m: can't invoke \"wm\" command: application has been destroyed"
     ]
    }
   ],
   "source": [
    "#step 1 => Import tkinter\n",
    "\n",
    "from tkinter import *\n",
    "\n",
    "#step 2 => Create GUI application main window\n",
    "\n",
    "top = Tk()\n",
    "\n",
    "#step 3 => Widgets creation code\n",
    "\n",
    "top.mainloop()\n",
    "\n",
    "top.title(\"tech\")\n",
    "\n"
   ]
  },
  {
   "cell_type": "code",
   "execution_count": 11,
   "id": "b2784612",
   "metadata": {},
   "outputs": [
    {
     "data": {
      "text/plain": [
       "''"
      ]
     },
     "execution_count": 11,
     "metadata": {},
     "output_type": "execute_result"
    }
   ],
   "source": [
    "from tkinter import *\n",
    "\n",
    "window=Tk()\n",
    "\n",
    "window.title(\"Camarun Techy\")\n",
    "window.geometry(\"400x200\")"
   ]
  },
  {
   "cell_type": "code",
   "execution_count": 5,
   "id": "4bb04d35",
   "metadata": {},
   "outputs": [
    {
     "data": {
      "text/plain": [
       "''"
      ]
     },
     "execution_count": 5,
     "metadata": {},
     "output_type": "execute_result"
    }
   ],
   "source": [
    "from tkinter import *\n",
    "\n",
    "top = Tk()\n",
    "\n",
    "top.title(\"CamArun Techy\")\n",
    "\n",
    "top.geometry(\"400x200\")"
   ]
  },
  {
   "cell_type": "code",
   "execution_count": null,
   "id": "b5aa1ff0",
   "metadata": {},
   "outputs": [],
   "source": []
  }
 ],
 "metadata": {
  "kernelspec": {
   "display_name": "Python 3 (ipykernel)",
   "language": "python",
   "name": "python3"
  },
  "language_info": {
   "codemirror_mode": {
    "name": "ipython",
    "version": 3
   },
   "file_extension": ".py",
   "mimetype": "text/x-python",
   "name": "python",
   "nbconvert_exporter": "python",
   "pygments_lexer": "ipython3",
   "version": "3.9.13"
  }
 },
 "nbformat": 4,
 "nbformat_minor": 5
}

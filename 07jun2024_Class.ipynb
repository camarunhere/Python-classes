{
 "cells": [
  {
   "cell_type": "code",
   "execution_count": 1,
   "id": "e9edc5c1",
   "metadata": {},
   "outputs": [],
   "source": [
    "Quote = \"WITH CONSISTENCY WE CAN SUCCEED EVERYTHING\""
   ]
  },
  {
   "cell_type": "code",
   "execution_count": 2,
   "id": "31f2fc83",
   "metadata": {},
   "outputs": [
    {
     "name": "stdout",
     "output_type": "stream",
     "text": [
      "\n"
     ]
    }
   ],
   "source": [
    "print(Quote[-1:-8])"
   ]
  },
  {
   "cell_type": "code",
   "execution_count": 3,
   "id": "be21bfdd",
   "metadata": {},
   "outputs": [
    {
     "name": "stdout",
     "output_type": "stream",
     "text": [
      "GNIHTYR\n"
     ]
    }
   ],
   "source": [
    "print(Quote[-1:-8:-1])"
   ]
  },
  {
   "cell_type": "code",
   "execution_count": 4,
   "id": "3f4909ba",
   "metadata": {},
   "outputs": [
    {
     "name": "stdout",
     "output_type": "stream",
     "text": [
      "EECCU\n"
     ]
    }
   ],
   "source": [
    "print(Quote[-13:-18:-1])"
   ]
  },
  {
   "cell_type": "code",
   "execution_count": 5,
   "id": "16b79052",
   "metadata": {},
   "outputs": [
    {
     "name": "stdout",
     "output_type": "stream",
     "text": [
      "WT OSSEC ECNSCEDEEYHN\n"
     ]
    }
   ],
   "source": [
    "print(Quote[::2])"
   ]
  },
  {
   "cell_type": "code",
   "execution_count": 6,
   "id": "231df0fa",
   "metadata": {},
   "outputs": [
    {
     "name": "stdout",
     "output_type": "stream",
     "text": [
      "GITRV ECU A WYNTINCHI\n"
     ]
    }
   ],
   "source": [
    "print(Quote[-1::-2])"
   ]
  },
  {
   "cell_type": "code",
   "execution_count": 7,
   "id": "7699d0d1",
   "metadata": {},
   "outputs": [
    {
     "name": "stdout",
     "output_type": "stream",
     "text": [
      "NHYEEDECSNCE CESSO TW\n"
     ]
    }
   ],
   "source": [
    "print(Quote[-2::-2])"
   ]
  },
  {
   "cell_type": "code",
   "execution_count": 8,
   "id": "e390db71",
   "metadata": {},
   "outputs": [
    {
     "name": "stdout",
     "output_type": "stream",
     "text": [
      "Enter a Number:9\n"
     ]
    }
   ],
   "source": [
    "num1 = input(\"Enter a Number:\")"
   ]
  },
  {
   "cell_type": "code",
   "execution_count": 9,
   "id": "21cbc4f4",
   "metadata": {},
   "outputs": [
    {
     "data": {
      "text/plain": [
       "'9'"
      ]
     },
     "execution_count": 9,
     "metadata": {},
     "output_type": "execute_result"
    }
   ],
   "source": [
    "num1"
   ]
  },
  {
   "cell_type": "code",
   "execution_count": 10,
   "id": "39d91fcf",
   "metadata": {},
   "outputs": [
    {
     "name": "stdout",
     "output_type": "stream",
     "text": [
      "Enter Another Number:5202\n"
     ]
    }
   ],
   "source": [
    "num2 = input(\"Enter Another Number:\")"
   ]
  },
  {
   "cell_type": "code",
   "execution_count": 11,
   "id": "d268b387",
   "metadata": {},
   "outputs": [
    {
     "data": {
      "text/plain": [
       "'5202'"
      ]
     },
     "execution_count": 11,
     "metadata": {},
     "output_type": "execute_result"
    }
   ],
   "source": [
    "num2"
   ]
  },
  {
   "cell_type": "code",
   "execution_count": 12,
   "id": "bcf008e6",
   "metadata": {},
   "outputs": [
    {
     "data": {
      "text/plain": [
       "'95202'"
      ]
     },
     "execution_count": 12,
     "metadata": {},
     "output_type": "execute_result"
    }
   ],
   "source": [
    "num1+num2"
   ]
  },
  {
   "cell_type": "code",
   "execution_count": 13,
   "id": "e6a1e07c",
   "metadata": {},
   "outputs": [],
   "source": [
    "n1=int(num1)"
   ]
  },
  {
   "cell_type": "code",
   "execution_count": 14,
   "id": "435dedd9",
   "metadata": {},
   "outputs": [
    {
     "data": {
      "text/plain": [
       "9"
      ]
     },
     "execution_count": 14,
     "metadata": {},
     "output_type": "execute_result"
    }
   ],
   "source": [
    "n1"
   ]
  },
  {
   "cell_type": "code",
   "execution_count": 15,
   "id": "d7277bf3",
   "metadata": {},
   "outputs": [],
   "source": [
    "n2 = int(num2)"
   ]
  },
  {
   "cell_type": "code",
   "execution_count": 16,
   "id": "89feb861",
   "metadata": {},
   "outputs": [
    {
     "data": {
      "text/plain": [
       "5202"
      ]
     },
     "execution_count": 16,
     "metadata": {},
     "output_type": "execute_result"
    }
   ],
   "source": [
    "n2"
   ]
  },
  {
   "cell_type": "code",
   "execution_count": 17,
   "id": "eaed255b",
   "metadata": {},
   "outputs": [
    {
     "data": {
      "text/plain": [
       "5211"
      ]
     },
     "execution_count": 17,
     "metadata": {},
     "output_type": "execute_result"
    }
   ],
   "source": [
    "n1+n2"
   ]
  },
  {
   "cell_type": "code",
   "execution_count": 18,
   "id": "6804d61a",
   "metadata": {},
   "outputs": [
    {
     "data": {
      "text/plain": [
       "str"
      ]
     },
     "execution_count": 18,
     "metadata": {},
     "output_type": "execute_result"
    }
   ],
   "source": [
    "type(num1)"
   ]
  },
  {
   "cell_type": "code",
   "execution_count": 19,
   "id": "fc22acd7",
   "metadata": {},
   "outputs": [
    {
     "data": {
      "text/plain": [
       "int"
      ]
     },
     "execution_count": 19,
     "metadata": {},
     "output_type": "execute_result"
    }
   ],
   "source": [
    "type(n1)"
   ]
  },
  {
   "cell_type": "code",
   "execution_count": 20,
   "id": "1280ff38",
   "metadata": {},
   "outputs": [
    {
     "name": "stdout",
     "output_type": "stream",
     "text": [
      "Enter fn:10\n"
     ]
    }
   ],
   "source": [
    "fn = int(input('Enter fn:'))"
   ]
  },
  {
   "cell_type": "code",
   "execution_count": 21,
   "id": "000f1733",
   "metadata": {},
   "outputs": [
    {
     "data": {
      "text/plain": [
       "10"
      ]
     },
     "execution_count": 21,
     "metadata": {},
     "output_type": "execute_result"
    }
   ],
   "source": [
    "fn\n"
   ]
  },
  {
   "cell_type": "code",
   "execution_count": 22,
   "id": "46265cd0",
   "metadata": {},
   "outputs": [
    {
     "name": "stdout",
     "output_type": "stream",
     "text": [
      "Enter Sn:2024\n"
     ]
    }
   ],
   "source": [
    "sn= int(input(\"Enter Sn:\"))"
   ]
  },
  {
   "cell_type": "code",
   "execution_count": 23,
   "id": "36e409af",
   "metadata": {},
   "outputs": [
    {
     "data": {
      "text/plain": [
       "2024"
      ]
     },
     "execution_count": 23,
     "metadata": {},
     "output_type": "execute_result"
    }
   ],
   "source": [
    "sn"
   ]
  },
  {
   "cell_type": "code",
   "execution_count": 24,
   "id": "b29dc0c9",
   "metadata": {},
   "outputs": [
    {
     "data": {
      "text/plain": [
       "int"
      ]
     },
     "execution_count": 24,
     "metadata": {},
     "output_type": "execute_result"
    }
   ],
   "source": [
    "type (sn)"
   ]
  },
  {
   "cell_type": "code",
   "execution_count": 26,
   "id": "ebb52591",
   "metadata": {},
   "outputs": [
    {
     "data": {
      "text/plain": [
       "int"
      ]
     },
     "execution_count": 26,
     "metadata": {},
     "output_type": "execute_result"
    }
   ],
   "source": [
    "type(fn)"
   ]
  },
  {
   "cell_type": "code",
   "execution_count": 27,
   "id": "b4a237bc",
   "metadata": {},
   "outputs": [
    {
     "data": {
      "text/plain": [
       "2034"
      ]
     },
     "execution_count": 27,
     "metadata": {},
     "output_type": "execute_result"
    }
   ],
   "source": [
    "fn+sn"
   ]
  },
  {
   "cell_type": "code",
   "execution_count": 28,
   "id": "b77f8dc7",
   "metadata": {},
   "outputs": [],
   "source": [
    "i = 10"
   ]
  },
  {
   "cell_type": "code",
   "execution_count": 29,
   "id": "bc97e630",
   "metadata": {},
   "outputs": [
    {
     "data": {
      "text/plain": [
       "int"
      ]
     },
     "execution_count": 29,
     "metadata": {},
     "output_type": "execute_result"
    }
   ],
   "source": [
    "type(i)"
   ]
  },
  {
   "cell_type": "code",
   "execution_count": 30,
   "id": "2c78550d",
   "metadata": {},
   "outputs": [],
   "source": [
    "f = 3.14"
   ]
  },
  {
   "cell_type": "code",
   "execution_count": 31,
   "id": "901e2b95",
   "metadata": {},
   "outputs": [
    {
     "data": {
      "text/plain": [
       "float"
      ]
     },
     "execution_count": 31,
     "metadata": {},
     "output_type": "execute_result"
    }
   ],
   "source": [
    "type(f)"
   ]
  },
  {
   "cell_type": "code",
   "execution_count": 32,
   "id": "3f276f5d",
   "metadata": {},
   "outputs": [
    {
     "data": {
      "text/plain": [
       "10"
      ]
     },
     "execution_count": 32,
     "metadata": {},
     "output_type": "execute_result"
    }
   ],
   "source": [
    "i"
   ]
  },
  {
   "cell_type": "code",
   "execution_count": 33,
   "id": "f6fa4ead",
   "metadata": {},
   "outputs": [
    {
     "data": {
      "text/plain": [
       "3.14"
      ]
     },
     "execution_count": 33,
     "metadata": {},
     "output_type": "execute_result"
    }
   ],
   "source": [
    "f"
   ]
  },
  {
   "cell_type": "code",
   "execution_count": 35,
   "id": "80d4460f",
   "metadata": {},
   "outputs": [],
   "source": [
    "n = None"
   ]
  },
  {
   "cell_type": "code",
   "execution_count": 36,
   "id": "82e95416",
   "metadata": {},
   "outputs": [
    {
     "data": {
      "text/plain": [
       "NoneType"
      ]
     },
     "execution_count": 36,
     "metadata": {},
     "output_type": "execute_result"
    }
   ],
   "source": [
    "type(n)"
   ]
  },
  {
   "cell_type": "code",
   "execution_count": 37,
   "id": "007173e5",
   "metadata": {},
   "outputs": [],
   "source": [
    "n"
   ]
  },
  {
   "cell_type": "code",
   "execution_count": 38,
   "id": "9862eeb8",
   "metadata": {},
   "outputs": [],
   "source": [
    "c = 10 + 5j"
   ]
  },
  {
   "cell_type": "code",
   "execution_count": 39,
   "id": "ceb0c872",
   "metadata": {},
   "outputs": [
    {
     "data": {
      "text/plain": [
       "(10+5j)"
      ]
     },
     "execution_count": 39,
     "metadata": {},
     "output_type": "execute_result"
    }
   ],
   "source": [
    "c"
   ]
  },
  {
   "cell_type": "code",
   "execution_count": 40,
   "id": "40142eb5",
   "metadata": {},
   "outputs": [
    {
     "ename": "SyntaxError",
     "evalue": "invalid syntax (1056053967.py, line 1)",
     "output_type": "error",
     "traceback": [
      "\u001b[1;36m  File \u001b[1;32m\"C:\\Users\\santo\\AppData\\Local\\Temp\\ipykernel_7540\\1056053967.py\"\u001b[1;36m, line \u001b[1;32m1\u001b[0m\n\u001b[1;33m    c = 10 + 5k\u001b[0m\n\u001b[1;37m              ^\u001b[0m\n\u001b[1;31mSyntaxError\u001b[0m\u001b[1;31m:\u001b[0m invalid syntax\n"
     ]
    }
   ],
   "source": [
    "c = 10 + 5k"
   ]
  },
  {
   "cell_type": "code",
   "execution_count": 41,
   "id": "e1bae8ed",
   "metadata": {},
   "outputs": [],
   "source": [
    "C = 10 + 5J"
   ]
  },
  {
   "cell_type": "code",
   "execution_count": 42,
   "id": "f733ac20",
   "metadata": {},
   "outputs": [
    {
     "data": {
      "text/plain": [
       "(10+5j)"
      ]
     },
     "execution_count": 42,
     "metadata": {},
     "output_type": "execute_result"
    }
   ],
   "source": [
    "C"
   ]
  },
  {
   "cell_type": "code",
   "execution_count": 43,
   "id": "cf582fb6",
   "metadata": {},
   "outputs": [],
   "source": [
    "p = True"
   ]
  },
  {
   "cell_type": "code",
   "execution_count": 44,
   "id": "0e275ca0",
   "metadata": {},
   "outputs": [
    {
     "data": {
      "text/plain": [
       "bool"
      ]
     },
     "execution_count": 44,
     "metadata": {},
     "output_type": "execute_result"
    }
   ],
   "source": [
    "type(p)"
   ]
  },
  {
   "cell_type": "code",
   "execution_count": 45,
   "id": "ecfcd22f",
   "metadata": {},
   "outputs": [],
   "source": [
    "o = False"
   ]
  },
  {
   "cell_type": "code",
   "execution_count": 46,
   "id": "062974b0",
   "metadata": {},
   "outputs": [
    {
     "data": {
      "text/plain": [
       "bool"
      ]
     },
     "execution_count": 46,
     "metadata": {},
     "output_type": "execute_result"
    }
   ],
   "source": [
    "type(o)"
   ]
  },
  {
   "cell_type": "code",
   "execution_count": null,
   "id": "1a69b114",
   "metadata": {},
   "outputs": [],
   "source": []
  }
 ],
 "metadata": {
  "kernelspec": {
   "display_name": "Python 3 (ipykernel)",
   "language": "python",
   "name": "python3"
  },
  "language_info": {
   "codemirror_mode": {
    "name": "ipython",
    "version": 3
   },
   "file_extension": ".py",
   "mimetype": "text/x-python",
   "name": "python",
   "nbconvert_exporter": "python",
   "pygments_lexer": "ipython3",
   "version": "3.9.13"
  }
 },
 "nbformat": 4,
 "nbformat_minor": 5
}

{
 "cells": [
  {
   "cell_type": "code",
   "execution_count": 5,
   "id": "a97a9c68",
   "metadata": {},
   "outputs": [
    {
     "name": "stdout",
     "output_type": "stream",
     "text": [
      "{'i': 10, 'j': 20, 'k': 30}\n",
      "10\n",
      "i = 10\n",
      "j = 20\n",
      "k = 30\n"
     ]
    }
   ],
   "source": [
    "##Dictionary with loop =>\n",
    "\n",
    "d = {\n",
    "    \n",
    "    'i' : 10,\n",
    "    'j' : 20,\n",
    "    'k' : 30\n",
    "}\n",
    "\n",
    "print(d)\n",
    "print(d['i'])\n",
    "\n",
    "for i in d:\n",
    "    print(i,'=',d[i])"
   ]
  },
  {
   "cell_type": "code",
   "execution_count": 6,
   "id": "354b8c76",
   "metadata": {},
   "outputs": [
    {
     "name": "stdout",
     "output_type": "stream",
     "text": [
      "{'i': 10, 'j': 20, 'k': 30}\n",
      "10\n",
      "('i', 10)\n",
      "('j', 20)\n",
      "('k', 30)\n"
     ]
    }
   ],
   "source": [
    "##Dictionary with loop =>\n",
    "\n",
    "d = {\n",
    "    \n",
    "    'i' : 10,\n",
    "    'j' : 20,\n",
    "    'k' : 30\n",
    "}\n",
    "\n",
    "print(d)\n",
    "print(d['i'])\n",
    "\n",
    "for i in d.items():\n",
    "    print(i)"
   ]
  },
  {
   "cell_type": "code",
   "execution_count": 7,
   "id": "6cd54ffc",
   "metadata": {},
   "outputs": [
    {
     "name": "stdout",
     "output_type": "stream",
     "text": [
      "i = 10\n",
      "j = 20\n",
      "k = 30\n"
     ]
    }
   ],
   "source": [
    "for i,j in d.items():\n",
    "    print(i,'=',j)"
   ]
  },
  {
   "cell_type": "code",
   "execution_count": 8,
   "id": "2f32e1f7",
   "metadata": {},
   "outputs": [
    {
     "name": "stdout",
     "output_type": "stream",
     "text": [
      "10\n",
      "20\n",
      "30\n"
     ]
    }
   ],
   "source": [
    "for i in d.values():\n",
    "    print(i)"
   ]
  },
  {
   "cell_type": "code",
   "execution_count": 9,
   "id": "197211d0",
   "metadata": {},
   "outputs": [
    {
     "name": "stdout",
     "output_type": "stream",
     "text": [
      "i\n",
      "j\n",
      "k\n"
     ]
    }
   ],
   "source": [
    "for i in d.keys():\n",
    "    print(i)"
   ]
  },
  {
   "cell_type": "code",
   "execution_count": 13,
   "id": "d09a4f94",
   "metadata": {},
   "outputs": [
    {
     "name": "stdout",
     "output_type": "stream",
     "text": [
      "Happy learning Python Functions.\n"
     ]
    }
   ],
   "source": [
    "#Functions => It is mainly used to group piece of code in one place and we call it anytime we want to execute it..\n",
    "         # => Using functions we can achieve code reusability\n",
    "    \n",
    "#Syntax: \n",
    "#          def function_name (parameter 1, parameter 2, ...............,parameter n)\n",
    "#          statement(s)\n",
    "\n",
    "#Program:\n",
    "def display():\n",
    "        print(\"Happy learning Python Functions.\")\n",
    "display() #function call\n",
    "        \n"
   ]
  },
  {
   "cell_type": "code",
   "execution_count": 14,
   "id": "1f12e8bc",
   "metadata": {},
   "outputs": [
    {
     "name": "stdout",
     "output_type": "stream",
     "text": [
      "Happy learning Python Functions.\n",
      "Hey\n"
     ]
    }
   ],
   "source": [
    "def display1():\n",
    "    print(\"Hey\")\n",
    "display()\n",
    "display1()"
   ]
  },
  {
   "cell_type": "code",
   "execution_count": 20,
   "id": "133b0b31",
   "metadata": {},
   "outputs": [
    {
     "name": "stdout",
     "output_type": "stream",
     "text": [
      "7 The number is odd\n",
      "198 The number is even\n"
     ]
    }
   ],
   "source": [
    "##Create a function which takes number as input and check whether number is even or odd\n",
    "\n",
    "def check_even(num):\n",
    "    if num%2==0:\n",
    "        print(num,\"The number is even\")\n",
    "    else :\n",
    "        print(num,\"The number is odd\")\n",
    "\n",
    "check_even(7)\n",
    "check_even(198)"
   ]
  },
  {
   "cell_type": "code",
   "execution_count": 29,
   "id": "f9ba105c",
   "metadata": {},
   "outputs": [
    {
     "name": "stdout",
     "output_type": "stream",
     "text": [
      "Salary for the month: 25000.0\n",
      "Salary with incentives : 27500.0\n"
     ]
    }
   ],
   "source": [
    "#Returning Values/ Output from function\n",
    "\n",
    "def calculate_salary(days,salary):\n",
    "    net_sal = (salary/30)*days\n",
    "    return net_sal\n",
    "\n",
    "salary = calculate_salary(25,30000)\n",
    "print(\"Salary for the month:\", salary)\n",
    "\n",
    "sal_with_incentive = salary+salary*0.1\n",
    "print(\"Salary with incentives :\",sal_with_incentive)"
   ]
  },
  {
   "cell_type": "code",
   "execution_count": 31,
   "id": "514b1d6f",
   "metadata": {},
   "outputs": [
    {
     "name": "stdout",
     "output_type": "stream",
     "text": [
      "x= 10\n",
      "y= 20\n"
     ]
    }
   ],
   "source": [
    "##Types of Parameters :\n",
    "#                      1.Positional parameters\n",
    "#                      2.Keyword based parameters\n",
    "#                      3.Default parameters\n",
    "#                      4.Arbitary Variable parameters\n",
    "#                      5.Keyworded arbitary variable parameters or kaargs parameter\n",
    "\n",
    "#Positional Parameters: When we are giving parameters / calling function with parameters.\n",
    "# It simply assigns : first value = first parameter\n",
    "#                     second value = second parameter\n",
    "\n",
    "\n",
    "def f1(x,y):\n",
    "    print('x=',x)\n",
    "    print('y=',y)\n",
    "f1(10,20)\n",
    "\n",
    "\n",
    "#Function creation will be same for every parameter only when calling the function it differs in all the parameters."
   ]
  },
  {
   "cell_type": "code",
   "execution_count": 1,
   "id": "4b70c353",
   "metadata": {},
   "outputs": [
    {
     "name": "stdout",
     "output_type": "stream",
     "text": [
      "x= 137\n",
      "y= 10\n",
      "z= 173\n"
     ]
    }
   ],
   "source": [
    "#Keyword based parameters : When use the parameters as a keyword and call the function these parameters are known as keyword based parameters\n",
    "\n",
    "def f2(x,y,z):\n",
    "    print('x=',x)\n",
    "    print('y=',y)\n",
    "    print('z=',z)\n",
    "\n",
    "f2(y=10,x=137,z=173)"
   ]
  },
  {
   "cell_type": "code",
   "execution_count": 3,
   "id": "385bf540",
   "metadata": {},
   "outputs": [
    {
     "name": "stdout",
     "output_type": "stream",
     "text": [
      "Run 9347 run53@gmail.com Data Science\n",
      "Roy 9441 royrun@gmail.com Python\n"
     ]
    }
   ],
   "source": [
    "# Default parameter:When user does not provide any parameters while calling functions. Then default parameter will be called automatically\n",
    "\n",
    "def counselling(name,mob,email,course='Python'):\n",
    "    print(name,mob,email,course)\n",
    "counselling('Run',9347,'run53@gmail.com','Data Science')\n",
    "counselling('Roy',9441,'royrun@gmail.com')"
   ]
  },
  {
   "cell_type": "code",
   "execution_count": null,
   "id": "078a742f",
   "metadata": {},
   "outputs": [],
   "source": []
  }
 ],
 "metadata": {
  "kernelspec": {
   "display_name": "Python 3 (ipykernel)",
   "language": "python",
   "name": "python3"
  },
  "language_info": {
   "codemirror_mode": {
    "name": "ipython",
    "version": 3
   },
   "file_extension": ".py",
   "mimetype": "text/x-python",
   "name": "python",
   "nbconvert_exporter": "python",
   "pygments_lexer": "ipython3",
   "version": "3.9.13"
  }
 },
 "nbformat": 4,
 "nbformat_minor": 5
}

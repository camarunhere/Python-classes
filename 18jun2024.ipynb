{
 "cells": [
  {
   "cell_type": "code",
   "execution_count": 24,
   "id": "5576992e",
   "metadata": {},
   "outputs": [
    {
     "name": "stdout",
     "output_type": "stream",
     "text": [
      "[111, 222, 333, 444]\n",
      "[222, 444, 666, 888]\n",
      "[12321, 49284, 110889, 197136]\n"
     ]
    }
   ],
   "source": [
    "#List comprhension => It is a concise / an easiest way to create new list from the values of existing list \n",
    "#                  => It is an easiest and shortest way for creating the list\n",
    "\n",
    "x = [111,222,333,444]\n",
    "print(x)\n",
    "\n",
    "#I want to create new list by doubling the elements of x list\n",
    "\n",
    "y = [ele * 2 for ele in x ]\n",
    "#If we write anything except ele in the beginning it will give an error\n",
    "\n",
    "z = [ele ** 2 for ele in x]\n",
    "print(y)\n",
    "print(z)"
   ]
  },
  {
   "cell_type": "code",
   "execution_count": 5,
   "id": "8c5ab744",
   "metadata": {},
   "outputs": [
    {
     "name": "stdout",
     "output_type": "stream",
     "text": [
      "[0, 2, 4, 6, 8, 10, 12, 14, 16, 18, 20, 22, 24, 26, 28, 30, 32, 34, 36, 38, 40, 42, 44, 46, 48, 50, 52, 54, 56, 58, 60, 62, 64, 66, 68, 70, 72, 74, 76, 78, 80, 82, 84, 86, 88, 90, 92, 94, 96, 98, 100]\n"
     ]
    }
   ],
   "source": [
    "#Generate even numbers upto 100 using list comprehension\n",
    "\n",
    "even_list = [i for i in range(0,101,2)]\n",
    "print(even_list)"
   ]
  },
  {
   "cell_type": "code",
   "execution_count": 12,
   "id": "fff4980f",
   "metadata": {},
   "outputs": [
    {
     "name": "stdout",
     "output_type": "stream",
     "text": [
      "[1, 31, 23, 89, 67, 147, 185, 177]\n"
     ]
    }
   ],
   "source": [
    "#Copy elements of x into new list which are odd numbers\n",
    "\n",
    "x = [1,31,23,32,26,89,67,147,185,177,68,76,94,54]\n",
    "odd_numbers = [i for i in x if i % 2 != 0]\n",
    "print(odd_numbers)"
   ]
  },
  {
   "cell_type": "code",
   "execution_count": 14,
   "id": "3e144fcd",
   "metadata": {},
   "outputs": [
    {
     "name": "stdout",
     "output_type": "stream",
     "text": [
      "Enter a city name:Jammu\n",
      "['a', 'u']\n",
      "['J', 'm', 'm']\n"
     ]
    }
   ],
   "source": [
    "#Read a city name and store in variable city and extract all the vowels into new list\n",
    "\n",
    "city = input(\"Enter a city name:\")\n",
    "\n",
    "vowels = [ch for ch in city if ch in \"aeiouAEIOU\"]\n",
    "print(vowels)\n",
    "consonants = [ch for ch in city if ch not in \"aeiouAEIOU\"]\n",
    "print(consonants)"
   ]
  },
  {
   "cell_type": "code",
   "execution_count": 15,
   "id": "1e8eaaaa",
   "metadata": {},
   "outputs": [],
   "source": [
    "#Types of Variables => 1.Local Variables   2. Global Variables\n",
    "\n",
    "#                      course = 'Python' => Global variable\n",
    "#                      def function():\n",
    "#                               teaching_mode = 'Online' => Local variable\n",
    "\n",
    "#When a variable is declared inside a function and it's executions are restricted to it's function.\n",
    "#Whichever the variable is declared outside of a function and it's executions are not restricted anywhere in the program"
   ]
  },
  {
   "cell_type": "code",
   "execution_count": 26,
   "id": "7f3b4cb8",
   "metadata": {},
   "outputs": [
    {
     "name": "stdout",
     "output_type": "stream",
     "text": [
      "30\n",
      "Python\n"
     ]
    }
   ],
   "source": [
    "course = 'Python' #Global Variable\n",
    "\n",
    "def func(x,y):\n",
    "    res = x+y   #Local Variable\n",
    "    print(res)\n",
    "    print(course)\n",
    "\n",
    "func(10,20)\n",
    "#Outside the function. => print(course)\n",
    "\n",
    "#Inside of function => print(res) (Cannot be accessed globally)\n",
    "\n"
   ]
  },
  {
   "cell_type": "code",
   "execution_count": 23,
   "id": "54156e1f",
   "metadata": {},
   "outputs": [
    {
     "name": "stdout",
     "output_type": "stream",
     "text": [
      "11\n",
      "44\n"
     ]
    }
   ],
   "source": [
    "x = 10 #Global Variable\n",
    "z = 40 #Global Variable\n",
    "\n",
    "def f1():\n",
    "    x = 11 #Local Variable\n",
    "    y = 33 #Local Variable\n",
    "    print(x)\n",
    "    print(x+y)\n",
    "    \n",
    "#                   => print(x+y) (Cannot be accessed globally)\n",
    "f1();\n",
    "\n",
    "\n",
    "\n",
    "#Global variable and Local variable can be same and when we try to access the local variable and it will give the function based on local memory but not the global variable\n",
    "#If we try to access global variable inside a function we can get access from global memory.\n",
    "#By using globals() function we can refer to global variables inside function\n"
   ]
  },
  {
   "cell_type": "code",
   "execution_count": 31,
   "id": "2a0d41f4",
   "metadata": {},
   "outputs": [
    {
     "name": "stdout",
     "output_type": "stream",
     "text": [
      "505\n",
      "202\n",
      "404\n",
      "<class 'dict'>\n",
      "{'__name__': '__main__', '__doc__': 'Automatically created module for IPython interactive environment', '__package__': None, '__loader__': None, '__spec__': None, '__builtin__': <module 'builtins' (built-in)>, '__builtins__': <module 'builtins' (built-in)>, '_ih': ['', '#List comprhension => It is a concise / an easiest way to create new list from the values of existing list\\n\\nx = [111,222,333,444]\\n\\n#I want to create new list by doubling the elements of x list\\n\\ny = [ele * 2 for ele in x ]\\nprint(y)', '#List comprhension => It is a concise / an easiest way to create new list from the values of existing list\\n\\nx = [111,222,333,444]\\nprint(x)\\n\\n#I want to create new list by doubling the elements of x list\\n\\ny = [ele * 2 for ele in x ]\\nprint(y)', '#List comprhension => It is a concise / an easiest way to create new list from the values of existing list\\n\\nx = [111,222,333,444]\\nprint(x)\\n\\n#I want to create new list by doubling the elements of x list\\n\\ny = [ele * 2 for ele in x ]\\nz = [ele ** 2 for ele in x]\\nprint(y)\\nprint(z)', '#Generate even numbers upto 100 using list comprehension\\n\\neven_list = [i for i in range(0,101,2)]', '#Generate even numbers upto 100 using list comprehension\\n\\neven_list = [i for i in range(0,101,2)]\\nprint(even_list)', '#Copy elements of x into new list which are odd numbers\\n\\nx = [1,31,23,32,26,88,66,144,188,176]\\nodd_numbers = [i %2 !=0 for i in x]\\nprint(odd_numbers)', '#Copy elements of x into new list which are odd numbers\\n\\nx = [1,31,23,32,26,88,66,144,188,176]\\nodd_numbers = [i %2 !==0 for i in x]\\nprint(odd_numbers)', '#Copy elements of x into new list which are odd numbers\\n\\nx = [1,31,23,32,26,88,66,144,188,176]\\nodd_numbers = [i %2 !=0 for i in x]\\nprint(odd_numbers)', '#Copy elements of x into new list which are odd numbers\\n\\nx = [1,31,23,32,26,89,67,147,185,177,68,76,94,54]\\nodd_numbers = [i %2 !=0 for i in x]\\nprint(odd_numbers)', '#Copy elements of x into new list which are odd numbers\\n\\nx = [1,31,23,32,26,89,67,147,185,177,68,76,94,54]\\nodd_numbers = [i %2 !=0 for i in x if i % 2 !=0]\\nprint(odd_numbers)', '#Copy elements of x into new list which are odd numbers\\n\\nx = [1,31,23,32,26,89,67,147,185,177,68,76,94,54]\\nodd_numbers = [i for i in x if i % 2 !=0]\\nprint(odd_numbers)', '#Copy elements of x into new list which are odd numbers\\n\\nx = [1,31,23,32,26,89,67,147,185,177,68,76,94,54]\\nodd_numbers = [i for i in x if i % 2 != 0]\\nprint(odd_numbers)', '#Read a city name and store in variable city and extract all the vowels into new list\\n\\ncity = input(\"Enter a city name:\")\\n\\nvowels = [ch for ch in city if ch in \"aeiouAEIOU\"]\\nprint(vowels)', '#Read a city name and store in variable city and extract all the vowels into new list\\n\\ncity = input(\"Enter a city name:\")\\n\\nvowels = [ch for ch in city if ch in \"aeiouAEIOU\"]\\nprint(vowels)\\nconsonants = [ch for ch in city if ch not in \"aeiouAEIOU\"]\\nprint(consonants)', \"#Types of Variables => 1.Local Variables   2. Global Variables\\n\\n#                      course = 'Python'\", 'x = 10\\nz = 40\\n\\ndef f1(x,y):\\n    x = 11\\n    y = 33\\n    print(x)\\n    print(x+y)\\n\\nf1()', 'x = 10\\nz = 40\\n\\ndef f1(x,y):\\n    x = 11\\n    y = 33\\n    print(x)\\n    print(x+y)\\n\\nf1()', 'x = 10\\nz = 40\\n\\ndef f1(x,y):\\n    x = 11\\n    y = 33\\n    print(x)\\n    print(x+y)\\nf1()', 'x = 10\\nz = 40\\n\\ndef f1(x,y):\\n    x = 11\\n    y = 33\\n    print(x)\\n    print(x+y)\\n    f1()', 'x = 10\\nz = 40\\n\\ndef f1(x,y):\\n    x = 11\\n    y = 33\\n    print(x)\\n    print(x+y)\\n    f1()', 'x = 10\\nz = 40\\n\\ndef f1(x,y):\\n    x = 11\\n    y = 33\\n    print(x)\\n    print(x+y)\\n    \\nf1()', 'x = 10\\nz = 40\\n\\ndef f1(x,y):\\n    x = 11\\n    y = 33\\n    print(x)\\n    print(x+y)\\n    \\nf1();', 'x = 10\\nz = 40\\n\\ndef f1():\\n    x = 11\\n    y = 33\\n    print(x)\\n    print(x+y)\\n    \\nf1();', '#List comprhension => It is a concise / an easiest way to create new list from the values of existing list \\n#                  => It is an easiest and shortest way for creating the list\\n\\nx = [111,222,333,444]\\nprint(x)\\n\\n#I want to create new list by doubling the elements of x list\\n\\ny = [ele * 2 for ele in x ]\\n#\\nz = [ele ** 2 for ele in x]\\nprint(y)\\nprint(z)', \"course = 'Python' #Global Variable\\n\\ndef func(x,y):\\n    res = x+y   #Local Variable\\n    print(res)\\n    print(course)\\n\\nfun(10,20)\", \"course = 'Python' #Global Variable\\n\\ndef func(x,y):\\n    res = x+y   #Local Variable\\n    print(res)\\n    print(course)\\n\\nfunc(10,20)\", \"#When both local and global variable names are same\\n\\nx = 101 #GV\\nz = 404 #GV\\ndef f1():\\n    x = 202\\n    y = 303\\n    print(x+y)\\nprint(x+globals()['x'])\\nprint(z)\\nprint(type(globals()))\\nprint(globals())\", \"#When both local and global variable names are same\\n\\nx = 101 #GV\\nz = 404 #GV\\ndef f1():\\n    x = 202\\n    y = 303\\n    print(x+y)\\nf1()\\nprint(x+globals()['x'])\\nprint(z)\\nprint(type(globals()))\\nprint(globals())\", \"#When both local and global variable names are same\\n\\nx = 101 #GV\\nz = 404 #GV\\ndef f1():\\n    x = 202\\n    y = 303\\n    print(x+y)\\nf1()\\nprint(x+globals(['x'])\\nprint(z)\\nprint(type(globals()))\\nprint(globals())\", \"#When both local and global variable names are same\\n\\nx = 101 #GV\\nz = 404 #GV\\ndef f1():\\n    x = 202\\n    y = 303\\n    print(x+y)\\nf1()\\nprint(x+globals(['x']))\\nprint(z)\\nprint(type(globals()))\\nprint(globals())\", \"#When both local and global variable names are same\\n\\nx = 101 #GV\\nz = 404 #GV\\ndef f1():\\n    x = 202\\n    y = 303\\n    print(x+y)\\nf1()\\nprint(x+globals()['x'])\\nprint(z)\\nprint(type(globals()))\\nprint(globals())\"], '_oh': {}, '_dh': ['C:\\\\Users\\\\santo\\\\Python_Besant'], 'In': ['', '#List comprhension => It is a concise / an easiest way to create new list from the values of existing list\\n\\nx = [111,222,333,444]\\n\\n#I want to create new list by doubling the elements of x list\\n\\ny = [ele * 2 for ele in x ]\\nprint(y)', '#List comprhension => It is a concise / an easiest way to create new list from the values of existing list\\n\\nx = [111,222,333,444]\\nprint(x)\\n\\n#I want to create new list by doubling the elements of x list\\n\\ny = [ele * 2 for ele in x ]\\nprint(y)', '#List comprhension => It is a concise / an easiest way to create new list from the values of existing list\\n\\nx = [111,222,333,444]\\nprint(x)\\n\\n#I want to create new list by doubling the elements of x list\\n\\ny = [ele * 2 for ele in x ]\\nz = [ele ** 2 for ele in x]\\nprint(y)\\nprint(z)', '#Generate even numbers upto 100 using list comprehension\\n\\neven_list = [i for i in range(0,101,2)]', '#Generate even numbers upto 100 using list comprehension\\n\\neven_list = [i for i in range(0,101,2)]\\nprint(even_list)', '#Copy elements of x into new list which are odd numbers\\n\\nx = [1,31,23,32,26,88,66,144,188,176]\\nodd_numbers = [i %2 !=0 for i in x]\\nprint(odd_numbers)', '#Copy elements of x into new list which are odd numbers\\n\\nx = [1,31,23,32,26,88,66,144,188,176]\\nodd_numbers = [i %2 !==0 for i in x]\\nprint(odd_numbers)', '#Copy elements of x into new list which are odd numbers\\n\\nx = [1,31,23,32,26,88,66,144,188,176]\\nodd_numbers = [i %2 !=0 for i in x]\\nprint(odd_numbers)', '#Copy elements of x into new list which are odd numbers\\n\\nx = [1,31,23,32,26,89,67,147,185,177,68,76,94,54]\\nodd_numbers = [i %2 !=0 for i in x]\\nprint(odd_numbers)', '#Copy elements of x into new list which are odd numbers\\n\\nx = [1,31,23,32,26,89,67,147,185,177,68,76,94,54]\\nodd_numbers = [i %2 !=0 for i in x if i % 2 !=0]\\nprint(odd_numbers)', '#Copy elements of x into new list which are odd numbers\\n\\nx = [1,31,23,32,26,89,67,147,185,177,68,76,94,54]\\nodd_numbers = [i for i in x if i % 2 !=0]\\nprint(odd_numbers)', '#Copy elements of x into new list which are odd numbers\\n\\nx = [1,31,23,32,26,89,67,147,185,177,68,76,94,54]\\nodd_numbers = [i for i in x if i % 2 != 0]\\nprint(odd_numbers)', '#Read a city name and store in variable city and extract all the vowels into new list\\n\\ncity = input(\"Enter a city name:\")\\n\\nvowels = [ch for ch in city if ch in \"aeiouAEIOU\"]\\nprint(vowels)', '#Read a city name and store in variable city and extract all the vowels into new list\\n\\ncity = input(\"Enter a city name:\")\\n\\nvowels = [ch for ch in city if ch in \"aeiouAEIOU\"]\\nprint(vowels)\\nconsonants = [ch for ch in city if ch not in \"aeiouAEIOU\"]\\nprint(consonants)', \"#Types of Variables => 1.Local Variables   2. Global Variables\\n\\n#                      course = 'Python'\", 'x = 10\\nz = 40\\n\\ndef f1(x,y):\\n    x = 11\\n    y = 33\\n    print(x)\\n    print(x+y)\\n\\nf1()', 'x = 10\\nz = 40\\n\\ndef f1(x,y):\\n    x = 11\\n    y = 33\\n    print(x)\\n    print(x+y)\\n\\nf1()', 'x = 10\\nz = 40\\n\\ndef f1(x,y):\\n    x = 11\\n    y = 33\\n    print(x)\\n    print(x+y)\\nf1()', 'x = 10\\nz = 40\\n\\ndef f1(x,y):\\n    x = 11\\n    y = 33\\n    print(x)\\n    print(x+y)\\n    f1()', 'x = 10\\nz = 40\\n\\ndef f1(x,y):\\n    x = 11\\n    y = 33\\n    print(x)\\n    print(x+y)\\n    f1()', 'x = 10\\nz = 40\\n\\ndef f1(x,y):\\n    x = 11\\n    y = 33\\n    print(x)\\n    print(x+y)\\n    \\nf1()', 'x = 10\\nz = 40\\n\\ndef f1(x,y):\\n    x = 11\\n    y = 33\\n    print(x)\\n    print(x+y)\\n    \\nf1();', 'x = 10\\nz = 40\\n\\ndef f1():\\n    x = 11\\n    y = 33\\n    print(x)\\n    print(x+y)\\n    \\nf1();', '#List comprhension => It is a concise / an easiest way to create new list from the values of existing list \\n#                  => It is an easiest and shortest way for creating the list\\n\\nx = [111,222,333,444]\\nprint(x)\\n\\n#I want to create new list by doubling the elements of x list\\n\\ny = [ele * 2 for ele in x ]\\n#\\nz = [ele ** 2 for ele in x]\\nprint(y)\\nprint(z)', \"course = 'Python' #Global Variable\\n\\ndef func(x,y):\\n    res = x+y   #Local Variable\\n    print(res)\\n    print(course)\\n\\nfun(10,20)\", \"course = 'Python' #Global Variable\\n\\ndef func(x,y):\\n    res = x+y   #Local Variable\\n    print(res)\\n    print(course)\\n\\nfunc(10,20)\", \"#When both local and global variable names are same\\n\\nx = 101 #GV\\nz = 404 #GV\\ndef f1():\\n    x = 202\\n    y = 303\\n    print(x+y)\\nprint(x+globals()['x'])\\nprint(z)\\nprint(type(globals()))\\nprint(globals())\", \"#When both local and global variable names are same\\n\\nx = 101 #GV\\nz = 404 #GV\\ndef f1():\\n    x = 202\\n    y = 303\\n    print(x+y)\\nf1()\\nprint(x+globals()['x'])\\nprint(z)\\nprint(type(globals()))\\nprint(globals())\", \"#When both local and global variable names are same\\n\\nx = 101 #GV\\nz = 404 #GV\\ndef f1():\\n    x = 202\\n    y = 303\\n    print(x+y)\\nf1()\\nprint(x+globals(['x'])\\nprint(z)\\nprint(type(globals()))\\nprint(globals())\", \"#When both local and global variable names are same\\n\\nx = 101 #GV\\nz = 404 #GV\\ndef f1():\\n    x = 202\\n    y = 303\\n    print(x+y)\\nf1()\\nprint(x+globals(['x']))\\nprint(z)\\nprint(type(globals()))\\nprint(globals())\", \"#When both local and global variable names are same\\n\\nx = 101 #GV\\nz = 404 #GV\\ndef f1():\\n    x = 202\\n    y = 303\\n    print(x+y)\\nf1()\\nprint(x+globals()['x'])\\nprint(z)\\nprint(type(globals()))\\nprint(globals())\"], 'Out': {}, 'get_ipython': <bound method InteractiveShell.get_ipython of <ipykernel.zmqshell.ZMQInteractiveShell object at 0x0000016CC42DD220>>, 'exit': <IPython.core.autocall.ZMQExitAutocall object at 0x0000016CC42DDF10>, 'quit': <IPython.core.autocall.ZMQExitAutocall object at 0x0000016CC42DDF10>, '_': '', '__': '', '___': '', '_i': \"#When both local and global variable names are same\\n\\nx = 101 #GV\\nz = 404 #GV\\ndef f1():\\n    x = 202\\n    y = 303\\n    print(x+y)\\nf1()\\nprint(x+globals(['x']))\\nprint(z)\\nprint(type(globals()))\\nprint(globals())\", '_ii': \"#When both local and global variable names are same\\n\\nx = 101 #GV\\nz = 404 #GV\\ndef f1():\\n    x = 202\\n    y = 303\\n    print(x+y)\\nf1()\\nprint(x+globals(['x'])\\nprint(z)\\nprint(type(globals()))\\nprint(globals())\", '_iii': \"#When both local and global variable names are same\\n\\nx = 101 #GV\\nz = 404 #GV\\ndef f1():\\n    x = 202\\n    y = 303\\n    print(x+y)\\nf1()\\nprint(x+globals()['x'])\\nprint(z)\\nprint(type(globals()))\\nprint(globals())\", '_i1': '#List comprhension => It is a concise / an easiest way to create new list from the values of existing list\\n\\nx = [111,222,333,444]\\n\\n#I want to create new list by doubling the elements of x list\\n\\ny = [ele * 2 for ele in x ]\\nprint(y)', 'x': 101, 'y': [222, 444, 666, 888], '_i2': '#List comprhension => It is a concise / an easiest way to create new list from the values of existing list\\n\\nx = [111,222,333,444]\\nprint(x)\\n\\n#I want to create new list by doubling the elements of x list\\n\\ny = [ele * 2 for ele in x ]\\nprint(y)', '_i3': '#List comprhension => It is a concise / an easiest way to create new list from the values of existing list\\n\\nx = [111,222,333,444]\\nprint(x)\\n\\n#I want to create new list by doubling the elements of x list\\n\\ny = [ele * 2 for ele in x ]\\nz = [ele ** 2 for ele in x]\\nprint(y)\\nprint(z)', 'z': 404, '_i4': '#Generate even numbers upto 100 using list comprehension\\n\\neven_list = [i for i in range(0,101,2)]', 'even_list': [0, 2, 4, 6, 8, 10, 12, 14, 16, 18, 20, 22, 24, 26, 28, 30, 32, 34, 36, 38, 40, 42, 44, 46, 48, 50, 52, 54, 56, 58, 60, 62, 64, 66, 68, 70, 72, 74, 76, 78, 80, 82, 84, 86, 88, 90, 92, 94, 96, 98, 100], '_i5': '#Generate even numbers upto 100 using list comprehension\\n\\neven_list = [i for i in range(0,101,2)]\\nprint(even_list)', '_i6': '#Copy elements of x into new list which are odd numbers\\n\\nx = [1,31,23,32,26,88,66,144,188,176]\\nodd_numbers = [i %2 !=0 for i in x]\\nprint(odd_numbers)', 'odd_numbers': [1, 31, 23, 89, 67, 147, 185, 177], '_i7': '#Copy elements of x into new list which are odd numbers\\n\\nx = [1,31,23,32,26,88,66,144,188,176]\\nodd_numbers = [i %2 !==0 for i in x]\\nprint(odd_numbers)', '_i8': '#Copy elements of x into new list which are odd numbers\\n\\nx = [1,31,23,32,26,88,66,144,188,176]\\nodd_numbers = [i %2 !=0 for i in x]\\nprint(odd_numbers)', '_i9': '#Copy elements of x into new list which are odd numbers\\n\\nx = [1,31,23,32,26,89,67,147,185,177,68,76,94,54]\\nodd_numbers = [i %2 !=0 for i in x]\\nprint(odd_numbers)', '_i10': '#Copy elements of x into new list which are odd numbers\\n\\nx = [1,31,23,32,26,89,67,147,185,177,68,76,94,54]\\nodd_numbers = [i %2 !=0 for i in x if i % 2 !=0]\\nprint(odd_numbers)', '_i11': '#Copy elements of x into new list which are odd numbers\\n\\nx = [1,31,23,32,26,89,67,147,185,177,68,76,94,54]\\nodd_numbers = [i for i in x if i % 2 !=0]\\nprint(odd_numbers)', '_i12': '#Copy elements of x into new list which are odd numbers\\n\\nx = [1,31,23,32,26,89,67,147,185,177,68,76,94,54]\\nodd_numbers = [i for i in x if i % 2 != 0]\\nprint(odd_numbers)', '_i13': '#Read a city name and store in variable city and extract all the vowels into new list\\n\\ncity = input(\"Enter a city name:\")\\n\\nvowels = [ch for ch in city if ch in \"aeiouAEIOU\"]\\nprint(vowels)', 'city': 'Jammu', 'vowels': ['a', 'u'], '_i14': '#Read a city name and store in variable city and extract all the vowels into new list\\n\\ncity = input(\"Enter a city name:\")\\n\\nvowels = [ch for ch in city if ch in \"aeiouAEIOU\"]\\nprint(vowels)\\nconsonants = [ch for ch in city if ch not in \"aeiouAEIOU\"]\\nprint(consonants)', 'consonants': ['J', 'm', 'm'], '_i15': \"#Types of Variables => 1.Local Variables   2. Global Variables\\n\\n#                      course = 'Python'\", '_i16': 'x = 10\\nz = 40\\n\\ndef f1(x,y):\\n    x = 11\\n    y = 33\\n    print(x)\\n    print(x+y)\\n\\nf1()', 'f1': <function f1 at 0x0000016CC6D50D30>, '_i17': 'x = 10\\nz = 40\\n\\ndef f1(x,y):\\n    x = 11\\n    y = 33\\n    print(x)\\n    print(x+y)\\n\\nf1()', '_i18': 'x = 10\\nz = 40\\n\\ndef f1(x,y):\\n    x = 11\\n    y = 33\\n    print(x)\\n    print(x+y)\\nf1()', '_i19': 'x = 10\\nz = 40\\n\\ndef f1(x,y):\\n    x = 11\\n    y = 33\\n    print(x)\\n    print(x+y)\\n    f1()', '_i20': 'x = 10\\nz = 40\\n\\ndef f1(x,y):\\n    x = 11\\n    y = 33\\n    print(x)\\n    print(x+y)\\n    f1()', '_i21': 'x = 10\\nz = 40\\n\\ndef f1(x,y):\\n    x = 11\\n    y = 33\\n    print(x)\\n    print(x+y)\\n    \\nf1()', '_i22': 'x = 10\\nz = 40\\n\\ndef f1(x,y):\\n    x = 11\\n    y = 33\\n    print(x)\\n    print(x+y)\\n    \\nf1();', '_i23': 'x = 10\\nz = 40\\n\\ndef f1():\\n    x = 11\\n    y = 33\\n    print(x)\\n    print(x+y)\\n    \\nf1();', '_i24': '#List comprhension => It is a concise / an easiest way to create new list from the values of existing list \\n#                  => It is an easiest and shortest way for creating the list\\n\\nx = [111,222,333,444]\\nprint(x)\\n\\n#I want to create new list by doubling the elements of x list\\n\\ny = [ele * 2 for ele in x ]\\n#\\nz = [ele ** 2 for ele in x]\\nprint(y)\\nprint(z)', '_i25': \"course = 'Python' #Global Variable\\n\\ndef func(x,y):\\n    res = x+y   #Local Variable\\n    print(res)\\n    print(course)\\n\\nfun(10,20)\", 'course': 'Python', 'func': <function func at 0x0000016CC6DA9F70>, '_i26': \"course = 'Python' #Global Variable\\n\\ndef func(x,y):\\n    res = x+y   #Local Variable\\n    print(res)\\n    print(course)\\n\\nfunc(10,20)\", '_i27': \"#When both local and global variable names are same\\n\\nx = 101 #GV\\nz = 404 #GV\\ndef f1():\\n    x = 202\\n    y = 303\\n    print(x+y)\\nprint(x+globals()['x'])\\nprint(z)\\nprint(type(globals()))\\nprint(globals())\", '_i28': \"#When both local and global variable names are same\\n\\nx = 101 #GV\\nz = 404 #GV\\ndef f1():\\n    x = 202\\n    y = 303\\n    print(x+y)\\nf1()\\nprint(x+globals()['x'])\\nprint(z)\\nprint(type(globals()))\\nprint(globals())\", '_i29': \"#When both local and global variable names are same\\n\\nx = 101 #GV\\nz = 404 #GV\\ndef f1():\\n    x = 202\\n    y = 303\\n    print(x+y)\\nf1()\\nprint(x+globals(['x'])\\nprint(z)\\nprint(type(globals()))\\nprint(globals())\", '_i30': \"#When both local and global variable names are same\\n\\nx = 101 #GV\\nz = 404 #GV\\ndef f1():\\n    x = 202\\n    y = 303\\n    print(x+y)\\nf1()\\nprint(x+globals(['x']))\\nprint(z)\\nprint(type(globals()))\\nprint(globals())\", '_i31': \"#When both local and global variable names are same\\n\\nx = 101 #GV\\nz = 404 #GV\\ndef f1():\\n    x = 202\\n    y = 303\\n    print(x+y)\\nf1()\\nprint(x+globals()['x'])\\nprint(z)\\nprint(type(globals()))\\nprint(globals())\"}\n"
     ]
    }
   ],
   "source": [
    "#When both local and global variable names are same\n",
    "\n",
    "x = 101 #GV\n",
    "z = 404 #GV\n",
    "def f1():\n",
    "    x = 202\n",
    "    y = 303\n",
    "    print(x+y)\n",
    "f1()\n",
    "print(x+globals()['x'])\n",
    "print(z)\n",
    "print(type(globals()))\n",
    "print(globals())"
   ]
  },
  {
   "cell_type": "code",
   "execution_count": null,
   "id": "c7ab68f6",
   "metadata": {},
   "outputs": [],
   "source": []
  }
 ],
 "metadata": {
  "kernelspec": {
   "display_name": "Python 3 (ipykernel)",
   "language": "python",
   "name": "python3"
  },
  "language_info": {
   "codemirror_mode": {
    "name": "ipython",
    "version": 3
   },
   "file_extension": ".py",
   "mimetype": "text/x-python",
   "name": "python",
   "nbconvert_exporter": "python",
   "pygments_lexer": "ipython3",
   "version": "3.9.13"
  }
 },
 "nbformat": 4,
 "nbformat_minor": 5
}

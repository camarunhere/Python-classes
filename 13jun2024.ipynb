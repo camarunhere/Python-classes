{
 "cells": [
  {
   "cell_type": "code",
   "execution_count": null,
   "id": "51a085e1",
   "metadata": {},
   "outputs": [],
   "source": [
    "\"\"\"\n",
    "Loop ==> Loops are used to execute piece of code repeatedly.\n",
    "\n",
    "Rules for creating loops logic\n",
    "\n",
    "a.Every loop should have Initialization part => Decided based on starting output/initial output\n",
    "b.Condition => is Decided based on ending output\n",
    "c.Increment / Decrement part => It is decided based on the output pattern i.e., Ascending or Descending order\n",
    "\n",
    "\n",
    "\n",
    "1.While loop =>\n",
    "        Syntax: while Expression / Condition:\n",
    "                                statement(s)\n",
    "\n",
    "\n",
    "\"\"\"\n",
    "#I want to print 1 to 10 using while loop\n",
    "\n",
    "x = 1   # initial_value\n",
    "\n",
    " while x <= 10:\n",
    "        print(x)\n",
    "        x= x+1\n",
    "\n",
    "\"\"\"\n",
    "\n",
    "for loop : It is used for iterating sequences\n",
    "syntax : for iterating_variable in sequence_name:\n",
    "                        statement(s)\n",
    "\n",
    "\"\"\"\n",
    "\n",
    "x=[10,20,30,40,50]\n",
    "\n",
    "for ele in x :\n",
    "    print(ele)\n"
   ]
  },
  {
   "cell_type": "code",
   "execution_count": null,
   "id": "ac983878",
   "metadata": {},
   "outputs": [],
   "source": []
  },
  {
   "cell_type": "code",
   "execution_count": 1,
   "id": "87da21a2",
   "metadata": {},
   "outputs": [
    {
     "name": "stdout",
     "output_type": "stream",
     "text": [
      "1\n",
      "2\n",
      "3\n",
      "4\n",
      "5\n",
      "6\n",
      "7\n",
      "8\n",
      "9\n",
      "10\n"
     ]
    }
   ],
   "source": [
    "x = 1\n",
    "\n",
    "while x <=10:\n",
    "    print(x)\n",
    "    x = x+1"
   ]
  },
  {
   "cell_type": "code",
   "execution_count": 4,
   "id": "a980a5ee",
   "metadata": {},
   "outputs": [
    {
     "name": "stdout",
     "output_type": "stream",
     "text": [
      "100\n",
      "200\n",
      "300\n",
      "400\n",
      "500\n"
     ]
    }
   ],
   "source": [
    "x = [100,200,300,400,500]\n",
    "\n",
    "\n",
    "i = 0\n",
    "\n",
    "\n",
    "while i<=4:\n",
    "    print(x[i])\n",
    "    i+=1"
   ]
  },
  {
   "cell_type": "code",
   "execution_count": 10,
   "id": "a81bbd23",
   "metadata": {},
   "outputs": [
    {
     "name": "stdout",
     "output_type": "stream",
     "text": [
      "100\n",
      "200\n",
      "300\n",
      "400\n",
      "500\n",
      "600\n",
      "700\n"
     ]
    }
   ],
   "source": [
    "#Displaying elements based on the length of list or array\n",
    "\n",
    "x = [100,200,300,400,500,600,700]\n",
    "\n",
    "\n",
    "i = 0\n",
    "\n",
    "\n",
    "while i<len(x):\n",
    "#while i<=len(x)-1:\n",
    "    print(x[i])\n",
    "    i+=1"
   ]
  },
  {
   "cell_type": "code",
   "execution_count": 9,
   "id": "985d43e6",
   "metadata": {},
   "outputs": [
    {
     "name": "stdout",
     "output_type": "stream",
     "text": [
      "700\n",
      "600\n",
      "500\n",
      "400\n",
      "300\n",
      "200\n",
      "100\n"
     ]
    }
   ],
   "source": [
    "#Displaying elements in reverse order\n",
    "x = [100,200,300,400,500,600,700]\n",
    "\n",
    "\n",
    "i = len(x)-1\n",
    "\n",
    "\n",
    "while i>=0:\n",
    "    print(x[i])\n",
    "    i-=1"
   ]
  },
  {
   "cell_type": "code",
   "execution_count": 12,
   "id": "d923ff5c",
   "metadata": {},
   "outputs": [
    {
     "name": "stdout",
     "output_type": "stream",
     "text": [
      "10\n",
      "20\n",
      "30\n",
      "40\n",
      "50\n",
      "60\n",
      "70\n"
     ]
    }
   ],
   "source": [
    "x=[10,20,30,40,50,60,70]\n",
    "\n",
    "for ele in x :\n",
    "    print(ele)"
   ]
  },
  {
   "cell_type": "code",
   "execution_count": 1,
   "id": "9f82a26d",
   "metadata": {},
   "outputs": [
    {
     "name": "stdout",
     "output_type": "stream",
     "text": [
      "10, 20, 30, 40, 50, 60, 70, "
     ]
    }
   ],
   "source": [
    "x=(10,20,30,40,50,60,70)\n",
    "\n",
    "for ele in x :\n",
    "    print(ele,end = ', ')"
   ]
  },
  {
   "cell_type": "code",
   "execution_count": 18,
   "id": "79f89566",
   "metadata": {},
   "outputs": [
    {
     "name": "stdout",
     "output_type": "stream",
     "text": [
      "50, 20, 70, 40, 10, 60, 30, "
     ]
    }
   ],
   "source": [
    "x={10,20,30,40,50,60,70}\n",
    "\n",
    "for ele in x :\n",
    "    print(ele,end = ', ')"
   ]
  },
  {
   "cell_type": "code",
   "execution_count": 21,
   "id": "03078d42",
   "metadata": {},
   "outputs": [
    {
     "name": "stdout",
     "output_type": "stream",
     "text": [
      "P,y,t,h,o,n, ,i,s, ,a,n, ,E,a,s,y, ,P,r,o,g,r,a,m,m,i,n,g, ,l,a,n,g,u,a,g,e,"
     ]
    }
   ],
   "source": [
    "s= 'Python is an Easy Programming language'\n",
    "\n",
    "for ch in s:\n",
    "    print(ch, end = ',')"
   ]
  },
  {
   "cell_type": "code",
   "execution_count": 22,
   "id": "05003e64",
   "metadata": {},
   "outputs": [
    {
     "name": "stdout",
     "output_type": "stream",
     "text": [
      "0\n",
      "1\n",
      "2\n",
      "3\n",
      "4\n",
      "5\n",
      "6\n",
      "7\n",
      "8\n",
      "9\n"
     ]
    }
   ],
   "source": [
    "for i in range (10):\n",
    "    print(i)"
   ]
  },
  {
   "cell_type": "code",
   "execution_count": 34,
   "id": "7dd0189b",
   "metadata": {},
   "outputs": [
    {
     "name": "stdout",
     "output_type": "stream",
     "text": [
      "777\n",
      "666\n",
      "555\n",
      "444\n",
      "333\n",
      "222\n",
      "111\n"
     ]
    }
   ],
   "source": [
    "##In 2 ways we can access elements from sequences using for loop\n",
    "\n",
    "#1. Using Sequence name directly in for loop\n",
    "    #Limitations => * We cannot access the elements in the reverse order\n",
    "                #   * We cannot skip elements as we require\n",
    "                #   * We cannot get the indexed numbers of the part of a sequence\n",
    "#2. Using Index Numbers in for loop\n",
    "x = [111,222,333,444,555,666,777]\n",
    "\n",
    "#print elements 555, 444, 333, 222, 111\n",
    "\n",
    "for i in range(len(x)-1,-1,-1):\n",
    "    print(x[i])"
   ]
  },
  {
   "cell_type": "code",
   "execution_count": 33,
   "id": "d45471f4",
   "metadata": {},
   "outputs": [
    {
     "name": "stdout",
     "output_type": "stream",
     "text": [
      "111\n",
      "333\n",
      "555\n",
      "777\n"
     ]
    }
   ],
   "source": [
    "x = [111,222,333,444,555,666,777]\n",
    "\n",
    "#print elements  111, 333, 555, 777.\n",
    "\n",
    "for i in range(0,len(x),2):\n",
    "    print(x[i])"
   ]
  },
  {
   "cell_type": "code",
   "execution_count": null,
   "id": "1ad71085",
   "metadata": {},
   "outputs": [],
   "source": []
  }
 ],
 "metadata": {
  "kernelspec": {
   "display_name": "Python 3 (ipykernel)",
   "language": "python",
   "name": "python3"
  },
  "language_info": {
   "codemirror_mode": {
    "name": "ipython",
    "version": 3
   },
   "file_extension": ".py",
   "mimetype": "text/x-python",
   "name": "python",
   "nbconvert_exporter": "python",
   "pygments_lexer": "ipython3",
   "version": "3.9.13"
  }
 },
 "nbformat": 4,
 "nbformat_minor": 5
}

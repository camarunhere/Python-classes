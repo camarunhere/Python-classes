{
 "cells": [
  {
   "cell_type": "code",
   "execution_count": 12,
   "id": "1e899c10",
   "metadata": {},
   "outputs": [
    {
     "name": "stdout",
     "output_type": "stream",
     "text": [
      "Give a Positive Integer:90\n",
      "[2, 4, 6, 8, 10, 12, 14, 16, 18, 20, 22, 24, 26, 28, 30, 32, 34, 36, 38, 40, 42, 44, 46, 48, 50, 52, 54, 56, 58, 60, 62, 64, 66, 68, 70, 72, 74, 76, 78, 80, 82, 84, 86, 88, 90]\n"
     ]
    }
   ],
   "source": [
    "l1=[]\n",
    "i=int(input('Give a Positive Integer:'))\n",
    "if (i>0):\n",
    "    for i in range(2,i+1):\n",
    "        if (i%2==0):\n",
    "            l1.append(i)\n",
    "    print(l1) \n",
    "else :\n",
    "    print('Integer should be positive')\n",
    "    "
   ]
  },
  {
   "cell_type": "code",
   "execution_count": 33,
   "id": "6603dd7f",
   "metadata": {},
   "outputs": [
    {
     "name": "stdout",
     "output_type": "stream",
     "text": [
      "Enter a Number to check whether it is a prime or not:9\n",
      "It is a prime number\n",
      "It is not a prime number\n"
     ]
    }
   ],
   "source": [
    "n=int(input('Enter a Number to check whether it is a prime or not:'))\n",
    "c=0\n",
    "if n<=1:\n",
    "    print('Not a prime or less than one')\n",
    "for i in range(2,n):\n",
    "    \n",
    "    if n%i==0:\n",
    "        c+=1\n",
    "    if c==0:\n",
    "        print('It is a prime number')\n",
    "else:\n",
    "    print('It is not a prime number')"
   ]
  },
  {
   "cell_type": "code",
   "execution_count": 34,
   "id": "061f723f",
   "metadata": {},
   "outputs": [
    {
     "name": "stdout",
     "output_type": "stream",
     "text": [
      "Enter a Number to check whether it is a prime or not:9\n",
      "It is not a prime number\n"
     ]
    }
   ],
   "source": [
    "n=int(input('Enter a Number to check whether it is a prime or not:'))\n",
    "c=0\n",
    "if n<=1:\n",
    "    print('Not a prime or less than one')\n",
    "for i in range (2,n):\n",
    "    if n%i==0:\n",
    "        c+=1\n",
    "if c==0:\n",
    "        print('It is a prime number')\n",
    "else:\n",
    "        print('It is not a prime number')"
   ]
  },
  {
   "cell_type": "code",
   "execution_count": 29,
   "id": "4c2080eb",
   "metadata": {},
   "outputs": [
    {
     "name": "stdout",
     "output_type": "stream",
     "text": [
      "Enter a Palindrome:hero\n",
      "Not a Palindrome\n"
     ]
    }
   ],
   "source": [
    "n=str(input('Enter to check whether the word is Palindrome:'))\n",
    "if n==n[::-1]:\n",
    "        print('It is a Palindrome')\n",
    "else :\n",
    "        print('Not a Palindrome')"
   ]
  },
  {
   "cell_type": "code",
   "execution_count": 12,
   "id": "a8602ea0",
   "metadata": {},
   "outputs": [
    {
     "name": "stdout",
     "output_type": "stream",
     "text": [
      "Enter a number to check whether it is less than or greater than 10  :  99\n",
      "Number is greater than 10\n"
     ]
    }
   ],
   "source": [
    "n=int(input('Enter a number to check whether it is less than or greater than 10  :  '))\n",
    "if n>10:\n",
    "    print('Number is greater than 10')\n",
    "elif n<10:\n",
    "    print('Number is lesser than 10')\n",
    "else :\n",
    "    print('Number is equalto 10')"
   ]
  },
  {
   "cell_type": "code",
   "execution_count": 3,
   "id": "956bba85",
   "metadata": {},
   "outputs": [
    {
     "name": "stdout",
     "output_type": "stream",
     "text": [
      "1\n",
      "Learning while loop\n",
      "2\n",
      "Learning while loop\n",
      "3\n",
      "Learning while loop\n",
      "4\n",
      "Learning while loop\n",
      "loop ends\n"
     ]
    }
   ],
   "source": [
    "i=1\n",
    "while (i<5):\n",
    "    print(i)\n",
    "    print('Learning while loop')\n",
    "    i=i+1\n",
    "print('loop ends')"
   ]
  },
  {
   "cell_type": "code",
   "execution_count": 5,
   "id": "5aa259b0",
   "metadata": {},
   "outputs": [
    {
     "name": "stdout",
     "output_type": "stream",
     "text": [
      "1\n",
      "learning for loop\n",
      "2\n",
      "learning for loop\n",
      "3\n",
      "learning for loop\n",
      "4\n",
      "learning for loop\n",
      "loop ends\n"
     ]
    }
   ],
   "source": [
    "for i in range (1,5):\n",
    "    print(i)\n",
    "    print(\"learning for loop\")\n",
    "print('loop ends')"
   ]
  },
  {
   "cell_type": "code",
   "execution_count": 13,
   "id": "b0eca84f",
   "metadata": {},
   "outputs": [],
   "source": [
    "###PRACTICE"
   ]
  },
  {
   "cell_type": "code",
   "execution_count": 21,
   "id": "3ee53de0",
   "metadata": {},
   "outputs": [
    {
     "name": "stdout",
     "output_type": "stream",
     "text": [
      "Enter any Positive Integer:10\n",
      "[2, 4, 6, 8, 10]\n"
     ]
    }
   ],
   "source": [
    "l1=[]\n",
    "n=int(input(\"Enter any Positive Integer:\"))\n",
    "if (n>0):\n",
    "    for i in range(2,n+1):\n",
    "        if (i%2==0):\n",
    "            l1.append(i)\n",
    "    print(l1)\n",
    "else:\n",
    "    print(\"Number must be positve \")"
   ]
  },
  {
   "cell_type": "code",
   "execution_count": 27,
   "id": "3e2e45ac",
   "metadata": {},
   "outputs": [
    {
     "name": "stdout",
     "output_type": "stream",
     "text": [
      "Enter any number to check whether it is prime or not:  8\n",
      "It is not Prime\n",
      "It is not Prime\n"
     ]
    }
   ],
   "source": [
    "n=int(input(\"Enter any number to check whether it is prime or not:  \"))\n",
    "if (n>0):\n",
    "    if(n<=1):\n",
    "        print('It is not a PrimeNumber')\n",
    "    for i in range(2,n):\n",
    "        if n%i==0:\n",
    "           print('It is not Prime')\n",
    "else:\n",
    "    print('It is prime')\n"
   ]
  },
  {
   "cell_type": "code",
   "execution_count": 36,
   "id": "8c9c5305",
   "metadata": {},
   "outputs": [
    {
     "name": "stdout",
     "output_type": "stream",
     "text": [
      "Enter a word to check whether it is a Palindrome:malayalam\n",
      "The entered word is a Palindrome\n"
     ]
    }
   ],
   "source": [
    "n=str(input(\"Enter a word to check whether it is a Palindrome:\"))\n",
    "if n==n[::-1]:\n",
    "    print(\"The entered word is a Palindrome\")\n",
    "else :\n",
    "    print(\"The entered word is not a Palindrome\")\n",
    "\n"
   ]
  },
  {
   "cell_type": "code",
   "execution_count": 40,
   "id": "04ed779d",
   "metadata": {},
   "outputs": [
    {
     "name": "stdout",
     "output_type": "stream",
     "text": [
      "Enter a number to check whether it is greater than 10 or not:  11\n",
      "This number is Greater than 10\n"
     ]
    }
   ],
   "source": [
    "n=int(input(\"Enter a number to check whether it is greater than 10 or not:  \"))\n",
    "if n>10:\n",
    "    print(\"This number is Greater than 10\")\n",
    "elif n<10:\n",
    "        print(\"This number is Lesser than 10\")\n",
    "else:\n",
    "    print(\"The number is equal to 10\")"
   ]
  },
  {
   "cell_type": "code",
   "execution_count": null,
   "id": "6f5bbecf",
   "metadata": {},
   "outputs": [],
   "source": []
  }
 ],
 "metadata": {
  "kernelspec": {
   "display_name": "Python 3 (ipykernel)",
   "language": "python",
   "name": "python3"
  },
  "language_info": {
   "codemirror_mode": {
    "name": "ipython",
    "version": 3
   },
   "file_extension": ".py",
   "mimetype": "text/x-python",
   "name": "python",
   "nbconvert_exporter": "python",
   "pygments_lexer": "ipython3",
   "version": "3.9.13"
  }
 },
 "nbformat": 4,
 "nbformat_minor": 5
}

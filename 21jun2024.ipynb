{
 "cells": [
  {
   "cell_type": "code",
   "execution_count": 5,
   "id": "7742885f",
   "metadata": {},
   "outputs": [
    {
     "name": "stdout",
     "output_type": "stream",
     "text": [
      "doing_surgery\n"
     ]
    }
   ],
   "source": [
    "class Doctor:\n",
    "    def do_surgery(self):\n",
    "        print(\"doing_surgery\")\n",
    "\n",
    "d1 = Doctor()\n",
    "\n",
    "d1.do_surgery()"
   ]
  },
  {
   "cell_type": "code",
   "execution_count": 8,
   "id": "0a75f02b",
   "metadata": {},
   "outputs": [
    {
     "name": "stdout",
     "output_type": "stream",
     "text": [
      "Name of the Patient:  Viraj\n",
      "Age of the Patient:  27\n",
      "Doing surgery\n"
     ]
    }
   ],
   "source": [
    "class Doctor:\n",
    "    def do_surgery(self,name,age):\n",
    "        print(\"Name of the Patient: \",name)\n",
    "        print(\"Age of the Patient: \", age)\n",
    "        print(\"Doing surgery\")\n",
    "\n",
    "d1 = Doctor()\n",
    "\n",
    "d1.do_surgery(\"Viraj\",27)"
   ]
  },
  {
   "cell_type": "code",
   "execution_count": 10,
   "id": "460f8ec1",
   "metadata": {},
   "outputs": [
    {
     "name": "stdout",
     "output_type": "stream",
     "text": [
      "I am an init method\n",
      "I am an init method\n"
     ]
    }
   ],
   "source": [
    "class PythonDeveloper:\n",
    "    def __init__(self):\n",
    "        print(\"I am an init method\")\n",
    "PD1 = PythonDeveloper()\n",
    "PD2 = PythonDeveloper()"
   ]
  },
  {
   "cell_type": "code",
   "execution_count": 14,
   "id": "b3098f3a",
   "metadata": {},
   "outputs": [
    {
     "name": "stdout",
     "output_type": "stream",
     "text": [
      "EID:  53\n",
      "Name:  Banner\n",
      "Dept:  Avenger\n",
      "EID:  131\n",
      "Name:  BatMan\n",
      "Dept:  Justice League\n"
     ]
    }
   ],
   "source": [
    "class PythonDeveloper:\n",
    "    def __init__(self,EID,Name,Dept):\n",
    "        print(\"EID: \",EID)\n",
    "        print(\"Name: \",Name)\n",
    "        print(\"Dept: \",Dept)\n",
    "        \n",
    "PD1 = PythonDeveloper(53,\"Banner\",\"Avenger\")\n",
    "PD2 = PythonDeveloper(131,\"BatMan\",\"Justice League\")"
   ]
  },
  {
   "cell_type": "code",
   "execution_count": 17,
   "id": "670aab01",
   "metadata": {},
   "outputs": [
    {
     "name": "stdout",
     "output_type": "stream",
     "text": [
      "2372694629392\n",
      "EID:  53\n",
      "Name:  Banner\n",
      "Dept:  Avenger\n",
      "2372694629392\n",
      "2372694629872\n",
      "EID:  131\n",
      "Name:  BatMan\n",
      "Dept:  Justice League\n",
      "2372694629872\n"
     ]
    }
   ],
   "source": [
    "class PythonDeveloper:\n",
    "    def __init__(self,EID,Name,Dept):\n",
    "        print(id(self))\n",
    "        print(\"EID: \",EID)\n",
    "        print(\"Name: \",Name)\n",
    "        print(\"Dept: \",Dept)\n",
    "        \n",
    "PD1 = PythonDeveloper(53,\"Banner\",\"Avenger\")\n",
    "print(id(PD1))\n",
    "PD2 = PythonDeveloper(131,\"BatMan\",\"Justice League\")\n",
    "print(id(PD2))"
   ]
  },
  {
   "cell_type": "code",
   "execution_count": null,
   "id": "f313f775",
   "metadata": {},
   "outputs": [],
   "source": []
  }
 ],
 "metadata": {
  "kernelspec": {
   "display_name": "Python 3 (ipykernel)",
   "language": "python",
   "name": "python3"
  },
  "language_info": {
   "codemirror_mode": {
    "name": "ipython",
    "version": 3
   },
   "file_extension": ".py",
   "mimetype": "text/x-python",
   "name": "python",
   "nbconvert_exporter": "python",
   "pygments_lexer": "ipython3",
   "version": "3.9.13"
  }
 },
 "nbformat": 4,
 "nbformat_minor": 5
}
